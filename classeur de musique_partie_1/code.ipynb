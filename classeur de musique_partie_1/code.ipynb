{
 "cells": [
  {
   "cell_type": "markdown",
   "metadata": {},
   "source": [
    "![](jupyter_images/music_image.jpeg)"
   ]
  },
  {
   "cell_type": "markdown",
   "metadata": {},
   "source": [
    "# Introduction\n",
    "Des milliers de chansons voient le jour tous les ans dans le monde. Certaines connaissent de vrais succès dans l’industrie musicale ; d’autres le sont moins. Il est un fait que réussir dans cette industrie demeure une tâche difficile. Investir dans la production d’une chanson requiert des activités diversifiées et peuvent consommer beaucoup de ressources. Il n’y a aucun outil jusque-là automatique dont les artistes et producteurs pourraient s'en servir pour évaluer si leur chanson qu’ils sont sur le point de publier va se révéler 'hit’.\n",
    "\n",
    "Dans cet article, on cherchera à comprendre ce qui caractérise une chanson populaire, et plus précisement si l'on pourrait prédire la popularité d'une chanson seulement en nous basant sur ses caractéristiques d'audio et celles de l'artiste. Nous allons construire un modèle-classeur de machine learning pouvant classer une chanson en hit ou non-hit. Bien que des facteurs sociaux comme le contexte dans lequel la chanson a été diffusée, la démographie de ses auditeurs et l'effectivité de sa campagne de marketing peuvent tout aussi bien jouer un rôle important dans sa viralité, nous emettons l'hypothèse que les caractéristiques inhérentes à une chanson, tels que l'artiste qui l'interprète, sa duréee, ses caractéristiques d'audio peuvent être correlés et également révélateur de sa viralité.\n"
   ]
  },
  {
   "cell_type": "markdown",
   "metadata": {},
   "source": [
    "# Objectif et pipeline\n",
    "\n",
    "Dans cet article de deux parties, nous allons construire un modèle de machine learning comme un classeur de chansons en hits et non-hits. Pour réussir un tel travail, plus nous avons de données, mieux c'est. Etant donné qu’on n'a pas pu trouver un dataset venant d’une seule et unique source avec toutes les variables, il nous a fallu recourir au data enrichment à mesure que cela ait été nécessaire. Nous avons eu besoin de trois sources pour construire notre jeu de données. Et  l'opération de recueillement s'est déroulée de la manière suivante :\n",
    "-\t<u> Billboard </u> : On s'est servi de la page Wikipédia de [Bilboard Year-End Hot 100](https://en.wikipedia.org/wiki/Billboard_Year-End_Hot_100_singles_of_2019) pour recueillir les musiques les plus populaires (hits) pour les années allant de 2010 à 2019. On a utilisé le web scrapping pour accomplir cette tâche.\n",
    "\n",
    "\n",
    "-   <u> Spotify </u>: Ensuite on a utilisé la librairie [Spotipy](https://spotipy.readthedocs.io/en/2.12.0/) pour récupérer les caractéristiques relatives à l’audio tels que la dansabilité, la vivacité, l'instrumentalité, etc. et à l’artiste comme la popularité, le nombre de followers etc. à la fois des chansons hits provenant du Billboard Year-End Hot 100 et d'autres chansons non-hits sur la période.\n",
    "\n",
    "\n",
    "-\t<u> LyricsOnDemand </u>: Enfin [Genius](https://genius.com/) sera utilisé principalement pour récupérer les paroles des chansons.\n",
    "\n",
    "On considère qu’une musique de notre dataset est hit si elle a fait partie du classement du Billboard Year-End Hot 100 au moins une fois pendant l’une des années sur la période considérée. En d'autres termes, notre modèle aura pour mission de prédire si une chanson fera partie de la liste des 100 musiques les plus populaires de Bilboard ou non.\n",
    "\n",
    "\n",
    "##### Outils:\n",
    "- Le package Spotipy pour accéder aux données de la plateforme musicale de Spotify\n",
    "- Seaborn et matplotlib pour la visualisation des données\n",
    "- Pandas et numpy pour l'analyse des données\n",
    "- Le framework LightGBM et la librarie scikit-learn pour la construction et l'évaluation du modèle \n",
    "\n"
   ]
  },
  {
   "cell_type": "markdown",
   "metadata": {},
   "source": [
    "# Construction du jeu de données"
   ]
  },
  {
   "cell_type": "markdown",
   "metadata": {},
   "source": [
    "![](jupyter_images/classeur_partie_1_pipeline_.jpg)"
   ]
  },
  {
   "cell_type": "markdown",
   "metadata": {},
   "source": [
    "Avant de commencer le scrapping, il faut rappeler que j'utilise la version 3.8.2 de Python et via [pip](https://pypi.org/project/pip/), tous les packages nécessaires au projet sont déjà installés.\n",
    "\n",
    "Comme mentionné dans le workflow, la première étape sera de scrapper le site web de [Billboard Year-End Hot 100](https://en.wikipedia.org/wiki/Billboard_Year-End_Hot_100_singles_of_2019). La première chose à faire pour réussir cette tâche est d'importer les packages suivants :"
   ]
  },
  {
   "cell_type": "code",
   "execution_count": 47,
   "metadata": {},
   "outputs": [],
   "source": [
    "import requests\n",
    "from bs4 import BeautifulSoup as bs\n",
    "import pandas as pd"
   ]
  },
  {
   "cell_type": "markdown",
   "metadata": {},
   "source": [
    "En inspectant la *table* à scraper à partir de la console du developeur, on remarquera qu'elle est de classe *wikitable sortable jquery-tablesorter*. A présent nous pouvons recueillir les chansons pour une année et répéter le processus jusqu'à la dernière. Ainsi, nous executons les lignes de code suivants :"
   ]
  },
  {
   "cell_type": "code",
   "execution_count": 48,
   "metadata": {},
   "outputs": [],
   "source": [
    "info_array=[]\n",
    "for i in range(2010,2020,1):\n",
    "    url='https://en.wikipedia.org/wiki/Billboard_Year-End_Hot_100_singles_of_'+str(i)\n",
    "    res = requests.get(url).text\n",
    "    soup=bs(res,'html.parser')\n",
    "\n",
    "    table = soup.find(\"table\", class_= 'wikitable sortable')\n",
    "    table_body = table.find('tbody')\n",
    "    rows = table_body.find_all('tr')\n",
    "\n",
    "    for row in rows:\n",
    "        try:\n",
    "            cols = row.find_all('td')\n",
    "            cols = [element.text.strip() for element in cols]\n",
    "            info_array.append([ cols[0].replace('\"', ''), cols[1]])\n",
    "        except:\n",
    "            pass\n"
   ]
  },
  {
   "cell_type": "markdown",
   "metadata": {},
   "source": [
    "Ensuite nous convertissons cet *array* en une *dataframe* et visualize les cinq premières observations."
   ]
  },
  {
   "cell_type": "code",
   "execution_count": 49,
   "metadata": {},
   "outputs": [
    {
     "data": {
      "text/html": [
       "<div>\n",
       "<style scoped>\n",
       "    .dataframe tbody tr th:only-of-type {\n",
       "        vertical-align: middle;\n",
       "    }\n",
       "\n",
       "    .dataframe tbody tr th {\n",
       "        vertical-align: top;\n",
       "    }\n",
       "\n",
       "    .dataframe thead th {\n",
       "        text-align: right;\n",
       "    }\n",
       "</style>\n",
       "<table border=\"1\" class=\"dataframe\">\n",
       "  <thead>\n",
       "    <tr style=\"text-align: right;\">\n",
       "      <th></th>\n",
       "      <th>track_name</th>\n",
       "      <th>artists_name</th>\n",
       "    </tr>\n",
       "  </thead>\n",
       "  <tbody>\n",
       "    <tr>\n",
       "      <th>0</th>\n",
       "      <td>Tik Tok</td>\n",
       "      <td>Kesha</td>\n",
       "    </tr>\n",
       "    <tr>\n",
       "      <th>1</th>\n",
       "      <td>Need You Now</td>\n",
       "      <td>Lady Antebellum</td>\n",
       "    </tr>\n",
       "    <tr>\n",
       "      <th>2</th>\n",
       "      <td>Hey, Soul Sister</td>\n",
       "      <td>Train</td>\n",
       "    </tr>\n",
       "    <tr>\n",
       "      <th>3</th>\n",
       "      <td>California Gurls</td>\n",
       "      <td>Katy Perry featuring Snoop Dogg</td>\n",
       "    </tr>\n",
       "    <tr>\n",
       "      <th>4</th>\n",
       "      <td>OMG</td>\n",
       "      <td>Usher featuring will.i.am</td>\n",
       "    </tr>\n",
       "  </tbody>\n",
       "</table>\n",
       "</div>"
      ],
      "text/plain": [
       "         track_name                     artists_name\n",
       "0           Tik Tok                            Kesha\n",
       "1      Need You Now                  Lady Antebellum\n",
       "2  Hey, Soul Sister                            Train\n",
       "3  California Gurls  Katy Perry featuring Snoop Dogg\n",
       "4               OMG        Usher featuring will.i.am"
      ]
     },
     "execution_count": 49,
     "metadata": {},
     "output_type": "execute_result"
    }
   ],
   "source": [
    "df1 = pd.DataFrame(info_array)\n",
    "df1.columns=[\"track_name\", \"artists_name\"]\n",
    "df1.head()"
   ]
  },
  {
   "cell_type": "markdown",
   "metadata": {},
   "source": [
    "1 000 chansons ont été recupérées. Mais étant donné qu'il est possible qu'une chanson fasse partie de la liste pendant plusieurs années, il nous faudra donc enlever les possibles duplications."
   ]
  },
  {
   "cell_type": "code",
   "execution_count": 50,
   "metadata": {},
   "outputs": [
    {
     "data": {
      "text/plain": [
       "(905, 2)"
      ]
     },
     "execution_count": 50,
     "metadata": {},
     "output_type": "execute_result"
    }
   ],
   "source": [
    "df1 = df1.drop_duplicates()\n",
    "df1.shape"
   ]
  },
  {
   "cell_type": "markdown",
   "metadata": {},
   "source": [
    "Il est a noter que certains noms d'artiste contienent le mot *featuring*, attestant généralement que la chanson est un produit issu d'une collaboration entre deux artistes de groupes differents. Nous allons créer une nouvelle variable *dummy* prenant la valeur de 1 si la chanson est issue d'une collaboaration, i.e si le mot *featuring* est présent dans la colonne artists_name, et 0 sinon. Nous profiterons de l'occasion pour stocker le nom de l'artiste principale de la chanson dans la variable *artist_name* que l'on aura créée."
   ]
  },
  {
   "cell_type": "code",
   "execution_count": 51,
   "metadata": {},
   "outputs": [
    {
     "data": {
      "text/html": [
       "<div>\n",
       "<style scoped>\n",
       "    .dataframe tbody tr th:only-of-type {\n",
       "        vertical-align: middle;\n",
       "    }\n",
       "\n",
       "    .dataframe tbody tr th {\n",
       "        vertical-align: top;\n",
       "    }\n",
       "\n",
       "    .dataframe thead th {\n",
       "        text-align: right;\n",
       "    }\n",
       "</style>\n",
       "<table border=\"1\" class=\"dataframe\">\n",
       "  <thead>\n",
       "    <tr style=\"text-align: right;\">\n",
       "      <th></th>\n",
       "      <th>track_name</th>\n",
       "      <th>artists_name</th>\n",
       "      <th>featuring</th>\n",
       "      <th>artist_name</th>\n",
       "    </tr>\n",
       "  </thead>\n",
       "  <tbody>\n",
       "    <tr>\n",
       "      <th>0</th>\n",
       "      <td>Tik Tok</td>\n",
       "      <td>Kesha</td>\n",
       "      <td>0</td>\n",
       "      <td>Kesha</td>\n",
       "    </tr>\n",
       "    <tr>\n",
       "      <th>1</th>\n",
       "      <td>Need You Now</td>\n",
       "      <td>Lady Antebellum</td>\n",
       "      <td>0</td>\n",
       "      <td>Lady Antebellum</td>\n",
       "    </tr>\n",
       "    <tr>\n",
       "      <th>2</th>\n",
       "      <td>Hey, Soul Sister</td>\n",
       "      <td>Train</td>\n",
       "      <td>0</td>\n",
       "      <td>Train</td>\n",
       "    </tr>\n",
       "    <tr>\n",
       "      <th>3</th>\n",
       "      <td>California Gurls</td>\n",
       "      <td>Katy Perry featuring Snoop Dogg</td>\n",
       "      <td>1</td>\n",
       "      <td>Katy Perry</td>\n",
       "    </tr>\n",
       "    <tr>\n",
       "      <th>4</th>\n",
       "      <td>OMG</td>\n",
       "      <td>Usher featuring will.i.am</td>\n",
       "      <td>1</td>\n",
       "      <td>Usher</td>\n",
       "    </tr>\n",
       "  </tbody>\n",
       "</table>\n",
       "</div>"
      ],
      "text/plain": [
       "         track_name                     artists_name  featuring  \\\n",
       "0           Tik Tok                            Kesha          0   \n",
       "1      Need You Now                  Lady Antebellum          0   \n",
       "2  Hey, Soul Sister                            Train          0   \n",
       "3  California Gurls  Katy Perry featuring Snoop Dogg          1   \n",
       "4               OMG        Usher featuring will.i.am          1   \n",
       "\n",
       "       artist_name  \n",
       "0            Kesha  \n",
       "1  Lady Antebellum  \n",
       "2            Train  \n",
       "3      Katy Perry   \n",
       "4           Usher   "
      ]
     },
     "execution_count": 51,
     "metadata": {},
     "output_type": "execute_result"
    }
   ],
   "source": [
    "def featuring_(row):\n",
    "    if 'featuring' in row['artists_name']:\n",
    "        val = 1\n",
    "    else: \n",
    "        val = 0\n",
    "    return val\n",
    "\n",
    "def artist_name_(row):\n",
    "    if 'feat' in row['artists_name']:\n",
    "        val=row['artists_name'].split(\"featuring\")[0]\n",
    "    else: \n",
    "        val = row['artists_name']\n",
    "    return val\n",
    "\n",
    "df1['featuring'] = df1.apply(featuring_, axis=1)\n",
    "df1['artist_name'] = df1.apply(artist_name_, axis=1)\n",
    "\n",
    "df1.head()"
   ]
  },
  {
   "cell_type": "markdown",
   "metadata": {},
   "source": [
    "### *Data enrichment* via Spotify"
   ]
  },
  {
   "cell_type": "markdown",
   "metadata": {},
   "source": [
    "Nous venons de collecter toutes les chansons hits de la période. La prochaine étape est d'enrichir notre jeu de données avec plus de chansons et plus de variables par chanson. Heureusement pour nous, Spotify, qui est l'un des plus grands services de musique digitale dans le monde, fournit des endpoints très interessants réunissant des informations à propos des artistes, des chansons, des albums, etc. Le package [Spotipy](https://spotipy.readthedocs.io/en/2.12.0/) est spécifiquement construit afin d'acceder à ces informations sans faire trop d'effort.\n",
    "\n",
    "Spotify est disponible sur [Github](https://github.com/plamere/spotipy). Suivez ces instructions pour pouvoir faire des requettes sur sa base de données contenant des données relatives à plus de 50 millions de chansons:\n",
    "\n",
    "1) Installer le package\n",
    "\n",
    "2) Créer un projet via la console du devloppeur de Spotify\n",
    "\n",
    "3) Configurer les informations d'authentification (Client_id, secret_id)\n",
    "\n",
    "Passons enfin au *data enrichment*."
   ]
  },
  {
   "cell_type": "code",
   "execution_count": 53,
   "metadata": {},
   "outputs": [],
   "source": [
    "import spotipy\n",
    "from spotipy.oauth2 import SpotifyClientCredentials as SCC\n",
    "\n",
    "SPOTIPY_CLIENT_ID = 'your_spotify_client_id_here' \n",
    "SPOTIPY_CLIENT_SECRET = 'your_spotify_client_secret_here' \n",
    "\n",
    "client_credentials_manager = SCC(client_id=SPOTIPY_CLIENT_ID, client_secret = SPOTIPY_CLIENT_SECRET)\n",
    "sp = spotipy.Spotify(client_credentials_manager=client_credentials_manager)"
   ]
  },
  {
   "cell_type": "markdown",
   "metadata": {},
   "source": [
    "l'API de Spotify a une méthode \"search\" qui permet de rechercher les informations relatives à une chanson, un  artiste, un album, super facilement. A titre d'exemple, il suffit de passer le nom de la chanson ou de l'artiste, ou les deux combinés, et elle renvoie un fichier JSON contenant des informations pertinentes pour la recherche effectuée. Nous aurons besoin d'informations à deux niveaux :\n",
    "- L'artiste : popularité de l'artiste, le nombre de followers, etc.\n",
    "- La chanson : Date de sortie, nombre de marché disponibles. Des variables pré-configurées liées à l'audio de la chanson  comme acoustique, dansabilité, énergie, instrumentalité, etc. \n",
    "\n",
    "La description complète de chacune de ces variables est faite ci-dessous. "
   ]
  },
  {
   "cell_type": "markdown",
   "metadata": {},
   "source": [
    "<u> Les variables relatives à l'artiste </u>\n",
    "\n",
    "**nom_artiste** : Nom de l'artiste principal de la chanson.\n",
    "\n",
    "**Popularité**  : La popularité de l'artiste sur Spotify. La valeur sera comprise entre 0 et 100, 100 étant le plus populaire. Nous pensons que plus un artiste est populaire, plus une chanson sur laquelle il pose sa voix est susceptible d'être virale.\n",
    "\n",
    "**Followers** : Nombre total de followers sur Spotify.\n",
    "\n",
    "<u> Les variables relatives à la chanson </u>\n",
    "\n",
    "**Date de sortie** : Date à laquelle la chanson a été diffusée pour la première fois.\n",
    "\n",
    "**Marché disponible** : Nombre de pays dans lequel la chanson peut être jouée.\n",
    "\n",
    "**Durée** : La durée de la chanson en millisecondes.\n",
    "\n",
    "**Acoustique** : Une mesure de confiance de 0.0 à 1.0 indiquant si la chanson est acoustique. 1.0 représente une confiance élevée que la chanson est acoustique.\n",
    "\n",
    "**Dansabilité** : La dansabilité décrit à quel point une chanson est adaptée à la danse sur la base d'une combinaison d'éléments musicaux, notamment le tempo, la stabilité du rythme, la force du rythme et la régularité globale. Une valeur de 0.0 est la moins dansante et 1.0 est la plus dansante.\n",
    "\n",
    "**Energie**: L'énergie est une mesure de 0.0 à 1.0 et représente une mesure perceptuelle de l'intensité et de l'activité. En règle générale, les chansons énergiques sont rapides, sonores et bruyantes.\n",
    "\n",
    "**Instrumentalité** : Prédit si une chanson ne contient pas de voix. Les sons «Ooh» et «aah» sont traités comme instrumentaux dans ce contexte. Les morceaux de rap ou de mots parlés sont clairement «vocaux». Plus la valeur instrumentale est proche de 1.0, plus la piste ne contient aucun contenu vocal. Les valeurs supérieures à 0.5 sont censées représenter des chansons instrumentales, mais la confiance est plus élevée lorsque la valeur approche de 1.0.\n",
    "\n",
    "**Vivacité** : Détecte la présence d'un public dans l'enregistrement. Des valeurs de vivacité plus élevées représentent une probabilité accrue que la chanson ait été jouée en direct. Une valeur supérieure à 0.8 offre une forte probabilité que la chanson soit en direct.\n",
    "\n",
    "**Intensité** : L'intensité global d'une chanson en décibels (dB). Les valeurs d'intensité sont moyennées sur toute la chanson et sont utiles pour comparer l'intensité relative des chansons. L'intensité sonore est la qualité d'un son qui est le principal corrélat psychologique de la force physique (amplitude). Les valeurs varient entre -60 et 0 db.\n",
    "\n",
    "**Eloquence** : L'éloqunece détecte la présence de mots prononcés dans une chanson. Plus l'enregistrement est exclusivement vocal (par exemple, talk-show, livre audio, poésie), plus la valeur d'attribut est proche de 1.0. Les valeurs supérieures à 0.66 décrivent des chansons qui sont probablement entièrement constituées de mots prononcés. Les valeurs comprises entre 0.33 et 0.66 décrivent des pistes qui peuvent contenir à la fois de la musique et de la parole, soit en sections, soit en couches, y compris des cas comme la musique rap. Les valeurs inférieures à 0.33 représentent très probablement de la musique et d'autres pistes non vocales.\n",
    "\n",
    "**Valence** : Une mesure de 0.0 à 1.0 décrivant la positivité musicale véhiculée par une chanson. Les chansons avec une valence élevée semblent plus positives (par exemple, joyeuses, gaies, euphoriques), tandis que les chansons avec une valence basse semblent plus négatives (par exemple tristes, déprimées, en colère).\n",
    "\n",
    "**Tempo** : Le tempo global estimé d'une chanson en battements par minute (BPM). Dans la terminologie musicale, le tempo est la vitesse ou le rythme d'une pièce donnée et découle directement de la durée moyenne des temps.\n",
    "\n",
    "**hit** : Variable dichotomique mesurant si une chanson est hit ou non. Elle prend la valeur de 1 si la chanson est hit, 0 sinon. C'est notre variable dépendante, c'est-à-dire celle que l'on cherchera à prédire pour une chanson donnée.\n",
    "\n",
    "**featuring** : Variable dépendante dichotomique mesurant s'il y a un ou plusieurs artistes invités sur une chanson.\n",
    "\n",
    "**mois** : Mois de sortie de la chanson.\n",
    "\n",
    "**jour_sem** : Jour de la semaine durant lequel la chanson a ete diffusee. \n",
    "\n",
    "**jour** : Jour de sortie de la chanson."
   ]
  },
  {
   "cell_type": "markdown",
   "metadata": {},
   "source": [
    "Nous recueillerons un un total de 20 variables: "
   ]
  },
  {
   "cell_type": "code",
   "execution_count": 54,
   "metadata": {},
   "outputs": [
    {
     "data": {
      "text/plain": [
       "0      None\n",
       "1      None\n",
       "2      None\n",
       "3      None\n",
       "4      None\n",
       "       ... \n",
       "995    None\n",
       "996    None\n",
       "997    None\n",
       "998    None\n",
       "999    None\n",
       "Name: search, Length: 905, dtype: object"
      ]
     },
     "execution_count": 54,
     "metadata": {},
     "output_type": "execute_result"
    }
   ],
   "source": [
    "# Creation d'une nouvelle colonne contenat le nom de l'artiste principale et le titre de la chanson.\n",
    "df1['search'] = df1['track_name'] + \" \" + df1[\"artist_name\"]\n",
    "\n",
    "artist_name=[]\n",
    "pop_artist=[]\n",
    "tot_followers=[]\n",
    "track_name=[]\n",
    "avail_mark=[]\n",
    "rel_date=[]\n",
    "pop_track=[]\n",
    "acousticness=[]\n",
    "danceability=[]\n",
    "duration_ms=[]\n",
    "energy=[]\n",
    "instrumentalness=[]\n",
    "liveness=[]\n",
    "loudness=[]\n",
    "speechiness=[]\n",
    "tempo=[]\n",
    "time_signature=[]\n",
    "valence=[]\n",
    "\n",
    "# Une fonction qui servira à rechercher les chansons suivant la colonne search et à extraire les variables citées plus haut.\n",
    "def track_info(search):\n",
    "    \n",
    "    track_=[]\n",
    "    \n",
    "    try:\n",
    "        track_results = sp.search(q=search, type='track', limit=1, offset=0)\n",
    "        track_.append(track_results['tracks']['items'])\n",
    "\n",
    "        track_uri=track_[0][0]['uri']\n",
    "        audio_features = sp.audio_features(track_uri)[0]\n",
    "\n",
    "        if audio_features != None:\n",
    "                    # Artist info\n",
    "                    artist_uri=track_[0][0]['album']['artists'][0]['uri']\n",
    "                    artist = sp.artist(artist_uri)\n",
    "                    artist_name.append(artist['name'])\n",
    "                    pop_artist.append(artist['popularity'])\n",
    "                    tot_followers.append(artist['followers']['total'])\n",
    "\n",
    "                    # Track info\n",
    "                    track_name.append(track_[0][0]['name'])\n",
    "                    avail_mark.append(len(track_[0][0]['available_markets']))\n",
    "                    rel_date.append(track_[0][0]['album']['release_date'])\n",
    "                    pop_track.append(track_[0][0]['popularity'])\n",
    "\n",
    "                    acousticness.append(audio_features['acousticness'])\n",
    "                    danceability.append(audio_features['danceability'])\n",
    "                    duration_ms.append(audio_features['duration_ms'])\n",
    "                    energy.append(audio_features['energy'])\n",
    "                    instrumentalness.append(audio_features['instrumentalness'])\n",
    "                    liveness.append(audio_features['liveness'])\n",
    "                    loudness.append(audio_features['loudness'])\n",
    "                    speechiness.append(audio_features['speechiness'])\n",
    "                    tempo.append(audio_features['tempo'])\n",
    "                    time_signature.append(audio_features['time_signature'])\n",
    "                    valence.append(audio_features['valence'])\n",
    "    except:\n",
    "        pass\n",
    "\n",
    "    # Action!\n",
    "df1['search'].map(track_info)\n"
   ]
  },
  {
   "cell_type": "code",
   "execution_count": 58,
   "metadata": {},
   "outputs": [],
   "source": [
    "df1 = pd.DataFrame({'artist_name':artist_name,'pop_artist':pop_artist,'tot_followers':tot_followers,'track_name':track_name,\n",
    "                   'avail_mark':avail_mark,'rel_date':rel_date,'pop_track':pop_track,'acousticness':acousticness,\n",
    "                   'danceability':danceability,'duration_ms':duration_ms,'energy':energy,'instrumentalness':instrumentalness,\n",
    "                   'liveness':liveness,'loudness':loudness,'speechiness':speechiness,\n",
    "                   'tempo':tempo,'time_signature':time_signature,'valence':valence\n",
    "                  })"
   ]
  },
  {
   "cell_type": "code",
   "execution_count": 59,
   "metadata": {},
   "outputs": [
    {
     "data": {
      "text/html": [
       "<div>\n",
       "<style scoped>\n",
       "    .dataframe tbody tr th:only-of-type {\n",
       "        vertical-align: middle;\n",
       "    }\n",
       "\n",
       "    .dataframe tbody tr th {\n",
       "        vertical-align: top;\n",
       "    }\n",
       "\n",
       "    .dataframe thead th {\n",
       "        text-align: right;\n",
       "    }\n",
       "</style>\n",
       "<table border=\"1\" class=\"dataframe\">\n",
       "  <thead>\n",
       "    <tr style=\"text-align: right;\">\n",
       "      <th></th>\n",
       "      <th>artist_name</th>\n",
       "      <th>pop_artist</th>\n",
       "      <th>tot_followers</th>\n",
       "      <th>track_name</th>\n",
       "      <th>avail_mark</th>\n",
       "      <th>rel_date</th>\n",
       "      <th>pop_track</th>\n",
       "      <th>acousticness</th>\n",
       "      <th>danceability</th>\n",
       "      <th>duration_ms</th>\n",
       "      <th>energy</th>\n",
       "      <th>instrumentalness</th>\n",
       "      <th>liveness</th>\n",
       "      <th>loudness</th>\n",
       "      <th>speechiness</th>\n",
       "      <th>tempo</th>\n",
       "      <th>time_signature</th>\n",
       "      <th>valence</th>\n",
       "    </tr>\n",
       "  </thead>\n",
       "  <tbody>\n",
       "    <tr>\n",
       "      <th>0</th>\n",
       "      <td>Kesha</td>\n",
       "      <td>82</td>\n",
       "      <td>5562350</td>\n",
       "      <td>TiK ToK</td>\n",
       "      <td>79</td>\n",
       "      <td>2010-01-01</td>\n",
       "      <td>80</td>\n",
       "      <td>0.09910</td>\n",
       "      <td>0.755</td>\n",
       "      <td>199693</td>\n",
       "      <td>0.837</td>\n",
       "      <td>0.000000</td>\n",
       "      <td>0.2890</td>\n",
       "      <td>-2.718</td>\n",
       "      <td>0.1420</td>\n",
       "      <td>120.028</td>\n",
       "      <td>4</td>\n",
       "      <td>0.714</td>\n",
       "    </tr>\n",
       "    <tr>\n",
       "      <th>1</th>\n",
       "      <td>Lady A</td>\n",
       "      <td>75</td>\n",
       "      <td>2975615</td>\n",
       "      <td>Need You Now</td>\n",
       "      <td>78</td>\n",
       "      <td>2010-01-01</td>\n",
       "      <td>69</td>\n",
       "      <td>0.09270</td>\n",
       "      <td>0.587</td>\n",
       "      <td>277573</td>\n",
       "      <td>0.622</td>\n",
       "      <td>0.000636</td>\n",
       "      <td>0.2000</td>\n",
       "      <td>-5.535</td>\n",
       "      <td>0.0303</td>\n",
       "      <td>107.943</td>\n",
       "      <td>4</td>\n",
       "      <td>0.231</td>\n",
       "    </tr>\n",
       "    <tr>\n",
       "      <th>2</th>\n",
       "      <td>Train</td>\n",
       "      <td>78</td>\n",
       "      <td>3300285</td>\n",
       "      <td>Hey, Soul Sister</td>\n",
       "      <td>79</td>\n",
       "      <td>2010-12-01</td>\n",
       "      <td>82</td>\n",
       "      <td>0.18500</td>\n",
       "      <td>0.673</td>\n",
       "      <td>216773</td>\n",
       "      <td>0.886</td>\n",
       "      <td>0.000000</td>\n",
       "      <td>0.0826</td>\n",
       "      <td>-4.440</td>\n",
       "      <td>0.0431</td>\n",
       "      <td>97.012</td>\n",
       "      <td>4</td>\n",
       "      <td>0.795</td>\n",
       "    </tr>\n",
       "    <tr>\n",
       "      <th>3</th>\n",
       "      <td>Katy Perry</td>\n",
       "      <td>88</td>\n",
       "      <td>15594145</td>\n",
       "      <td>California Gurls</td>\n",
       "      <td>79</td>\n",
       "      <td>2012-03-12</td>\n",
       "      <td>73</td>\n",
       "      <td>0.00446</td>\n",
       "      <td>0.791</td>\n",
       "      <td>234653</td>\n",
       "      <td>0.754</td>\n",
       "      <td>0.000000</td>\n",
       "      <td>0.1630</td>\n",
       "      <td>-3.729</td>\n",
       "      <td>0.0569</td>\n",
       "      <td>125.014</td>\n",
       "      <td>4</td>\n",
       "      <td>0.425</td>\n",
       "    </tr>\n",
       "    <tr>\n",
       "      <th>4</th>\n",
       "      <td>Usher</td>\n",
       "      <td>84</td>\n",
       "      <td>7762818</td>\n",
       "      <td>OMG (feat. will.i.am)</td>\n",
       "      <td>79</td>\n",
       "      <td>2010-03-30</td>\n",
       "      <td>72</td>\n",
       "      <td>0.19800</td>\n",
       "      <td>0.781</td>\n",
       "      <td>269493</td>\n",
       "      <td>0.745</td>\n",
       "      <td>0.000011</td>\n",
       "      <td>0.3600</td>\n",
       "      <td>-5.810</td>\n",
       "      <td>0.0332</td>\n",
       "      <td>129.998</td>\n",
       "      <td>4</td>\n",
       "      <td>0.326</td>\n",
       "    </tr>\n",
       "  </tbody>\n",
       "</table>\n",
       "</div>"
      ],
      "text/plain": [
       "  artist_name  pop_artist  tot_followers             track_name  avail_mark  \\\n",
       "0       Kesha          82        5562350                TiK ToK          79   \n",
       "1      Lady A          75        2975615           Need You Now          78   \n",
       "2       Train          78        3300285       Hey, Soul Sister          79   \n",
       "3  Katy Perry          88       15594145       California Gurls          79   \n",
       "4       Usher          84        7762818  OMG (feat. will.i.am)          79   \n",
       "\n",
       "     rel_date  pop_track  acousticness  danceability  duration_ms  energy  \\\n",
       "0  2010-01-01         80       0.09910         0.755       199693   0.837   \n",
       "1  2010-01-01         69       0.09270         0.587       277573   0.622   \n",
       "2  2010-12-01         82       0.18500         0.673       216773   0.886   \n",
       "3  2012-03-12         73       0.00446         0.791       234653   0.754   \n",
       "4  2010-03-30         72       0.19800         0.781       269493   0.745   \n",
       "\n",
       "   instrumentalness  liveness  loudness  speechiness    tempo  time_signature  \\\n",
       "0          0.000000    0.2890    -2.718       0.1420  120.028               4   \n",
       "1          0.000636    0.2000    -5.535       0.0303  107.943               4   \n",
       "2          0.000000    0.0826    -4.440       0.0431   97.012               4   \n",
       "3          0.000000    0.1630    -3.729       0.0569  125.014               4   \n",
       "4          0.000011    0.3600    -5.810       0.0332  129.998               4   \n",
       "\n",
       "   valence  \n",
       "0    0.714  \n",
       "1    0.231  \n",
       "2    0.795  \n",
       "3    0.425  \n",
       "4    0.326  "
      ]
     },
     "execution_count": 59,
     "metadata": {},
     "output_type": "execute_result"
    }
   ],
   "source": [
    "df1.head()"
   ]
  },
  {
   "cell_type": "markdown",
   "metadata": {},
   "source": [
    "Nous avons maintenant une première table de données qui est composée des chansons hits avec toutes les variables qui nous interessent. \n",
    "Nous allons encore utiliser l'API de Spotify. Cette fois-ci c'est pour idéalement récuperer autant de chansons que possible sur la période considerée. Il est à noter que c'est recemment que Spotify a permis de récupérer autant de musiques que l'on souhaite durant une requêtte. Avant, la quantité maximale de track qu'il était possible d'obtenir ne dépassait pas 10 000 . "
   ]
  },
  {
   "cell_type": "code",
   "execution_count": null,
   "metadata": {},
   "outputs": [],
   "source": [
    "# Récupération de 20 000 musiques à raison de 2 000 par années pour la période 2010-2019 (10 ans)\n",
    "track_=[]\n",
    "for j in range(2010,2020,1):\n",
    "    year='year:'+str(j)\n",
    "    for i in range(0,2000,50):\n",
    "        track_results = sp.search(q=year, type='track', limit=50, offset=i)\n",
    "        track_.append(track_results['tracks']['items'])"
   ]
  },
  {
   "cell_type": "code",
   "execution_count": null,
   "metadata": {},
   "outputs": [],
   "source": [
    "# Construction d'une table de données avec les champs retenus\n",
    "import pandas as pd\n",
    "\n",
    "artist_name=[]\n",
    "pop_artist=[]\n",
    "tot_followers=[] \n",
    "track_name=[]\n",
    "avail_mark=[]\n",
    "rel_date=[]\n",
    "pop_track=[]\n",
    "acousticness=[]\n",
    "danceability=[]\n",
    "duration_ms=[]\n",
    "energy=[]\n",
    "instrumentalness=[]\n",
    "liveness=[]\n",
    "loudness=[]\n",
    "speechiness=[]\n",
    "tempo=[]\n",
    "time_signature=[]\n",
    "valence=[]\n",
    "\n",
    "for i in range(0,400,1):\n",
    "    for j in range(0,50,1):\n",
    "        track_uri=track_[i][j]['uri']\n",
    "        audio_features = sp.audio_features(track_uri)[0]\n",
    "        \n",
    "        if audio_features != None:\n",
    "            # Artist info\n",
    "            artist_uri=track_[i][j]['album']['artists'][0]['uri']\n",
    "            artist = sp.artist(artist_uri)\n",
    "            artist_name.append(artist['name'])\n",
    "            pop_artist.append(artist['popularity'])\n",
    "            tot_followers.append(artist['followers']['total'])\n",
    "\n",
    "            # Track info\n",
    "            track_name.append(track_[i][j]['name'])\n",
    "            avail_mark.append(len(track_[i][j]['available_markets']))\n",
    "            rel_date.append(track_[i][j]['album']['release_date'])\n",
    "            pop_track.append(track_[i][j]['popularity'])\n",
    "            \n",
    "            # Track audio info\n",
    "            acousticness.append(audio_features['acousticness'])\n",
    "            danceability.append(audio_features['danceability'])\n",
    "            duration_ms.append(audio_features['duration_ms'])\n",
    "            energy.append(audio_features['energy'])\n",
    "            instrumentalness.append(audio_features['instrumentalness'])\n",
    "            liveness.append(audio_features['liveness'])\n",
    "            loudness.append(audio_features['loudness'])\n",
    "            speechiness.append(audio_features['speechiness'])\n",
    "            tempo.append(audio_features['tempo'])\n",
    "            time_signature.append(audio_features['time_signature'])\n",
    "            valence.append(audio_features['valence'])\n",
    "            \n",
    "\n",
    "df2 = pd.DataFrame({'artist_name':artist_name,'pop_artist':pop_artist,'tot_followers':tot_followers,'track_name':track_name,\n",
    "                   'avail_mark':avail_mark,'rel_date':rel_date,'pop_track':pop_track,'acousticness':acousticness,\n",
    "                   'danceability':danceability,'duration_ms':duration_ms,'energy':energy,'instrumentalness':instrumentalness,\n",
    "                   'liveness':liveness,'loudness':loudness,'speechiness':speechiness,\n",
    "                   'tempo':tempo,'time_signature':time_signature,'valence':valence\n",
    "                  })"
   ]
  },
  {
   "cell_type": "code",
   "execution_count": null,
   "metadata": {},
   "outputs": [],
   "source": [
    "# Création de la variable hit. Par définition, toutes les musiques issues de la table de données df1 sont hits.\n",
    "df1['hit']=1\n",
    "df2['hit']=0\n",
    "\n",
    "# Combinaison des deux tables de données\n",
    "df=pd.concat([df1,df2],ignore_index=True)\n",
    "\n",
    "# Création de la variable featuring. Elle vaut 1 s'il y a des artistes invités sur la musiques, et 0 sinon.\n",
    "def feat_(row):\n",
    "    if 'feat.' in row['track_name']:\n",
    "        val = 1\n",
    "    else: \n",
    "        val = 0\n",
    "    return val\n",
    "\n",
    "df['featuring'] = df.apply(feat_, axis=1)\n",
    "\n",
    "# Check for mising values(fortunately there are none)\n",
    "df.isnull().sum()\n",
    "\n",
    "# Suppression des observations duppliquées\n",
    "df['search'] = df['artist_name'] + \" \" + df[\"track_name\"]\n",
    "df=df.drop_duplicates(subset=['search'],keep='first')\n",
    "df.shape"
   ]
  },
  {
   "cell_type": "code",
   "execution_count": null,
   "metadata": {},
   "outputs": [],
   "source": [
    "# Les variables sont renommées\n",
    "df=df.rename(columns={'artist_name':'nom_artiste','pop_artist':'pop_artiste','track_name':'nom_chanson','avail_mark':'marche_disp','rel_date':'date_sortie','pop_track':'pop_chanson','acousticness':'acoustique','danceability':'dansabilite','duration_ms':'duree','energy':'energie','instrumentalness':'instrumentalite','liveness':'vivacite','loudness':'intensite','speechiness':'eloquence','tempo':'tempo','valence':'valence','pop':'hit','featuring':'featuring'})"
   ]
  },
  {
   "cell_type": "code",
   "execution_count": 6,
   "metadata": {},
   "outputs": [],
   "source": [
    "# Extraction des dates\n",
    "df['date_sortie']=pd.to_datetime(df['date_sortie'])\n",
    "df['mois_sortie'] = df['date_sortie'].apply(lambda m: m.month)\n",
    "df['jour_sortie'] = df['date_sortie'].apply(lambda d: d.day)\n",
    "df['jour_sem_sortie'] = df['date_sortie'].apply(lambda w: w.weekday())"
   ]
  },
  {
   "cell_type": "code",
   "execution_count": 7,
   "metadata": {},
   "outputs": [
    {
     "data": {
      "text/plain": [
       "(19182, 24)"
      ]
     },
     "execution_count": 7,
     "metadata": {},
     "output_type": "execute_result"
    }
   ],
   "source": [
    "df.shape"
   ]
  },
  {
   "cell_type": "markdown",
   "metadata": {},
   "source": [
    "## Analyse de données exploratoire\n",
    "A présent, notre jeu de données est complet. Nous allons l'explorer avant de consruire notre modèle."
   ]
  },
  {
   "cell_type": "code",
   "execution_count": 44,
   "metadata": {},
   "outputs": [
    {
     "data": {
      "image/png": "[encoded data removed]",
      "text/plain": [
       "<Figure size 432x288 with 1 Axes>"
      ]
     },
     "metadata": {
      "needs_background": "light"
     },
     "output_type": "display_data"
    }
   ],
   "source": [
    "%matplotlib inline\n",
    "from matplotlib import pyplot as plt\n",
    "\n",
    "fig = plt.figure()\n",
    "ax = fig.add_axes([0,0,1,1])\n",
    "pop = ['non-hit', 'hit']\n",
    "pop_count = list(df['hit'].value_counts())\n",
    "ax.bar(pop,pop_count,color='b')\n",
    "#plt.savefig('plot.png', dpi=200, bbox_inches='tight')\n",
    "\n",
    "plt.show()"
   ]
  },
  {
   "cell_type": "code",
   "execution_count": 45,
   "metadata": {},
   "outputs": [
    {
     "data": {
      "image/png": "[encoded data removed]",
      "text/plain": [
       "<Figure size 432x288 with 1 Axes>"
      ]
     },
     "metadata": {
      "needs_background": "light"
     },
     "output_type": "display_data"
    }
   ],
   "source": [
    "fig = plt.figure()\n",
    "ax = fig.add_axes([0,0,1,1])\n",
    "pop = ['Avec featuring', 'Sans featuring']\n",
    "pop_count = list(df['featuring'].value_counts())\n",
    "ax.bar(pop,pop_count,color='r')\n",
    "plt.show()"
   ]
  },
  {
   "cell_type": "code",
   "execution_count": 5,
   "metadata": {},
   "outputs": [
    {
     "name": "stdout",
     "output_type": "stream",
     "text": [
      "les dimensions des musiques non-hits et hits sont respectivement (18280, 24) et (902, 24)\n"
     ]
    }
   ],
   "source": [
    "# Filtrer df pour avoir seulement les musiques hits\n",
    "df_pop_1=df.loc[df['hit']==1]\n",
    "\n",
    "# Filtrer df pour avoir seulement les musiques non-hits\n",
    "df_pop_0=df.loc[df['hit']==0]\n",
    "\n",
    "print('les dimensions des musiques non-hits et hits sont respectivement {} et {}'.format(df_pop_0.shape,df_pop_1.shape))"
   ]
  },
  {
   "cell_type": "code",
   "execution_count": 6,
   "metadata": {},
   "outputs": [
    {
     "name": "stdout",
     "output_type": "stream",
     "text": [
      "Parmi les musiques hits, les dimensions de celles qui sont avec featuring et sans featuring sont respectivement (142, 24) et (760, 24)\n"
     ]
    }
   ],
   "source": [
    "# Parmi les musiques hits, filter pour avoir seulement celles avec featuring\n",
    "df_pop_1_feat_1 = df_pop_1.loc[df_pop_1['featuring']==1].shape\n",
    "\n",
    "# Parmi les musiques hits, filter pour avoir seulement celles sans featuring\n",
    "df_pop_1_feat_0 = df_pop_1.loc[df_pop_1['featuring']==0].shape\n",
    "\n",
    "print('Parmi les musiques hits, les dimensions de celles qui sont avec featuring et sans featuring sont respectivement {} et {}'\n",
    "      .format(df_pop_1_feat_1,df_pop_1_feat_0))"
   ]
  },
  {
   "cell_type": "code",
   "execution_count": 7,
   "metadata": {},
   "outputs": [
    {
     "name": "stdout",
     "output_type": "stream",
     "text": [
      "parmi les musiques non-hit, les dimensions de celles qui sont avec et sans featuring sont respectivement (1639, 24) et (16641, 24)\n"
     ]
    }
   ],
   "source": [
    "# Parmi les musiques non-hits, filter pour avoir seulement celles sans featuring\n",
    "df_pop_0_feat_0 = df_pop_0.loc[df_pop_0['featuring']==0].shape\n",
    "\n",
    "# Parmi les musiques non-hits, filter pour avoir seulement celles avec featuring\n",
    "df_pop_0_feat_1 = df_pop_0.loc[df_pop_0['featuring']==1].shape\n",
    "\n",
    "print('parmi les musiques non-hit, les dimensions de celles qui sont avec et sans featuring sont respectivement {} et {}'.format(df_pop_0_feat_1,df_pop_0_feat_0))"
   ]
  },
  {
   "cell_type": "code",
   "execution_count": 8,
   "metadata": {},
   "outputs": [
    {
     "data": {
      "image/png": "[encoded data removed]",
      "text/plain": [
       "<Figure size 432x288 with 1 Axes>"
      ]
     },
     "metadata": {
      "needs_background": "light"
     },
     "output_type": "display_data"
    }
   ],
   "source": [
    "import numpy as np\n",
    "labels = ['hit', 'non-hit']\n",
    "# set height of bar\n",
    "bar1=[df_pop_1_feat_1[0],df_pop_0_feat_1[0]]\n",
    "bar2=[df_pop_1_feat_0[0],df_pop_0_feat_0[0]]\n",
    "\n",
    "x = np.arange(len(labels))  # the label locations\n",
    "width = 0.30  # the width of the bars\n",
    "\n",
    "fig, ax = plt.subplots()\n",
    "rects1 = ax.bar(x - width/2, bar1, width, label='Avec featuring')\n",
    "rects2 = ax.bar(x + width/2, bar2, width, label='Sans featuring')\n",
    "\n",
    "# Add some text for labels, title and custom x-axis tick labels, etc.\n",
    "ax.set_ylabel('Scores')\n",
    "ax.set_title('Les musiques regroupées par niveau de popularité et featuring ')\n",
    "ax.set_xticks(x)\n",
    "ax.set_xticklabels(labels)\n",
    "ax.legend()\n",
    "\n",
    "\n",
    "def autolabel(rects):\n",
    "    \"\"\"Attach a text label above each bar in *rects*, displaying its height.\"\"\"\n",
    "    for rect in rects:\n",
    "        height = rect.get_height()\n",
    "        ax.annotate('{}'.format(height),\n",
    "                    xy=(rect.get_x() + rect.get_width() / 2, height),\n",
    "                    xytext=(0, 1),  # 3 points vertical offset\n",
    "                    textcoords=\"offset points\",\n",
    "                    ha='center', va='bottom')\n",
    "\n",
    "\n",
    "autolabel(rects1)\n",
    "autolabel(rects2)\n",
    "\n",
    "fig.tight_layout()\n",
    "\n",
    "plt.show()"
   ]
  },
  {
   "cell_type": "code",
   "execution_count": 9,
   "metadata": {},
   "outputs": [
    {
     "data": {
      "image/png": "[encoded data removed]",
      "text/plain": [
       "<Figure size 864x576 with 1 Axes>"
      ]
     },
     "metadata": {
      "needs_background": "light"
     },
     "output_type": "display_data"
    }
   ],
   "source": [
    "plt.figure(figsize=(12,8))\n",
    "df[df['hit']==1]['nom_artiste'].value_counts()[:20].plot(kind=\"bar\")\n",
    "plt.title(\"Les artistes avec le plus de musiques hits dans le bilboard\")\n",
    "plt.show()"
   ]
  },
  {
   "cell_type": "code",
   "execution_count": 46,
   "metadata": {},
   "outputs": [
    {
     "data": {
      "image/png": "[encoded data removed]",
      "text/plain": [
       "<Figure size 864x576 with 1 Axes>"
      ]
     },
     "metadata": {
      "needs_background": "light"
     },
     "output_type": "display_data"
    }
   ],
   "source": [
    "plt.figure(figsize=(12,8))\n",
    "plt.hist(df[df['hit']==1]['pop_artiste'], bins=100, density=True, alpha=0.5, label=\"Hit\",color='b')\n",
    "plt.hist(df[df['hit']==0]['pop_artiste'], bins=100, density=True, alpha=0.5, label=\"Not Hit\",color='r')\n",
    "plt.title(\"Popularité de l'artiste\")\n",
    "plt.legend()\n",
    "plt.show()"
   ]
  },
  {
   "cell_type": "code",
   "execution_count": 11,
   "metadata": {},
   "outputs": [
    {
     "name": "stdout",
     "output_type": "stream",
     "text": [
      "Les coefficients d\"assymétrie de Fisher pour le distribution des musiques hits et non-hits sont respectivement -2.62 et -1.86. La médiane de la distribution des musiques hits est de 82.0.  Le troisième quartile de la distribution des musiques non hits est de 82.0 \n"
     ]
    }
   ],
   "source": [
    "from scipy.stats import skew as sk\n",
    "from scipy import stats\n",
    "\n",
    "h=sk(df[df['hit']==1]['pop_artiste'])\n",
    "n_h=sk(df[df['hit']==0]['pop_artiste'])\n",
    "\n",
    "q_2_h=np.percentile(df[df['hit']==1]['pop_artiste'], 50)\n",
    "q_3_n_h=np.percentile(df[df['hit']==0]['pop_artiste'], 75)\n",
    "print('Les coefficients d\"assymétrie de Fisher pour le distribution des musiques hits et non-hits ' \n",
    "      'sont respectivement {} et {}. La médiane de la distribution des musiques hits est de {}. '\n",
    "      ' Le troisième quartile de la distribution des musiques non hits est de {} '.format(round(h,2),round(n_h,2),q_2_h,q_3_n_h))\n",
    "#print(\"{},{}\".format(h,n_h))"
   ]
  },
  {
   "cell_type": "code",
   "execution_count": 12,
   "metadata": {},
   "outputs": [],
   "source": [
    "features_hit = df.loc[df['hit']==1 ,['acoustique', 'dansabilite', 'energie', 'instrumentalite', 'vivacite', 'eloquence', 'valence']]\n",
    "\n",
    "features_non_hit = df.loc[df['hit']==0 ,['acoustique', 'dansabilite', 'energie', 'instrumentalite', 'vivacite', 'eloquence', 'valence']]\n"
   ]
  },
  {
   "cell_type": "code",
   "execution_count": 40,
   "metadata": {},
   "outputs": [
    {
     "data": {
      "image/png": "[encoded data removed]",
      "text/plain": [
       "<Figure size 1152x576 with 1 Axes>"
      ]
     },
     "metadata": {},
     "output_type": "display_data"
    }
   ],
   "source": [
    "#%%capture\n",
    "import numpy as np\n",
    "from matplotlib import pyplot as plt\n",
    "\n",
    "features_hit = df.loc[df['hit']==1 ,['acoustique', 'dansabilite', 'energie', 'instrumentalite', 'vivacite', 'eloquence', 'valence']]\n",
    "\n",
    "features_non_hit = df.loc[df['hit']==0 ,['acoustique', 'dansabilite', 'energie', 'instrumentalite', 'vivacite', 'eloquence', 'valence']]\n",
    "\n",
    "N = len(features_hit.mean())\n",
    "#Liste des nombre de variables\n",
    "ind = np.arange(N) \n",
    "\n",
    "width = 0.25  \n",
    "#diagrame en batons avec la liste des musiques hits\n",
    "plt.barh(ind, features_hit.mean() , width, label='hits', color = 'blue')\n",
    "#diagrame en batons avec la liste des musiques non hits\n",
    "plt.barh(ind + width, features_non_hit.mean(), width, label='non-hits', color = 'red')\n",
    "\n",
    "#X- label\n",
    "plt.xlabel('Moyenne', fontsize = 12)\n",
    "# Title\n",
    "plt.title(\"Distribution des valeurs moyennes \\n des caractéristiques d'audio des chansons.\")\n",
    "#Vertical ticks\n",
    "plt.yticks(ind + width / 2, (list(features_non_hit)[:]), fontsize = 12)\n",
    "#legend\n",
    "plt.legend(loc='best')\n",
    "# Figure size\n",
    "plt.rcParams['figure.figsize'] =(16,8)\n",
    "# Set style\n",
    "plt.style.use(\"ggplot\")\n",
    "plt.show()"
   ]
  },
  {
   "cell_type": "code",
   "execution_count": 43,
   "metadata": {},
   "outputs": [
    {
     "data": {
      "image/png": "[encoded data removed]",
      "text/plain": [
       "<Figure size 720x720 with 1 Axes>"
      ]
     },
     "metadata": {},
     "output_type": "display_data"
    }
   ],
   "source": [
    "import seaborn as sns\n",
    "labels= list(features_hit)\n",
    "mean_list1= features_hit.mean().to_list()\n",
    "mean_list2 = features_non_hit.mean().to_list()\n",
    "\n",
    "angles=np.linspace(0, 2*np.pi, len(labels), endpoint=False)\n",
    "\n",
    "# close the plot\n",
    "mean_list1=np.concatenate((mean_list1,[mean_list1[0]]))\n",
    "mean_list2 =np.concatenate((mean_list2,[mean_list2[0]])) \n",
    "angles=np.concatenate((angles,[angles[0]]))\n",
    "\n",
    "#Size of the figure\n",
    "fig=plt.figure(figsize = (10,10))\n",
    "\n",
    "ax = fig.add_subplot(221, polar=True)\n",
    "ax.plot(angles, mean_list1, 'o-', linewidth=2, label = \"Hit songs\", color= 'r')\n",
    "ax.fill(angles, mean_list1, alpha=0.25, facecolor='gray')\n",
    "ax.set_thetagrids(angles * 180/np.pi, labels , fontsize = 13)\n",
    "\n",
    "\n",
    "ax.set_rlabel_position(250)\n",
    "plt.yticks([0.2 , 0.4 , 0.6 , 0.8  ], [\"0.2\",'0.4', \"0.6\", \"0.8\"], color=\"grey\", size=12)\n",
    "plt.ylim(0,1)\n",
    "\n",
    "ax.plot(angles, mean_list2, 'o-', linewidth=2, label = \"Non-Hit songs\", color = 'b')\n",
    "ax.fill(angles, mean_list2, alpha=0.25, facecolor='m')\n",
    "ax.set_title(\"Valeurs moyennes des caracteristiques d'audio\")\n",
    "ax.grid(True)\n",
    "\n",
    "plt.legend(loc='best', bbox_to_anchor=(1.6, 1.0))\n",
    "plt.style.use(\"ggplot\")"
   ]
  },
  {
   "cell_type": "code",
   "execution_count": 15,
   "metadata": {},
   "outputs": [
    {
     "data": {
      "image/png": "[encoded data removed]",
      "text/plain": [
       "<Figure size 1296x576 with 3 Axes>"
      ]
     },
     "metadata": {},
     "output_type": "display_data"
    }
   ],
   "source": [
    "#%%capture\n",
    "fig,(ax1, ax2, ax3)=plt.subplots(1,3,figsize=(18,8))\n",
    "fig.suptitle('Date de sortie des musiques hits')\n",
    "ax1.set_title('Mois')\n",
    "ax1.hist(df[df['hit']==1]['mois_sortie'], bins=30, color='blue')\n",
    "ax2.set_title('Jour de la semaine')\n",
    "ax2.hist(df[df['hit']==1]['jour_sem_sortie'], bins=14,color='red')\n",
    "ax3.set_title('Jour')\n",
    "ax3.hist(df[df['hit']==1]['jour_sortie'], bins=62,color='blue')\n",
    "plt.show()"
   ]
  },
  {
   "cell_type": "markdown",
   "metadata": {},
   "source": [
    "# Modèle de machine learning\n",
    "\n",
    "Jusque-là, nous avons pu découvrir quelques interéssants insights sur les données. Afin d'écourter cet article, passons directement en la partie concernant l'algorithme de machine learning que nous allons utiliser. Nous allons construire un modèle afin de prédire la classe, hit ou non-hit, qu'une musique est la plus susceptible d'appartenir en nous basant sur un ensemble de variables explicatives, comme expliqué au début."
   ]
  },
  {
   "cell_type": "code",
   "execution_count": 15,
   "metadata": {},
   "outputs": [],
   "source": [
    "#Suppression de variables qui ne sont pas utilisées par le modèle\n",
    "df.drop(['nom_chanson','search','nom_artiste','date_sortie',\n",
    "        'jour_sem_sortie','jour_sortie','mois_sortie','time_signature'],axis=1,inplace=True)"
   ]
  },
  {
   "cell_type": "code",
   "execution_count": 8,
   "metadata": {},
   "outputs": [
    {
     "data": {
      "text/html": [
       "<div>\n",
       "<style scoped>\n",
       "    .dataframe tbody tr th:only-of-type {\n",
       "        vertical-align: middle;\n",
       "    }\n",
       "\n",
       "    .dataframe tbody tr th {\n",
       "        vertical-align: top;\n",
       "    }\n",
       "\n",
       "    .dataframe thead th {\n",
       "        text-align: right;\n",
       "    }\n",
       "</style>\n",
       "<table border=\"1\" class=\"dataframe\">\n",
       "  <thead>\n",
       "    <tr style=\"text-align: right;\">\n",
       "      <th></th>\n",
       "      <th>pop_artiste</th>\n",
       "      <th>tot_followers</th>\n",
       "      <th>marche_disp</th>\n",
       "      <th>pop_chanson</th>\n",
       "      <th>acoustique</th>\n",
       "      <th>dansabilite</th>\n",
       "      <th>duree</th>\n",
       "      <th>energie</th>\n",
       "      <th>instrumentalite</th>\n",
       "      <th>vivacite</th>\n",
       "      <th>intensite</th>\n",
       "      <th>eloquence</th>\n",
       "      <th>tempo</th>\n",
       "      <th>valence</th>\n",
       "      <th>hit</th>\n",
       "      <th>featuring</th>\n",
       "    </tr>\n",
       "  </thead>\n",
       "  <tbody>\n",
       "    <tr>\n",
       "      <th>pop_artiste</th>\n",
       "      <td>1.000000</td>\n",
       "      <td>0.471912</td>\n",
       "      <td>-0.007970</td>\n",
       "      <td>0.303244</td>\n",
       "      <td>-0.112337</td>\n",
       "      <td>0.167648</td>\n",
       "      <td>0.003173</td>\n",
       "      <td>0.065691</td>\n",
       "      <td>-0.180871</td>\n",
       "      <td>-0.031044</td>\n",
       "      <td>0.167329</td>\n",
       "      <td>0.099747</td>\n",
       "      <td>0.044434</td>\n",
       "      <td>0.001326</td>\n",
       "      <td>0.100202</td>\n",
       "      <td>0.094110</td>\n",
       "    </tr>\n",
       "    <tr>\n",
       "      <th>tot_followers</th>\n",
       "      <td>0.471912</td>\n",
       "      <td>1.000000</td>\n",
       "      <td>-0.035460</td>\n",
       "      <td>0.225527</td>\n",
       "      <td>-0.060578</td>\n",
       "      <td>0.103486</td>\n",
       "      <td>0.021223</td>\n",
       "      <td>0.027303</td>\n",
       "      <td>-0.129870</td>\n",
       "      <td>0.002913</td>\n",
       "      <td>0.105655</td>\n",
       "      <td>0.078609</td>\n",
       "      <td>0.013359</td>\n",
       "      <td>-0.009974</td>\n",
       "      <td>0.176870</td>\n",
       "      <td>0.012169</td>\n",
       "    </tr>\n",
       "    <tr>\n",
       "      <th>marche_disp</th>\n",
       "      <td>-0.007970</td>\n",
       "      <td>-0.035460</td>\n",
       "      <td>1.000000</td>\n",
       "      <td>0.296946</td>\n",
       "      <td>0.072134</td>\n",
       "      <td>0.064373</td>\n",
       "      <td>-0.045037</td>\n",
       "      <td>-0.100037</td>\n",
       "      <td>0.043718</td>\n",
       "      <td>-0.010908</td>\n",
       "      <td>-0.085212</td>\n",
       "      <td>0.076791</td>\n",
       "      <td>-0.022189</td>\n",
       "      <td>-0.013525</td>\n",
       "      <td>-0.055483</td>\n",
       "      <td>0.061697</td>\n",
       "    </tr>\n",
       "    <tr>\n",
       "      <th>pop_chanson</th>\n",
       "      <td>0.303244</td>\n",
       "      <td>0.225527</td>\n",
       "      <td>0.296946</td>\n",
       "      <td>1.000000</td>\n",
       "      <td>0.034527</td>\n",
       "      <td>0.160340</td>\n",
       "      <td>-0.117822</td>\n",
       "      <td>-0.093330</td>\n",
       "      <td>-0.057530</td>\n",
       "      <td>-0.059950</td>\n",
       "      <td>-0.000687</td>\n",
       "      <td>0.058368</td>\n",
       "      <td>-0.028977</td>\n",
       "      <td>-0.019740</td>\n",
       "      <td>0.213542</td>\n",
       "      <td>0.084356</td>\n",
       "    </tr>\n",
       "    <tr>\n",
       "      <th>acoustique</th>\n",
       "      <td>-0.112337</td>\n",
       "      <td>-0.060578</td>\n",
       "      <td>0.072134</td>\n",
       "      <td>0.034527</td>\n",
       "      <td>1.000000</td>\n",
       "      <td>-0.198839</td>\n",
       "      <td>-0.034941</td>\n",
       "      <td>-0.685474</td>\n",
       "      <td>0.300345</td>\n",
       "      <td>-0.108809</td>\n",
       "      <td>-0.565409</td>\n",
       "      <td>-0.076829</td>\n",
       "      <td>-0.172492</td>\n",
       "      <td>-0.200237</td>\n",
       "      <td>-0.083301</td>\n",
       "      <td>-0.086256</td>\n",
       "    </tr>\n",
       "    <tr>\n",
       "      <th>dansabilite</th>\n",
       "      <td>0.167648</td>\n",
       "      <td>0.103486</td>\n",
       "      <td>0.064373</td>\n",
       "      <td>0.160340</td>\n",
       "      <td>-0.198839</td>\n",
       "      <td>1.000000</td>\n",
       "      <td>-0.156642</td>\n",
       "      <td>0.136154</td>\n",
       "      <td>-0.365995</td>\n",
       "      <td>-0.115685</td>\n",
       "      <td>0.365975</td>\n",
       "      <td>0.221945</td>\n",
       "      <td>0.011226</td>\n",
       "      <td>0.456078</td>\n",
       "      <td>0.089727</td>\n",
       "      <td>0.143945</td>\n",
       "    </tr>\n",
       "    <tr>\n",
       "      <th>duree</th>\n",
       "      <td>0.003173</td>\n",
       "      <td>0.021223</td>\n",
       "      <td>-0.045037</td>\n",
       "      <td>-0.117822</td>\n",
       "      <td>-0.034941</td>\n",
       "      <td>-0.156642</td>\n",
       "      <td>1.000000</td>\n",
       "      <td>0.022156</td>\n",
       "      <td>0.032031</td>\n",
       "      <td>0.033742</td>\n",
       "      <td>-0.017676</td>\n",
       "      <td>-0.044298</td>\n",
       "      <td>-0.018763</td>\n",
       "      <td>-0.149138</td>\n",
       "      <td>-0.004841</td>\n",
       "      <td>0.004279</td>\n",
       "    </tr>\n",
       "    <tr>\n",
       "      <th>energie</th>\n",
       "      <td>0.065691</td>\n",
       "      <td>0.027303</td>\n",
       "      <td>-0.100037</td>\n",
       "      <td>-0.093330</td>\n",
       "      <td>-0.685474</td>\n",
       "      <td>0.136154</td>\n",
       "      <td>0.022156</td>\n",
       "      <td>1.000000</td>\n",
       "      <td>-0.318399</td>\n",
       "      <td>0.189026</td>\n",
       "      <td>0.706722</td>\n",
       "      <td>0.075412</td>\n",
       "      <td>0.218443</td>\n",
       "      <td>0.375619</td>\n",
       "      <td>0.048462</td>\n",
       "      <td>0.049591</td>\n",
       "    </tr>\n",
       "    <tr>\n",
       "      <th>instrumentalite</th>\n",
       "      <td>-0.180871</td>\n",
       "      <td>-0.129870</td>\n",
       "      <td>0.043718</td>\n",
       "      <td>-0.057530</td>\n",
       "      <td>0.300345</td>\n",
       "      <td>-0.365995</td>\n",
       "      <td>0.032031</td>\n",
       "      <td>-0.318399</td>\n",
       "      <td>1.000000</td>\n",
       "      <td>0.034205</td>\n",
       "      <td>-0.629096</td>\n",
       "      <td>-0.134181</td>\n",
       "      <td>-0.152351</td>\n",
       "      <td>-0.290987</td>\n",
       "      <td>-0.053647</td>\n",
       "      <td>-0.090761</td>\n",
       "    </tr>\n",
       "    <tr>\n",
       "      <th>vivacite</th>\n",
       "      <td>-0.031044</td>\n",
       "      <td>0.002913</td>\n",
       "      <td>-0.010908</td>\n",
       "      <td>-0.059950</td>\n",
       "      <td>-0.108809</td>\n",
       "      <td>-0.115685</td>\n",
       "      <td>0.033742</td>\n",
       "      <td>0.189026</td>\n",
       "      <td>0.034205</td>\n",
       "      <td>1.000000</td>\n",
       "      <td>0.034256</td>\n",
       "      <td>0.114144</td>\n",
       "      <td>-0.007540</td>\n",
       "      <td>-0.007714</td>\n",
       "      <td>-0.027537</td>\n",
       "      <td>0.008407</td>\n",
       "    </tr>\n",
       "    <tr>\n",
       "      <th>intensite</th>\n",
       "      <td>0.167329</td>\n",
       "      <td>0.105655</td>\n",
       "      <td>-0.085212</td>\n",
       "      <td>-0.000687</td>\n",
       "      <td>-0.565409</td>\n",
       "      <td>0.365975</td>\n",
       "      <td>-0.017676</td>\n",
       "      <td>0.706722</td>\n",
       "      <td>-0.629096</td>\n",
       "      <td>0.034256</td>\n",
       "      <td>1.000000</td>\n",
       "      <td>0.048962</td>\n",
       "      <td>0.237162</td>\n",
       "      <td>0.389194</td>\n",
       "      <td>0.076067</td>\n",
       "      <td>0.080581</td>\n",
       "    </tr>\n",
       "    <tr>\n",
       "      <th>eloquence</th>\n",
       "      <td>0.099747</td>\n",
       "      <td>0.078609</td>\n",
       "      <td>0.076791</td>\n",
       "      <td>0.058368</td>\n",
       "      <td>-0.076829</td>\n",
       "      <td>0.221945</td>\n",
       "      <td>-0.044298</td>\n",
       "      <td>0.075412</td>\n",
       "      <td>-0.134181</td>\n",
       "      <td>0.114144</td>\n",
       "      <td>0.048962</td>\n",
       "      <td>1.000000</td>\n",
       "      <td>0.070312</td>\n",
       "      <td>0.057237</td>\n",
       "      <td>-0.001674</td>\n",
       "      <td>0.144762</td>\n",
       "    </tr>\n",
       "    <tr>\n",
       "      <th>tempo</th>\n",
       "      <td>0.044434</td>\n",
       "      <td>0.013359</td>\n",
       "      <td>-0.022189</td>\n",
       "      <td>-0.028977</td>\n",
       "      <td>-0.172492</td>\n",
       "      <td>0.011226</td>\n",
       "      <td>-0.018763</td>\n",
       "      <td>0.218443</td>\n",
       "      <td>-0.152351</td>\n",
       "      <td>-0.007540</td>\n",
       "      <td>0.237162</td>\n",
       "      <td>0.070312</td>\n",
       "      <td>1.000000</td>\n",
       "      <td>0.107159</td>\n",
       "      <td>0.011229</td>\n",
       "      <td>-0.005830</td>\n",
       "    </tr>\n",
       "    <tr>\n",
       "      <th>valence</th>\n",
       "      <td>0.001326</td>\n",
       "      <td>-0.009974</td>\n",
       "      <td>-0.013525</td>\n",
       "      <td>-0.019740</td>\n",
       "      <td>-0.200237</td>\n",
       "      <td>0.456078</td>\n",
       "      <td>-0.149138</td>\n",
       "      <td>0.375619</td>\n",
       "      <td>-0.290987</td>\n",
       "      <td>-0.007714</td>\n",
       "      <td>0.389194</td>\n",
       "      <td>0.057237</td>\n",
       "      <td>0.107159</td>\n",
       "      <td>1.000000</td>\n",
       "      <td>0.048334</td>\n",
       "      <td>0.018964</td>\n",
       "    </tr>\n",
       "    <tr>\n",
       "      <th>hit</th>\n",
       "      <td>0.100202</td>\n",
       "      <td>0.176870</td>\n",
       "      <td>-0.055483</td>\n",
       "      <td>0.213542</td>\n",
       "      <td>-0.083301</td>\n",
       "      <td>0.089727</td>\n",
       "      <td>-0.004841</td>\n",
       "      <td>0.048462</td>\n",
       "      <td>-0.053647</td>\n",
       "      <td>-0.027537</td>\n",
       "      <td>0.076067</td>\n",
       "      <td>-0.001674</td>\n",
       "      <td>0.011229</td>\n",
       "      <td>0.048334</td>\n",
       "      <td>1.000000</td>\n",
       "      <td>0.049430</td>\n",
       "    </tr>\n",
       "    <tr>\n",
       "      <th>featuring</th>\n",
       "      <td>0.094110</td>\n",
       "      <td>0.012169</td>\n",
       "      <td>0.061697</td>\n",
       "      <td>0.084356</td>\n",
       "      <td>-0.086256</td>\n",
       "      <td>0.143945</td>\n",
       "      <td>0.004279</td>\n",
       "      <td>0.049591</td>\n",
       "      <td>-0.090761</td>\n",
       "      <td>0.008407</td>\n",
       "      <td>0.080581</td>\n",
       "      <td>0.144762</td>\n",
       "      <td>-0.005830</td>\n",
       "      <td>0.018964</td>\n",
       "      <td>0.049430</td>\n",
       "      <td>1.000000</td>\n",
       "    </tr>\n",
       "  </tbody>\n",
       "</table>\n",
       "</div>"
      ],
      "text/plain": [
       "                 pop_artiste  tot_followers  marche_disp  pop_chanson  \\\n",
       "pop_artiste         1.000000       0.471912    -0.007970     0.303244   \n",
       "tot_followers       0.471912       1.000000    -0.035460     0.225527   \n",
       "marche_disp        -0.007970      -0.035460     1.000000     0.296946   \n",
       "pop_chanson         0.303244       0.225527     0.296946     1.000000   \n",
       "acoustique         -0.112337      -0.060578     0.072134     0.034527   \n",
       "dansabilite         0.167648       0.103486     0.064373     0.160340   \n",
       "duree               0.003173       0.021223    -0.045037    -0.117822   \n",
       "energie             0.065691       0.027303    -0.100037    -0.093330   \n",
       "instrumentalite    -0.180871      -0.129870     0.043718    -0.057530   \n",
       "vivacite           -0.031044       0.002913    -0.010908    -0.059950   \n",
       "intensite           0.167329       0.105655    -0.085212    -0.000687   \n",
       "eloquence           0.099747       0.078609     0.076791     0.058368   \n",
       "tempo               0.044434       0.013359    -0.022189    -0.028977   \n",
       "valence             0.001326      -0.009974    -0.013525    -0.019740   \n",
       "hit                 0.100202       0.176870    -0.055483     0.213542   \n",
       "featuring           0.094110       0.012169     0.061697     0.084356   \n",
       "\n",
       "                 acoustique  dansabilite     duree   energie  instrumentalite  \\\n",
       "pop_artiste       -0.112337     0.167648  0.003173  0.065691        -0.180871   \n",
       "tot_followers     -0.060578     0.103486  0.021223  0.027303        -0.129870   \n",
       "marche_disp        0.072134     0.064373 -0.045037 -0.100037         0.043718   \n",
       "pop_chanson        0.034527     0.160340 -0.117822 -0.093330        -0.057530   \n",
       "acoustique         1.000000    -0.198839 -0.034941 -0.685474         0.300345   \n",
       "dansabilite       -0.198839     1.000000 -0.156642  0.136154        -0.365995   \n",
       "duree             -0.034941    -0.156642  1.000000  0.022156         0.032031   \n",
       "energie           -0.685474     0.136154  0.022156  1.000000        -0.318399   \n",
       "instrumentalite    0.300345    -0.365995  0.032031 -0.318399         1.000000   \n",
       "vivacite          -0.108809    -0.115685  0.033742  0.189026         0.034205   \n",
       "intensite         -0.565409     0.365975 -0.017676  0.706722        -0.629096   \n",
       "eloquence         -0.076829     0.221945 -0.044298  0.075412        -0.134181   \n",
       "tempo             -0.172492     0.011226 -0.018763  0.218443        -0.152351   \n",
       "valence           -0.200237     0.456078 -0.149138  0.375619        -0.290987   \n",
       "hit               -0.083301     0.089727 -0.004841  0.048462        -0.053647   \n",
       "featuring         -0.086256     0.143945  0.004279  0.049591        -0.090761   \n",
       "\n",
       "                 vivacite  intensite  eloquence     tempo   valence       hit  \\\n",
       "pop_artiste     -0.031044   0.167329   0.099747  0.044434  0.001326  0.100202   \n",
       "tot_followers    0.002913   0.105655   0.078609  0.013359 -0.009974  0.176870   \n",
       "marche_disp     -0.010908  -0.085212   0.076791 -0.022189 -0.013525 -0.055483   \n",
       "pop_chanson     -0.059950  -0.000687   0.058368 -0.028977 -0.019740  0.213542   \n",
       "acoustique      -0.108809  -0.565409  -0.076829 -0.172492 -0.200237 -0.083301   \n",
       "dansabilite     -0.115685   0.365975   0.221945  0.011226  0.456078  0.089727   \n",
       "duree            0.033742  -0.017676  -0.044298 -0.018763 -0.149138 -0.004841   \n",
       "energie          0.189026   0.706722   0.075412  0.218443  0.375619  0.048462   \n",
       "instrumentalite  0.034205  -0.629096  -0.134181 -0.152351 -0.290987 -0.053647   \n",
       "vivacite         1.000000   0.034256   0.114144 -0.007540 -0.007714 -0.027537   \n",
       "intensite        0.034256   1.000000   0.048962  0.237162  0.389194  0.076067   \n",
       "eloquence        0.114144   0.048962   1.000000  0.070312  0.057237 -0.001674   \n",
       "tempo           -0.007540   0.237162   0.070312  1.000000  0.107159  0.011229   \n",
       "valence         -0.007714   0.389194   0.057237  0.107159  1.000000  0.048334   \n",
       "hit             -0.027537   0.076067  -0.001674  0.011229  0.048334  1.000000   \n",
       "featuring        0.008407   0.080581   0.144762 -0.005830  0.018964  0.049430   \n",
       "\n",
       "                 featuring  \n",
       "pop_artiste       0.094110  \n",
       "tot_followers     0.012169  \n",
       "marche_disp       0.061697  \n",
       "pop_chanson       0.084356  \n",
       "acoustique       -0.086256  \n",
       "dansabilite       0.143945  \n",
       "duree             0.004279  \n",
       "energie           0.049591  \n",
       "instrumentalite  -0.090761  \n",
       "vivacite          0.008407  \n",
       "intensite         0.080581  \n",
       "eloquence         0.144762  \n",
       "tempo            -0.005830  \n",
       "valence           0.018964  \n",
       "hit               0.049430  \n",
       "featuring         1.000000  "
      ]
     },
     "execution_count": 8,
     "metadata": {},
     "output_type": "execute_result"
    }
   ],
   "source": [
    "# Vérification de la corrélation entre les variables\n",
    "df.corr()"
   ]
  },
  {
   "cell_type": "markdown",
   "metadata": {},
   "source": [
    "Les niveaux de corrélation des variables quantitatives sont acceptables. Notre modèle pourra fonctionner très bien avec. "
   ]
  },
  {
   "cell_type": "code",
   "execution_count": 16,
   "metadata": {},
   "outputs": [],
   "source": [
    "from sklearn.preprocessing import MinMaxScaler\n",
    "scaler = MinMaxScaler()\n",
    "df[['acoustique', 'dansabilite', 'energie', 'instrumentalite', 'vivacite','intensite','eloquence', 'valence','tempo','pop_artiste','tot_followers','marche_disp','duree','pop_chanson']]=scaler.fit_transform(df[['acoustique', 'dansabilite', 'energie', 'instrumentalite', 'vivacite','intensite','eloquence', 'valence','tempo','pop_artiste','tot_followers','marche_disp','duree','pop_chanson']])"
   ]
  },
  {
   "cell_type": "code",
   "execution_count": 17,
   "metadata": {},
   "outputs": [],
   "source": [
    "X=df[['acoustique', 'dansabilite', 'energie', 'instrumentalite', 'vivacite','intensite','eloquence', 'valence','tempo','duree']]\n",
    "y=df['hit']"
   ]
  },
  {
   "cell_type": "code",
   "execution_count": 18,
   "metadata": {},
   "outputs": [],
   "source": [
    "from sklearn.model_selection import train_test_split\n",
    "from imblearn.over_sampling import SMOTE\n",
    "\n",
    "sm = SMOTE(random_state=42)\n",
    "\n",
    "X_train, X_test, y_train, y_test = train_test_split(X, y, test_size=0.30, random_state=20)\n",
    "\n",
    "# Oversampling training data\n",
    "X_res, y_res = sm.fit_resample(X_train, y_train)"
   ]
  },
  {
   "cell_type": "code",
   "execution_count": 14,
   "metadata": {},
   "outputs": [],
   "source": [
    "%%capture\n",
    "# Optimisation des paramètre à choisir pour le modèle\n",
    "from sklearn.model_selection import GridSearchCV\n",
    "estimator = lgb.LGBMClassifier(learning_rate = 0.125, metric = 'auc', \n",
    "                        n_estimators = 20, num_leaves = 38)\n",
    "\n",
    "\n",
    "param_grid = {\n",
    "    'n_estimators': [x for x in range(90,102,2)],\n",
    "    'learning_rate': [0.10, 0.125, 0.15, 0.175, 0.2]}\n",
    "gridsearch = GridSearchCV(estimator, param_grid, scoring='accuracy')\n",
    "\n",
    "gridsearch.fit(X_res, y_res,\n",
    "        eval_set = [(X_test, y_test)],\n",
    "        eval_metric = ['auc', 'binary_logloss'],\n",
    "        early_stopping_rounds = 5)"
   ]
  },
  {
   "cell_type": "code",
   "execution_count": 15,
   "metadata": {},
   "outputs": [
    {
     "name": "stdout",
     "output_type": "stream",
     "text": [
      "Best parameters found by grid search are: {'learning_rate': 0.2, 'n_estimators': 90}\n"
     ]
    }
   ],
   "source": [
    "print('Best parameters found by grid search are:', gridsearch.best_params_)"
   ]
  },
  {
   "cell_type": "code",
   "execution_count": 19,
   "metadata": {},
   "outputs": [],
   "source": [
    "%%capture\n",
    "%matplotlib inline\n",
    "import lightgbm as lgb\n",
    "from sklearn.model_selection import train_test_split\n",
    "from sklearn.metrics import auc, accuracy_score, roc_auc_score, roc_curve, confusion_matrix\n",
    "import seaborn as sns\n",
    "import matplotlib.pyplot as plt\n",
    "\n",
    "# Paramètres optimisés via GridSearch\n",
    "clf = lgb.LGBMClassifier( boosting_type='gbdt', class_weight=None, colsample_bytree=1.0,\n",
    "               importance_type='split', learning_rate=0.2, max_depth=-1,\n",
    "               min_child_samples=20, min_child_weight=0.001, min_split_gain=0.0,\n",
    "               n_estimators=90, n_jobs=-1, num_leaves=31, objective=None,\n",
    "               random_state=None, reg_alpha=0.0, reg_lambda=0.0, silent=True,\n",
    "               subsample=1.0, subsample_for_bin=200000, subsample_freq=0 )\n",
    "\n",
    "clf.fit(X_train, y_train)"
   ]
  },
  {
   "cell_type": "code",
   "execution_count": 20,
   "metadata": {},
   "outputs": [
    {
     "data": {
      "image/png": "[encoded data removed]",
      "text/plain": [
       "<Figure size 432x288 with 1 Axes>"
      ]
     },
     "metadata": {
      "needs_background": "light"
     },
     "output_type": "display_data"
    }
   ],
   "source": [
    "clf_roc_auc = roc_auc_score(y_test, clf.predict(X_test))\n",
    "fpr, tpr, thresholds = roc_curve(y_test, clf.predict_proba(X_test)[:,1])\n",
    "plt.figure()\n",
    "plt.plot(fpr, tpr, label='LightGBM classifier (area = %0.2f)' % clf_roc_auc)\n",
    "plt.plot([0, 1], [0, 1],'r--')\n",
    "plt.xlim([0.0, 1.0])\n",
    "plt.ylim([0.0, 1.05])\n",
    "plt.xlabel('False Positive Rate')\n",
    "plt.ylabel('True Positive Rate')\n",
    "plt.title('Receiver operating characteristic')\n",
    "plt.legend(loc=\"lower right\")\n",
    "#plt.savefig('Log_ROC')\n",
    "plt.show()"
   ]
  },
  {
   "cell_type": "code",
   "execution_count": 21,
   "metadata": {},
   "outputs": [
    {
     "name": "stdout",
     "output_type": "stream",
     "text": [
      "Matrice confusion \n",
      "\n",
      " [[5465   19]\n",
      " [ 268    3]]\n",
      "\n",
      "True Positives(TP) =  3\n",
      "\n",
      "True Negatives(TN) =  5465\n",
      "\n",
      "False Positives(FP) =  268\n",
      "\n",
      "False Negatives(FN) =  19\n"
     ]
    }
   ],
   "source": [
    "#Matrice de confusion\n",
    "from sklearn.metrics import confusion_matrix\n",
    "cm = confusion_matrix(y_test, clf.predict(X_test))\n",
    "print('Matrice confusion \\n\\n', cm)\n",
    "print('\\nTrue Positives(TP) = ', cm[1,1])\n",
    "print('\\nTrue Negatives(TN) = ', cm[0,0])\n",
    "print('\\nFalse Positives(FP) = ', cm[1,0])\n",
    "print('\\nFalse Negatives(FN) = ', cm[0,1])"
   ]
  },
  {
   "cell_type": "code",
   "execution_count": 22,
   "metadata": {},
   "outputs": [
    {
     "data": {
      "image/png": "[encoded data removed]",
      "text/plain": [
       "<Figure size 1152x576 with 2 Axes>"
      ]
     },
     "metadata": {
      "needs_background": "light"
     },
     "output_type": "display_data"
    }
   ],
   "source": [
    "cm = confusion_matrix(y_test, clf.predict(X_test))\n",
    "mc_matrice = pd.DataFrame(data=cm, columns=['Classe réelle:0', 'Classe réelle:1'], \n",
    "                                 index=['Classe prédite:0', 'Classe prédite:1'])\n",
    "plt.figure(figsize=(16,8))\n",
    "ax1=plt.axes()\n",
    "sns.heatmap(mc_matrice, ax=ax1, annot=True, fmt='d', cmap='BuPu')\n",
    "ax1.set_title('Matrice de confusion')\n",
    "\n",
    "plt.show()"
   ]
  },
  {
   "cell_type": "code",
   "execution_count": 23,
   "metadata": {},
   "outputs": [
    {
     "name": "stdout",
     "output_type": "stream",
     "text": [
      "              precision    recall  f1-score   support\n",
      "\n",
      "           0       0.95      1.00      0.97      5484\n",
      "           1       0.14      0.01      0.02       271\n",
      "\n",
      "    accuracy                           0.95      5755\n",
      "   macro avg       0.54      0.50      0.50      5755\n",
      "weighted avg       0.91      0.95      0.93      5755\n",
      "\n"
     ]
    }
   ],
   "source": [
    "from sklearn.metrics import classification_report\n",
    "print(classification_report(y_test, clf.predict(X_test)))"
   ]
  },
  {
   "cell_type": "code",
   "execution_count": 24,
   "metadata": {},
   "outputs": [
    {
     "data": {
      "image/png": "[encoded data removed]",
      "text/plain": [
       "<Figure size 1152x576 with 1 Axes>"
      ]
     },
     "metadata": {
      "needs_background": "light"
     },
     "output_type": "display_data"
    }
   ],
   "source": [
    "#plt.figure(figsize=(16,8))\n",
    "ax=lgb.plot_importance(clf, height = 0.4,                  \n",
    "                         max_num_features = 10, \n",
    "                         importance_type='split',\n",
    "                         xlim = (0,500), ylim = (0,10),color='b', \n",
    "                         figsize = (16,8))\n",
    "\n",
    "\n",
    "plt.show()"
   ]
  },
  {
   "cell_type": "markdown",
   "metadata": {},
   "source": [
    "### Plus de données, meilleur modèle"
   ]
  },
  {
   "cell_type": "code",
   "execution_count": 25,
   "metadata": {},
   "outputs": [
    {
     "data": {
      "text/plain": [
       "LGBMClassifier(boosting_type='gbdt', class_weight=None, colsample_bytree=1.0,\n",
       "               importance_type='split', learning_rate=0.2, max_depth=-1,\n",
       "               min_child_samples=20, min_child_weight=0.001, min_split_gain=0.0,\n",
       "               n_estimators=90, n_jobs=-1, num_leaves=31, objective=None,\n",
       "               random_state=None, reg_alpha=0.0, reg_lambda=0.0, silent=True,\n",
       "               subsample=1.0, subsample_for_bin=200000, subsample_freq=0)"
      ]
     },
     "execution_count": 25,
     "metadata": {},
     "output_type": "execute_result"
    }
   ],
   "source": [
    "X=df[['acoustique', 'dansabilite', 'energie', 'instrumentalite', 'vivacite','intensite','eloquence', 'valence','tempo','duree','featuring','pop_artiste','tot_followers','marche_disp','pop_chanson']]\n",
    "y=df['hit']\n",
    "\n",
    "X_train, X_test, y_train, y_test = train_test_split(X, y, test_size=0.30, random_state=20)\n",
    "\n",
    "X_res, y_res = sm.fit_resample(X_train, y_train)\n",
    "\n",
    "clf.fit(X_res, y_res)"
   ]
  },
  {
   "cell_type": "code",
   "execution_count": 29,
   "metadata": {},
   "outputs": [
    {
     "data": {
      "image/png": "[encoded data removed]",
      "text/plain": [
       "<Figure size 432x288 with 1 Axes>"
      ]
     },
     "metadata": {
      "needs_background": "light"
     },
     "output_type": "display_data"
    }
   ],
   "source": [
    "clf_roc_auc = roc_auc_score(y_test, clf.predict(X_test))\n",
    "fpr, tpr, thresholds = roc_curve(y_test, clf.predict_proba(X_test)[:,1])\n",
    "plt.figure()\n",
    "plt.plot(fpr, tpr, label='LightGBM classifier (area = %0.2f)' % clf_roc_auc)\n",
    "plt.plot([0, 1], [0, 1],'r--')\n",
    "plt.xlim([0.0, 1.0])\n",
    "plt.ylim([0.0, 1.05])\n",
    "plt.xlabel('False Positive Rate')\n",
    "plt.ylabel('True Positive Rate')\n",
    "plt.title('Receiver operating characteristic')\n",
    "plt.legend(loc=\"lower right\")\n",
    "#plt.savefig('Log_ROC')\n",
    "plt.show()"
   ]
  },
  {
   "cell_type": "code",
   "execution_count": 26,
   "metadata": {},
   "outputs": [
    {
     "data": {
      "image/png": "[encoded data removed]",
      "text/plain": [
       "<Figure size 1152x576 with 2 Axes>"
      ]
     },
     "metadata": {
      "needs_background": "light"
     },
     "output_type": "display_data"
    }
   ],
   "source": [
    "y_pred=clf.predict(X_test)\n",
    "cm = confusion_matrix(y_test, y_pred)\n",
    "mc_matrice = pd.DataFrame(data=cm, columns=['Classe réelle:0', 'Classe réelle:1'], \n",
    "                                 index=['Classe prédite:0', 'Classe prédite:1'])\n",
    "plt.figure(figsize=(16,8))\n",
    "ax2=plt.axes()\n",
    "sns.heatmap(mc_matrice, ax=ax2, annot=True, fmt='d', cmap='BuPu')\n",
    "ax2.set_title('Matrice de confusion')\n",
    "plt.show()"
   ]
  },
  {
   "cell_type": "code",
   "execution_count": 27,
   "metadata": {},
   "outputs": [
    {
     "name": "stdout",
     "output_type": "stream",
     "text": [
      "              precision    recall  f1-score   support\n",
      "\n",
      "     non-hit       0.98      0.98      0.98      5484\n",
      "         hit       0.55      0.52      0.54       271\n",
      "\n",
      "    accuracy                           0.96      5755\n",
      "   macro avg       0.77      0.75      0.76      5755\n",
      "weighted avg       0.96      0.96      0.96      5755\n",
      "\n"
     ]
    }
   ],
   "source": [
    "from sklearn.metrics import classification_report\n",
    "print(classification_report(y_test, y_pred, target_names=['non-hit','hit']))"
   ]
  },
  {
   "cell_type": "code",
   "execution_count": 28,
   "metadata": {},
   "outputs": [
    {
     "data": {
      "image/png": "[encoded data removed]",
      "text/plain": [
       "<Figure size 1152x576 with 1 Axes>"
      ]
     },
     "metadata": {
      "needs_background": "light"
     },
     "output_type": "display_data"
    }
   ],
   "source": [
    "ax=lgb.plot_importance(clf, height = 0.4,                  \n",
    "                         max_num_features = 18, \n",
    "                         importance_type='split',\n",
    "                         xlim = (0,800), ylim = (0,16), color='r',\n",
    "                         figsize = (16,8))\n",
    "plt.show()"
   ]
  },
  {
   "cell_type": "code",
   "execution_count": 32,
   "metadata": {},
   "outputs": [
    {
     "data": {
      "text/plain": [
       "['song_classifier_part_1.pkl']"
      ]
     },
     "execution_count": 32,
     "metadata": {},
     "output_type": "execute_result"
    }
   ],
   "source": [
    "import joblib\n",
    "# save model\n",
    "joblib.dump(clf, 'song_classifier_part_1.pkl')"
   ]
  },
  {
   "cell_type": "code",
   "execution_count": 33,
   "metadata": {},
   "outputs": [],
   "source": [
    "# load model\n",
    "clf_pickle = joblib.load('song_classifier_part_1.pkl')"
   ]
  }
 ],
 "metadata": {
  "kernelspec": {
   "display_name": "Python 3",
   "language": "python",
   "name": "python3"
  },
  "language_info": {
   "codemirror_mode": {
    "name": "ipython",
    "version": 3
   },
   "file_extension": ".py",
   "mimetype": "text/x-python",
   "name": "python",
   "nbconvert_exporter": "python",
   "pygments_lexer": "ipython3",
   "version": "3.8.2"
  }
 },
 "nbformat": 4,
 "nbformat_minor": 4
}
