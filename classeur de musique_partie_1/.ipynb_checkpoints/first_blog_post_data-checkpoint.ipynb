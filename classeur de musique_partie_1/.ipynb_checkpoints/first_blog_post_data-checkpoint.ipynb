{
 "cells": [
  {
   "cell_type": "code",
   "execution_count": 2,
   "metadata": {},
   "outputs": [],
   "source": [
    "import spotipy\n",
    "import pandas as pd\n",
    "from spotipy.oauth2 import SpotifyClientCredentials as SCC"
   ]
  },
  {
   "cell_type": "code",
   "execution_count": 3,
   "metadata": {},
   "outputs": [],
   "source": [
    "SPOTIPY_CLIENT_ID = 'c551b9fb898e45e9b1f95e4fc758ef24' #'47b00020641b4096a995d542a518629f'\n",
    "SPOTIPY_CLIENT_SECRET = '53a60a7731d7484f8bba93b08509e17e' #'6e13c7d6316944e7af4d0a5cb4f8b762'"
   ]
  },
  {
   "cell_type": "code",
   "execution_count": 4,
   "metadata": {},
   "outputs": [],
   "source": [
    "client_credentials_manager = SCC(client_id=SPOTIPY_CLIENT_ID, client_secret = SPOTIPY_CLIENT_SECRET)\n",
    "sp = spotipy.Spotify(client_credentials_manager=client_credentials_manager)"
   ]
  },
  {
   "cell_type": "code",
   "execution_count": 5,
   "metadata": {},
   "outputs": [],
   "source": [
    "track_=[]\n",
    "for j in range(2010,2020,1):\n",
    "    year='year:'+str(j)\n",
    "    for i in range(0,2000,50):\n",
    "        track_results = sp.search(q=year, type='track', limit=50, offset=i)\n",
    "        track_.append(track_results['tracks']['items'])"
   ]
  },
  {
   "cell_type": "code",
   "execution_count": 143,
   "metadata": {},
   "outputs": [],
   "source": [
    "# Autre script pour 2 000 musiques supplementaires\n",
    "track_=[]\n",
    "for j in range(2010,2020,1):\n",
    "    year='year:'+str(j)\n",
    "    for i in range(301,501,50):\n",
    "        track_results = sp.search(q=year, type='track', limit=50, offset=i)\n",
    "        track_.append(track_results['tracks']['items'])"
   ]
  },
  {
   "cell_type": "code",
   "execution_count": 77,
   "metadata": {},
   "outputs": [
    {
     "data": {
      "text/plain": [
       "{'album': {'album_type': 'album',\n",
       "  'artists': [{'external_urls': {'spotify': 'https://open.spotify.com/artist/3kVUvbeRdcrqQ3oHk5hPdx'},\n",
       "    'href': 'https://api.spotify.com/v1/artists/3kVUvbeRdcrqQ3oHk5hPdx',\n",
       "    'id': '3kVUvbeRdcrqQ3oHk5hPdx',\n",
       "    'name': 'Grouplove',\n",
       "    'type': 'artist',\n",
       "    'uri': 'spotify:artist:3kVUvbeRdcrqQ3oHk5hPdx'}],\n",
       "  'available_markets': ['AD',\n",
       "   'AE',\n",
       "   'AR',\n",
       "   'AT',\n",
       "   'AU',\n",
       "   'BE',\n",
       "   'BG',\n",
       "   'BH',\n",
       "   'BO',\n",
       "   'BR',\n",
       "   'CA',\n",
       "   'CH',\n",
       "   'CL',\n",
       "   'CO',\n",
       "   'CR',\n",
       "   'CY',\n",
       "   'CZ',\n",
       "   'DE',\n",
       "   'DK',\n",
       "   'DO',\n",
       "   'DZ',\n",
       "   'EC',\n",
       "   'EE',\n",
       "   'EG',\n",
       "   'ES',\n",
       "   'FI',\n",
       "   'GB',\n",
       "   'GR',\n",
       "   'GT',\n",
       "   'HK',\n",
       "   'HN',\n",
       "   'HU',\n",
       "   'ID',\n",
       "   'IE',\n",
       "   'IL',\n",
       "   'IN',\n",
       "   'IS',\n",
       "   'IT',\n",
       "   'JO',\n",
       "   'JP',\n",
       "   'KW',\n",
       "   'LB',\n",
       "   'LT',\n",
       "   'LU',\n",
       "   'LV',\n",
       "   'MA',\n",
       "   'MC',\n",
       "   'MT',\n",
       "   'MX',\n",
       "   'MY',\n",
       "   'NI',\n",
       "   'NL',\n",
       "   'NO',\n",
       "   'NZ',\n",
       "   'OM',\n",
       "   'PA',\n",
       "   'PE',\n",
       "   'PH',\n",
       "   'PL',\n",
       "   'PT',\n",
       "   'PY',\n",
       "   'QA',\n",
       "   'RO',\n",
       "   'SA',\n",
       "   'SE',\n",
       "   'SG',\n",
       "   'SK',\n",
       "   'SV',\n",
       "   'TH',\n",
       "   'TN',\n",
       "   'TR',\n",
       "   'TW',\n",
       "   'US',\n",
       "   'UY',\n",
       "   'VN',\n",
       "   'ZA'],\n",
       "  'external_urls': {'spotify': 'https://open.spotify.com/album/3oylWMc9TTC6Nx4I6U3axc'},\n",
       "  'href': 'https://api.spotify.com/v1/albums/3oylWMc9TTC6Nx4I6U3axc',\n",
       "  'id': '3oylWMc9TTC6Nx4I6U3axc',\n",
       "  'images': [{'height': 640,\n",
       "    'url': 'https://i.scdn.co/image/ab67616d0000b273d84a9bbcba91cb6a4a212b1b',\n",
       "    'width': 640},\n",
       "   {'height': 300,\n",
       "    'url': 'https://i.scdn.co/image/ab67616d00001e02d84a9bbcba91cb6a4a212b1b',\n",
       "    'width': 300},\n",
       "   {'height': 64,\n",
       "    'url': 'https://i.scdn.co/image/ab67616d00004851d84a9bbcba91cb6a4a212b1b',\n",
       "    'width': 64}],\n",
       "  'name': 'Never Trust a Happy Song',\n",
       "  'release_date': '2011-09-02',\n",
       "  'release_date_precision': 'day',\n",
       "  'total_tracks': 12,\n",
       "  'type': 'album',\n",
       "  'uri': 'spotify:album:3oylWMc9TTC6Nx4I6U3axc'},\n",
       " 'artists': [{'external_urls': {'spotify': 'https://open.spotify.com/artist/3kVUvbeRdcrqQ3oHk5hPdx'},\n",
       "   'href': 'https://api.spotify.com/v1/artists/3kVUvbeRdcrqQ3oHk5hPdx',\n",
       "   'id': '3kVUvbeRdcrqQ3oHk5hPdx',\n",
       "   'name': 'Grouplove',\n",
       "   'type': 'artist',\n",
       "   'uri': 'spotify:artist:3kVUvbeRdcrqQ3oHk5hPdx'}],\n",
       " 'available_markets': ['AD',\n",
       "  'AE',\n",
       "  'AR',\n",
       "  'AT',\n",
       "  'AU',\n",
       "  'BE',\n",
       "  'BG',\n",
       "  'BH',\n",
       "  'BO',\n",
       "  'BR',\n",
       "  'CA',\n",
       "  'CH',\n",
       "  'CL',\n",
       "  'CO',\n",
       "  'CR',\n",
       "  'CY',\n",
       "  'CZ',\n",
       "  'DE',\n",
       "  'DK',\n",
       "  'DO',\n",
       "  'DZ',\n",
       "  'EC',\n",
       "  'EE',\n",
       "  'EG',\n",
       "  'ES',\n",
       "  'FI',\n",
       "  'GB',\n",
       "  'GR',\n",
       "  'GT',\n",
       "  'HK',\n",
       "  'HN',\n",
       "  'HU',\n",
       "  'ID',\n",
       "  'IE',\n",
       "  'IL',\n",
       "  'IN',\n",
       "  'IS',\n",
       "  'IT',\n",
       "  'JO',\n",
       "  'JP',\n",
       "  'KW',\n",
       "  'LB',\n",
       "  'LT',\n",
       "  'LU',\n",
       "  'LV',\n",
       "  'MA',\n",
       "  'MC',\n",
       "  'MT',\n",
       "  'MX',\n",
       "  'MY',\n",
       "  'NI',\n",
       "  'NL',\n",
       "  'NO',\n",
       "  'NZ',\n",
       "  'OM',\n",
       "  'PA',\n",
       "  'PE',\n",
       "  'PH',\n",
       "  'PL',\n",
       "  'PT',\n",
       "  'PY',\n",
       "  'QA',\n",
       "  'RO',\n",
       "  'SA',\n",
       "  'SE',\n",
       "  'SG',\n",
       "  'SK',\n",
       "  'SV',\n",
       "  'TH',\n",
       "  'TN',\n",
       "  'TR',\n",
       "  'TW',\n",
       "  'US',\n",
       "  'UY',\n",
       "  'VN',\n",
       "  'ZA'],\n",
       " 'disc_number': 1,\n",
       " 'duration_ms': 218013,\n",
       " 'explicit': False,\n",
       " 'external_ids': {'isrc': 'USAT21101334'},\n",
       " 'external_urls': {'spotify': 'https://open.spotify.com/track/0GO8y8jQk1PkHzS31d699N'},\n",
       " 'href': 'https://api.spotify.com/v1/tracks/0GO8y8jQk1PkHzS31d699N',\n",
       " 'id': '0GO8y8jQk1PkHzS31d699N',\n",
       " 'is_local': False,\n",
       " 'name': 'Tongue Tied',\n",
       " 'popularity': 81,\n",
       " 'preview_url': 'https://p.scdn.co/mp3-preview/2147e7bd8762aa4f7f1ce38ba02cfa618c530758?cid=c551b9fb898e45e9b1f95e4fc758ef24',\n",
       " 'track_number': 2,\n",
       " 'type': 'track',\n",
       " 'uri': 'spotify:track:0GO8y8jQk1PkHzS31d699N'}"
      ]
     },
     "execution_count": 77,
     "metadata": {},
     "output_type": "execute_result"
    }
   ],
   "source": [
    "track_[40][0]"
   ]
  },
  {
   "cell_type": "code",
   "execution_count": 104,
   "metadata": {},
   "outputs": [
    {
     "data": {
      "text/plain": [
       "40"
      ]
     },
     "execution_count": 104,
     "metadata": {},
     "output_type": "execute_result"
    }
   ],
   "source": [
    "len(track_)"
   ]
  },
  {
   "cell_type": "code",
   "execution_count": 44,
   "metadata": {
    "scrolled": true
   },
   "outputs": [
    {
     "data": {
      "text/plain": [
       "20000"
      ]
     },
     "execution_count": 44,
     "metadata": {},
     "output_type": "execute_result"
    }
   ],
   "source": [
    "len(track_)*len(track_[0])"
   ]
  },
  {
   "cell_type": "code",
   "execution_count": 70,
   "metadata": {},
   "outputs": [],
   "source": [
    "# M mete list sa yo apa poum k retrive 2 000 done pa ane separeman; paske chak fwa m woule skrip lan avek bouk for yo pou tout\n",
    "#ane yo, li timed out\n",
    "artist_name=[]\n",
    "pop_artist=[]\n",
    "tot_followers=[] \n",
    "track_name=[]\n",
    "avail_mark=[]\n",
    "rel_date=[]\n",
    "pop_track=[]\n",
    "acousticness=[]\n",
    "danceability=[]\n",
    "duration_ms=[]\n",
    "energy=[]\n",
    "instrumentalness=[]\n",
    "liveness=[]\n",
    "loudness=[]\n",
    "speechiness=[]\n",
    "tempo=[]\n",
    "time_signature=[]\n",
    "valence=[]"
   ]
  },
  {
   "cell_type": "code",
   "execution_count": 144,
   "metadata": {},
   "outputs": [],
   "source": [
    "for i in range(0,40,1):\n",
    "    for j in range(0,50,1):\n",
    "        track_uri=track_[i][j]['uri']\n",
    "        audio_features = sp.audio_features(track_uri)[0]\n",
    "        \n",
    "        if audio_features != None:\n",
    "            # Artist info\n",
    "            artist_uri=track_[i][j]['album']['artists'][0]['uri']\n",
    "            artist = sp.artist(artist_uri)\n",
    "            artist_name.append(artist['name'])\n",
    "            pop_artist.append(artist['popularity'])\n",
    "            tot_followers.append(artist['followers']['total'])\n",
    "\n",
    "            # Track info\n",
    "            track_name.append(track_[i][j]['name'])\n",
    "            avail_mark.append(len(track_[i][j]['available_markets']))\n",
    "            rel_date.append(track_[i][j]['album']['release_date'])\n",
    "            pop_track.append(track_[i][j]['popularity'])\n",
    "            \n",
    "            acousticness.append(audio_features['acousticness'])\n",
    "            danceability.append(audio_features['danceability'])\n",
    "            duration_ms.append(audio_features['duration_ms'])\n",
    "            energy.append(audio_features['energy'])\n",
    "            instrumentalness.append(audio_features['instrumentalness'])\n",
    "            liveness.append(audio_features['liveness'])\n",
    "            loudness.append(audio_features['loudness'])\n",
    "            speechiness.append(audio_features['speechiness'])\n",
    "            tempo.append(audio_features['tempo'])\n",
    "            time_signature.append(audio_features['time_signature'])\n",
    "            valence.append(audio_features['valence'])"
   ]
  },
  {
   "cell_type": "code",
   "execution_count": 147,
   "metadata": {},
   "outputs": [],
   "source": [
    "import pandas as pd\n",
    "df = pd.DataFrame({'artist_name':artist_name,'pop_artist':pop_artist,'tot_followers':tot_followers,'track_name':track_name,\n",
    "                   'avail_mark':avail_mark,'rel_date':rel_date,'pop_track':pop_track,'acousticness':acousticness,\n",
    "                   'danceability':danceability,'duration_ms':duration_ms,'energy':energy,'instrumentalness':instrumentalness,\n",
    "                   'liveness':liveness,'loudness':loudness,'speechiness':speechiness,\n",
    "                   'tempo':tempo,'time_signature':time_signature,'valence':valence\n",
    "                  })"
   ]
  },
  {
   "cell_type": "code",
   "execution_count": 146,
   "metadata": {},
   "outputs": [
    {
     "data": {
      "text/plain": [
       "27999"
      ]
     },
     "execution_count": 146,
     "metadata": {},
     "output_type": "execute_result"
    }
   ],
   "source": [
    "len(acousticness)"
   ]
  },
  {
   "cell_type": "code",
   "execution_count": 145,
   "metadata": {},
   "outputs": [
    {
     "data": {
      "text/plain": [
       "(25999, 20)"
      ]
     },
     "execution_count": 145,
     "metadata": {},
     "output_type": "execute_result"
    }
   ],
   "source": [
    "df.shape"
   ]
  },
  {
   "cell_type": "code",
   "execution_count": 111,
   "metadata": {},
   "outputs": [],
   "source": [
    "df.to_csv(r\"C:\\Users\\Kathee\\Documents\\Blog content\\spotify_data_20000.csv\", index=False)"
   ]
  },
  {
   "cell_type": "code",
   "execution_count": 4,
   "metadata": {},
   "outputs": [],
   "source": [
    "import pandas as pd\n",
    "df=pd.read_csv(r\"C:\\Users\\Kathee\\Documents\\Blog content\\spotify_data5.csv\")"
   ]
  },
  {
   "cell_type": "code",
   "execution_count": 13,
   "metadata": {},
   "outputs": [
    {
     "data": {
      "text/plain": [
       "(1570, 20)"
      ]
     },
     "execution_count": 13,
     "metadata": {},
     "output_type": "execute_result"
    }
   ],
   "source": [
    "df.shape"
   ]
  },
  {
   "cell_type": "code",
   "execution_count": 115,
   "metadata": {},
   "outputs": [],
   "source": [
    "df1=pd.read_csv(r\"C:\\Users\\Kathee\\Documents\\Blog content\\bilboard_data.csv\")"
   ]
  },
  {
   "cell_type": "code",
   "execution_count": 148,
   "metadata": {},
   "outputs": [],
   "source": [
    "df1['pop']=1\n",
    "df['pop']=0\n",
    "df['search'] = df['artist_name'] + \" \" + df[\"track_name\"]\n",
    "df1['search'] = df1['artist_name'] + \" \" + df1[\"track_name\"]"
   ]
  },
  {
   "cell_type": "code",
   "execution_count": 149,
   "metadata": {},
   "outputs": [
    {
     "data": {
      "text/plain": [
       "(28903, 21)"
      ]
     },
     "execution_count": 149,
     "metadata": {},
     "output_type": "execute_result"
    }
   ],
   "source": [
    "new_df=pd.concat([df,df1],ignore_index=True)\n",
    "new_df.shape"
   ]
  },
  {
   "cell_type": "code",
   "execution_count": 150,
   "metadata": {},
   "outputs": [],
   "source": [
    "new_df['search'] = new_df['artist_name'] + \" \" + new_df[\"track_name\"]"
   ]
  },
  {
   "cell_type": "code",
   "execution_count": 113,
   "metadata": {},
   "outputs": [],
   "source": [
    "df['search'] = df['artist_name'] + \" \" + df[\"track_name\"]"
   ]
  },
  {
   "cell_type": "code",
   "execution_count": 126,
   "metadata": {},
   "outputs": [
    {
     "ename": "KeyError",
     "evalue": "Index(['search'], dtype='object')",
     "output_type": "error",
     "traceback": [
      "\u001b[1;31m---------------------------------------------------------------------------\u001b[0m",
      "\u001b[1;31mKeyError\u001b[0m                                  Traceback (most recent call last)",
      "\u001b[1;32m<ipython-input-126-edce2bc68980>\u001b[0m in \u001b[0;36m<module>\u001b[1;34m\u001b[0m\n\u001b[0;32m      1\u001b[0m \u001b[1;31m# supprime toutes doublures\u001b[0m\u001b[1;33m\u001b[0m\u001b[1;33m\u001b[0m\u001b[1;33m\u001b[0m\u001b[0m\n\u001b[1;32m----> 2\u001b[1;33m \u001b[0mdf\u001b[0m\u001b[1;33m=\u001b[0m\u001b[0mdf\u001b[0m\u001b[1;33m.\u001b[0m\u001b[0mdrop_duplicates\u001b[0m\u001b[1;33m(\u001b[0m\u001b[0msubset\u001b[0m\u001b[1;33m=\u001b[0m\u001b[1;33m[\u001b[0m\u001b[1;34m'search'\u001b[0m\u001b[1;33m]\u001b[0m\u001b[1;33m,\u001b[0m\u001b[0mkeep\u001b[0m\u001b[1;33m=\u001b[0m\u001b[1;34m'last'\u001b[0m\u001b[1;33m)\u001b[0m\u001b[1;33m\u001b[0m\u001b[1;33m\u001b[0m\u001b[0m\n\u001b[0m\u001b[0;32m      3\u001b[0m \u001b[0mdf\u001b[0m\u001b[1;33m.\u001b[0m\u001b[0mshape\u001b[0m\u001b[1;33m\u001b[0m\u001b[1;33m\u001b[0m\u001b[0m\n",
      "\u001b[1;32mc:\\python38\\lib\\site-packages\\pandas\\core\\frame.py\u001b[0m in \u001b[0;36mdrop_duplicates\u001b[1;34m(self, subset, keep, inplace, ignore_index)\u001b[0m\n\u001b[0;32m   4809\u001b[0m \u001b[1;33m\u001b[0m\u001b[0m\n\u001b[0;32m   4810\u001b[0m         \u001b[0minplace\u001b[0m \u001b[1;33m=\u001b[0m \u001b[0mvalidate_bool_kwarg\u001b[0m\u001b[1;33m(\u001b[0m\u001b[0minplace\u001b[0m\u001b[1;33m,\u001b[0m \u001b[1;34m\"inplace\"\u001b[0m\u001b[1;33m)\u001b[0m\u001b[1;33m\u001b[0m\u001b[1;33m\u001b[0m\u001b[0m\n\u001b[1;32m-> 4811\u001b[1;33m         \u001b[0mduplicated\u001b[0m \u001b[1;33m=\u001b[0m \u001b[0mself\u001b[0m\u001b[1;33m.\u001b[0m\u001b[0mduplicated\u001b[0m\u001b[1;33m(\u001b[0m\u001b[0msubset\u001b[0m\u001b[1;33m,\u001b[0m \u001b[0mkeep\u001b[0m\u001b[1;33m=\u001b[0m\u001b[0mkeep\u001b[0m\u001b[1;33m)\u001b[0m\u001b[1;33m\u001b[0m\u001b[1;33m\u001b[0m\u001b[0m\n\u001b[0m\u001b[0;32m   4812\u001b[0m \u001b[1;33m\u001b[0m\u001b[0m\n\u001b[0;32m   4813\u001b[0m         \u001b[1;32mif\u001b[0m \u001b[0minplace\u001b[0m\u001b[1;33m:\u001b[0m\u001b[1;33m\u001b[0m\u001b[1;33m\u001b[0m\u001b[0m\n",
      "\u001b[1;32mc:\\python38\\lib\\site-packages\\pandas\\core\\frame.py\u001b[0m in \u001b[0;36mduplicated\u001b[1;34m(self, subset, keep)\u001b[0m\n\u001b[0;32m   4883\u001b[0m         \u001b[0mdiff\u001b[0m \u001b[1;33m=\u001b[0m \u001b[0mIndex\u001b[0m\u001b[1;33m(\u001b[0m\u001b[0msubset\u001b[0m\u001b[1;33m)\u001b[0m\u001b[1;33m.\u001b[0m\u001b[0mdifference\u001b[0m\u001b[1;33m(\u001b[0m\u001b[0mself\u001b[0m\u001b[1;33m.\u001b[0m\u001b[0mcolumns\u001b[0m\u001b[1;33m)\u001b[0m\u001b[1;33m\u001b[0m\u001b[1;33m\u001b[0m\u001b[0m\n\u001b[0;32m   4884\u001b[0m         \u001b[1;32mif\u001b[0m \u001b[1;32mnot\u001b[0m \u001b[0mdiff\u001b[0m\u001b[1;33m.\u001b[0m\u001b[0mempty\u001b[0m\u001b[1;33m:\u001b[0m\u001b[1;33m\u001b[0m\u001b[1;33m\u001b[0m\u001b[0m\n\u001b[1;32m-> 4885\u001b[1;33m             \u001b[1;32mraise\u001b[0m \u001b[0mKeyError\u001b[0m\u001b[1;33m(\u001b[0m\u001b[0mdiff\u001b[0m\u001b[1;33m)\u001b[0m\u001b[1;33m\u001b[0m\u001b[1;33m\u001b[0m\u001b[0m\n\u001b[0m\u001b[0;32m   4886\u001b[0m \u001b[1;33m\u001b[0m\u001b[0m\n\u001b[0;32m   4887\u001b[0m         \u001b[0mvals\u001b[0m \u001b[1;33m=\u001b[0m \u001b[1;33m(\u001b[0m\u001b[0mcol\u001b[0m\u001b[1;33m.\u001b[0m\u001b[0mvalues\u001b[0m \u001b[1;32mfor\u001b[0m \u001b[0mname\u001b[0m\u001b[1;33m,\u001b[0m \u001b[0mcol\u001b[0m \u001b[1;32min\u001b[0m \u001b[0mself\u001b[0m\u001b[1;33m.\u001b[0m\u001b[0mitems\u001b[0m\u001b[1;33m(\u001b[0m\u001b[1;33m)\u001b[0m \u001b[1;32mif\u001b[0m \u001b[0mname\u001b[0m \u001b[1;32min\u001b[0m \u001b[0msubset\u001b[0m\u001b[1;33m)\u001b[0m\u001b[1;33m\u001b[0m\u001b[1;33m\u001b[0m\u001b[0m\n",
      "\u001b[1;31mKeyError\u001b[0m: Index(['search'], dtype='object')"
     ]
    }
   ],
   "source": [
    "# supprime toutes doublures\n",
    "df=df.drop_duplicates(subset=['search'],keep='last')\n",
    "df.shape"
   ]
  },
  {
   "cell_type": "code",
   "execution_count": 348,
   "metadata": {},
   "outputs": [
    {
     "data": {
      "text/plain": [
       "(902, 21)"
      ]
     },
     "execution_count": 348,
     "metadata": {},
     "output_type": "execute_result"
    }
   ],
   "source": [
    "df1=df1.drop_duplicates(subset=['search'],keep='last')\n",
    "df1.shape"
   ]
  },
  {
   "cell_type": "code",
   "execution_count": 151,
   "metadata": {},
   "outputs": [
    {
     "data": {
      "text/plain": [
       "(19192, 21)"
      ]
     },
     "execution_count": 151,
     "metadata": {},
     "output_type": "execute_result"
    }
   ],
   "source": [
    "new_df=new_df.drop_duplicates(subset=['search'],keep='last')\n",
    "new_df.shape"
   ]
  },
  {
   "cell_type": "code",
   "execution_count": 15,
   "metadata": {},
   "outputs": [],
   "source": [
    "new_df.to_csv(r'C:\\Users\\Kathee\\Documents\\Blog content\\combined_data.csv', index=False)"
   ]
  },
  {
   "cell_type": "code",
   "execution_count": 12,
   "metadata": {},
   "outputs": [],
   "source": [
    "# feat feature added\n",
    "def f(row):\n",
    "    if 'feat. ' in row['track_name']:\n",
    "        val = 1\n",
    "    else: \n",
    "        val = 0\n",
    "    return val\n",
    "\n",
    "new_df['featuring'] = new_df.apply(f, axis=1)"
   ]
  },
  {
   "cell_type": "code",
   "execution_count": 16,
   "metadata": {},
   "outputs": [
    {
     "data": {
      "text/html": [
       "<div>\n",
       "<style scoped>\n",
       "    .dataframe tbody tr th:only-of-type {\n",
       "        vertical-align: middle;\n",
       "    }\n",
       "\n",
       "    .dataframe tbody tr th {\n",
       "        vertical-align: top;\n",
       "    }\n",
       "\n",
       "    .dataframe thead th {\n",
       "        text-align: right;\n",
       "    }\n",
       "</style>\n",
       "<table border=\"1\" class=\"dataframe\">\n",
       "  <thead>\n",
       "    <tr style=\"text-align: right;\">\n",
       "      <th></th>\n",
       "      <th>artist_name</th>\n",
       "      <th>pop_artist</th>\n",
       "      <th>tot_followers</th>\n",
       "      <th>track_name</th>\n",
       "      <th>avail_mark</th>\n",
       "      <th>rel_date</th>\n",
       "      <th>pop_track</th>\n",
       "      <th>acousticness</th>\n",
       "      <th>danceability</th>\n",
       "      <th>duration_ms</th>\n",
       "      <th>...</th>\n",
       "      <th>key</th>\n",
       "      <th>liveness</th>\n",
       "      <th>loudness</th>\n",
       "      <th>speechiness</th>\n",
       "      <th>tempo</th>\n",
       "      <th>time_signature</th>\n",
       "      <th>valence</th>\n",
       "      <th>pop</th>\n",
       "      <th>search</th>\n",
       "      <th>featuring</th>\n",
       "    </tr>\n",
       "  </thead>\n",
       "  <tbody>\n",
       "    <tr>\n",
       "      <th>8</th>\n",
       "      <td>Kanye West</td>\n",
       "      <td>91</td>\n",
       "      <td>11653350</td>\n",
       "      <td>POWER</td>\n",
       "      <td>79</td>\n",
       "      <td>2010-11-22</td>\n",
       "      <td>78</td>\n",
       "      <td>0.016200</td>\n",
       "      <td>0.543</td>\n",
       "      <td>292093</td>\n",
       "      <td>...</td>\n",
       "      <td>0</td>\n",
       "      <td>0.7440</td>\n",
       "      <td>-4.746</td>\n",
       "      <td>0.1130</td>\n",
       "      <td>153.998</td>\n",
       "      <td>4</td>\n",
       "      <td>0.577</td>\n",
       "      <td>0</td>\n",
       "      <td>Kanye West POWER</td>\n",
       "      <td>0</td>\n",
       "    </tr>\n",
       "    <tr>\n",
       "      <th>10</th>\n",
       "      <td>Bruno Mars</td>\n",
       "      <td>89</td>\n",
       "      <td>25176142</td>\n",
       "      <td>Talking to the Moon</td>\n",
       "      <td>29</td>\n",
       "      <td>2010-10-05</td>\n",
       "      <td>73</td>\n",
       "      <td>0.512000</td>\n",
       "      <td>0.523</td>\n",
       "      <td>217867</td>\n",
       "      <td>...</td>\n",
       "      <td>1</td>\n",
       "      <td>0.1060</td>\n",
       "      <td>-4.754</td>\n",
       "      <td>0.0301</td>\n",
       "      <td>145.837</td>\n",
       "      <td>4</td>\n",
       "      <td>0.065</td>\n",
       "      <td>0</td>\n",
       "      <td>Bruno Mars Talking to the Moon</td>\n",
       "      <td>0</td>\n",
       "    </tr>\n",
       "    <tr>\n",
       "      <th>19</th>\n",
       "      <td>Don Omar</td>\n",
       "      <td>84</td>\n",
       "      <td>4126578</td>\n",
       "      <td>Danza Kuduro</td>\n",
       "      <td>44</td>\n",
       "      <td>2010-01-01</td>\n",
       "      <td>75</td>\n",
       "      <td>0.084600</td>\n",
       "      <td>0.400</td>\n",
       "      <td>198773</td>\n",
       "      <td>...</td>\n",
       "      <td>0</td>\n",
       "      <td>0.0503</td>\n",
       "      <td>-4.890</td>\n",
       "      <td>0.2800</td>\n",
       "      <td>88.917</td>\n",
       "      <td>3</td>\n",
       "      <td>0.878</td>\n",
       "      <td>0</td>\n",
       "      <td>Don Omar Danza Kuduro</td>\n",
       "      <td>0</td>\n",
       "    </tr>\n",
       "    <tr>\n",
       "      <th>20</th>\n",
       "      <td>Bruno Mars</td>\n",
       "      <td>89</td>\n",
       "      <td>25176142</td>\n",
       "      <td>Marry You</td>\n",
       "      <td>29</td>\n",
       "      <td>2010-10-05</td>\n",
       "      <td>72</td>\n",
       "      <td>0.332000</td>\n",
       "      <td>0.620</td>\n",
       "      <td>230120</td>\n",
       "      <td>...</td>\n",
       "      <td>10</td>\n",
       "      <td>0.1040</td>\n",
       "      <td>-4.848</td>\n",
       "      <td>0.0360</td>\n",
       "      <td>144.926</td>\n",
       "      <td>4</td>\n",
       "      <td>0.481</td>\n",
       "      <td>0</td>\n",
       "      <td>Bruno Mars Marry You</td>\n",
       "      <td>0</td>\n",
       "    </tr>\n",
       "    <tr>\n",
       "      <th>21</th>\n",
       "      <td>Two Door Cinema Club</td>\n",
       "      <td>73</td>\n",
       "      <td>1845112</td>\n",
       "      <td>What You Know</td>\n",
       "      <td>2</td>\n",
       "      <td>2010-02-17</td>\n",
       "      <td>68</td>\n",
       "      <td>0.000715</td>\n",
       "      <td>0.561</td>\n",
       "      <td>191707</td>\n",
       "      <td>...</td>\n",
       "      <td>6</td>\n",
       "      <td>0.0822</td>\n",
       "      <td>-4.239</td>\n",
       "      <td>0.0419</td>\n",
       "      <td>139.001</td>\n",
       "      <td>4</td>\n",
       "      <td>0.776</td>\n",
       "      <td>0</td>\n",
       "      <td>Two Door Cinema Club What You Know</td>\n",
       "      <td>0</td>\n",
       "    </tr>\n",
       "  </tbody>\n",
       "</table>\n",
       "<p>5 rows × 22 columns</p>\n",
       "</div>"
      ],
      "text/plain": [
       "             artist_name  pop_artist  tot_followers           track_name  \\\n",
       "8             Kanye West          91       11653350                POWER   \n",
       "10            Bruno Mars          89       25176142  Talking to the Moon   \n",
       "19              Don Omar          84        4126578         Danza Kuduro   \n",
       "20            Bruno Mars          89       25176142            Marry You   \n",
       "21  Two Door Cinema Club          73        1845112        What You Know   \n",
       "\n",
       "    avail_mark    rel_date  pop_track  acousticness  danceability  \\\n",
       "8           79  2010-11-22         78      0.016200         0.543   \n",
       "10          29  2010-10-05         73      0.512000         0.523   \n",
       "19          44  2010-01-01         75      0.084600         0.400   \n",
       "20          29  2010-10-05         72      0.332000         0.620   \n",
       "21           2  2010-02-17         68      0.000715         0.561   \n",
       "\n",
       "    duration_ms  ...  key  liveness  loudness  speechiness    tempo  \\\n",
       "8        292093  ...    0    0.7440    -4.746       0.1130  153.998   \n",
       "10       217867  ...    1    0.1060    -4.754       0.0301  145.837   \n",
       "19       198773  ...    0    0.0503    -4.890       0.2800   88.917   \n",
       "20       230120  ...   10    0.1040    -4.848       0.0360  144.926   \n",
       "21       191707  ...    6    0.0822    -4.239       0.0419  139.001   \n",
       "\n",
       "    time_signature  valence  pop                              search  \\\n",
       "8                4    0.577    0                    Kanye West POWER   \n",
       "10               4    0.065    0      Bruno Mars Talking to the Moon   \n",
       "19               3    0.878    0               Don Omar Danza Kuduro   \n",
       "20               4    0.481    0                Bruno Mars Marry You   \n",
       "21               4    0.776    0  Two Door Cinema Club What You Know   \n",
       "\n",
       "    featuring  \n",
       "8           0  \n",
       "10          0  \n",
       "19          0  \n",
       "20          0  \n",
       "21          0  \n",
       "\n",
       "[5 rows x 22 columns]"
      ]
     },
     "execution_count": 16,
     "metadata": {},
     "output_type": "execute_result"
    }
   ],
   "source": [
    "new_df.head(n=5)"
   ]
  },
  {
   "cell_type": "code",
   "execution_count": 17,
   "metadata": {},
   "outputs": [
    {
     "data": {
      "text/plain": [
       "(9723, 22)"
      ]
     },
     "execution_count": 17,
     "metadata": {},
     "output_type": "execute_result"
    }
   ],
   "source": [
    "new_df.shape"
   ]
  },
  {
   "cell_type": "code",
   "execution_count": 18,
   "metadata": {},
   "outputs": [
    {
     "data": {
      "text/plain": [
       "0    8821\n",
       "1     902\n",
       "Name: pop, dtype: int64"
      ]
     },
     "execution_count": 18,
     "metadata": {},
     "output_type": "execute_result"
    }
   ],
   "source": [
    "new_df['pop'].value_counts()"
   ]
  },
  {
   "cell_type": "code",
   "execution_count": 28,
   "metadata": {},
   "outputs": [],
   "source": [
    "# M split serie rel_date lan an 3 serie separe(ane,mwa,jou)\n",
    "df[['Year','Month','Day']]=df.rel_date.str.split(pat='-',expand=True,)"
   ]
  },
  {
   "cell_type": "code",
   "execution_count": 30,
   "metadata": {},
   "outputs": [],
   "source": [
    "# M kreye on lot seri ki kenbe enfo wi ou non si yon track Hit ou pas\n",
    "def f(row):\n",
    "    if row['pop_track'] >= 70:\n",
    "        val = 1\n",
    "    else: \n",
    "        val = 0\n",
    "    return val\n",
    "\n",
    "df['pop'] = df.apply(f, axis=1)"
   ]
  },
  {
   "cell_type": "code",
   "execution_count": 63,
   "metadata": {},
   "outputs": [
    {
     "data": {
      "text/plain": [
       "(1965, 24)"
      ]
     },
     "execution_count": 63,
     "metadata": {},
     "output_type": "execute_result"
    }
   ],
   "source": [
    "df.shape"
   ]
  },
  {
   "cell_type": "code",
   "execution_count": 38,
   "metadata": {},
   "outputs": [],
   "source": [
    "df.to_excel(r'C:\\Users\\Kathee\\Documents\\Blog content\\spotify_data3.xlsx', index=False)"
   ]
  },
  {
   "cell_type": "code",
   "execution_count": 77,
   "metadata": {},
   "outputs": [],
   "source": [
    "import pandas as pd\n",
    "df=pd.read_excel(r\"C:\\Users\\Kathee\\Documents\\Blog content\\spotify_data3.xlsx\")"
   ]
  },
  {
   "cell_type": "code",
   "execution_count": 78,
   "metadata": {},
   "outputs": [
    {
     "data": {
      "text/html": [
       "<div>\n",
       "<style scoped>\n",
       "    .dataframe tbody tr th:only-of-type {\n",
       "        vertical-align: middle;\n",
       "    }\n",
       "\n",
       "    .dataframe tbody tr th {\n",
       "        vertical-align: top;\n",
       "    }\n",
       "\n",
       "    .dataframe thead th {\n",
       "        text-align: right;\n",
       "    }\n",
       "</style>\n",
       "<table border=\"1\" class=\"dataframe\">\n",
       "  <thead>\n",
       "    <tr style=\"text-align: right;\">\n",
       "      <th></th>\n",
       "      <th>artist_name</th>\n",
       "      <th>pop_artist</th>\n",
       "      <th>tot_followers</th>\n",
       "      <th>track_name</th>\n",
       "      <th>avail_mark</th>\n",
       "      <th>rel_date</th>\n",
       "      <th>pop_track</th>\n",
       "      <th>acousticness</th>\n",
       "      <th>danceability</th>\n",
       "      <th>duration_ms</th>\n",
       "      <th>...</th>\n",
       "      <th>loudness</th>\n",
       "      <th>speechiness</th>\n",
       "      <th>tempo</th>\n",
       "      <th>time_signature</th>\n",
       "      <th>valence</th>\n",
       "      <th>Year</th>\n",
       "      <th>Month</th>\n",
       "      <th>Day</th>\n",
       "      <th>feat.</th>\n",
       "      <th>pop</th>\n",
       "    </tr>\n",
       "  </thead>\n",
       "  <tbody>\n",
       "    <tr>\n",
       "      <th>0</th>\n",
       "      <td>THE SCOTTS</td>\n",
       "      <td>83</td>\n",
       "      <td>97987</td>\n",
       "      <td>THE SCOTTS</td>\n",
       "      <td>79</td>\n",
       "      <td>2020-04-24</td>\n",
       "      <td>97</td>\n",
       "      <td>0.23300</td>\n",
       "      <td>0.716</td>\n",
       "      <td>165978</td>\n",
       "      <td>...</td>\n",
       "      <td>-7.648</td>\n",
       "      <td>0.0514</td>\n",
       "      <td>129.979</td>\n",
       "      <td>4</td>\n",
       "      <td>0.280</td>\n",
       "      <td>2020</td>\n",
       "      <td>4</td>\n",
       "      <td>24</td>\n",
       "      <td>0</td>\n",
       "      <td>1</td>\n",
       "    </tr>\n",
       "    <tr>\n",
       "      <th>1</th>\n",
       "      <td>DaBaby</td>\n",
       "      <td>94</td>\n",
       "      <td>2957334</td>\n",
       "      <td>ROCKSTAR (feat. Roddy Ricch)</td>\n",
       "      <td>79</td>\n",
       "      <td>2020-04-17</td>\n",
       "      <td>95</td>\n",
       "      <td>0.24700</td>\n",
       "      <td>0.746</td>\n",
       "      <td>181733</td>\n",
       "      <td>...</td>\n",
       "      <td>-7.956</td>\n",
       "      <td>0.1640</td>\n",
       "      <td>89.977</td>\n",
       "      <td>4</td>\n",
       "      <td>0.497</td>\n",
       "      <td>2020</td>\n",
       "      <td>4</td>\n",
       "      <td>17</td>\n",
       "      <td>1</td>\n",
       "      <td>1</td>\n",
       "    </tr>\n",
       "    <tr>\n",
       "      <th>2</th>\n",
       "      <td>Drake</td>\n",
       "      <td>100</td>\n",
       "      <td>46336105</td>\n",
       "      <td>Toosie Slide</td>\n",
       "      <td>79</td>\n",
       "      <td>2020-04-03</td>\n",
       "      <td>98</td>\n",
       "      <td>0.32100</td>\n",
       "      <td>0.834</td>\n",
       "      <td>247059</td>\n",
       "      <td>...</td>\n",
       "      <td>-9.750</td>\n",
       "      <td>0.2010</td>\n",
       "      <td>81.618</td>\n",
       "      <td>4</td>\n",
       "      <td>0.837</td>\n",
       "      <td>2020</td>\n",
       "      <td>4</td>\n",
       "      <td>3</td>\n",
       "      <td>0</td>\n",
       "      <td>1</td>\n",
       "    </tr>\n",
       "    <tr>\n",
       "      <th>3</th>\n",
       "      <td>The Weeknd</td>\n",
       "      <td>97</td>\n",
       "      <td>20268180</td>\n",
       "      <td>Blinding Lights</td>\n",
       "      <td>79</td>\n",
       "      <td>2020-03-20</td>\n",
       "      <td>100</td>\n",
       "      <td>0.00146</td>\n",
       "      <td>0.514</td>\n",
       "      <td>200040</td>\n",
       "      <td>...</td>\n",
       "      <td>-5.934</td>\n",
       "      <td>0.0598</td>\n",
       "      <td>171.005</td>\n",
       "      <td>4</td>\n",
       "      <td>0.334</td>\n",
       "      <td>2020</td>\n",
       "      <td>3</td>\n",
       "      <td>20</td>\n",
       "      <td>0</td>\n",
       "      <td>1</td>\n",
       "    </tr>\n",
       "    <tr>\n",
       "      <th>4</th>\n",
       "      <td>Lil Mosey</td>\n",
       "      <td>87</td>\n",
       "      <td>2016821</td>\n",
       "      <td>Blueberry Faygo</td>\n",
       "      <td>79</td>\n",
       "      <td>2020-02-07</td>\n",
       "      <td>94</td>\n",
       "      <td>0.20700</td>\n",
       "      <td>0.774</td>\n",
       "      <td>162547</td>\n",
       "      <td>...</td>\n",
       "      <td>-7.909</td>\n",
       "      <td>0.0383</td>\n",
       "      <td>99.034</td>\n",
       "      <td>4</td>\n",
       "      <td>0.349</td>\n",
       "      <td>2020</td>\n",
       "      <td>2</td>\n",
       "      <td>7</td>\n",
       "      <td>0</td>\n",
       "      <td>1</td>\n",
       "    </tr>\n",
       "  </tbody>\n",
       "</table>\n",
       "<p>5 rows × 24 columns</p>\n",
       "</div>"
      ],
      "text/plain": [
       "  artist_name  pop_artist  tot_followers                    track_name  \\\n",
       "0  THE SCOTTS          83          97987                    THE SCOTTS   \n",
       "1      DaBaby          94        2957334  ROCKSTAR (feat. Roddy Ricch)   \n",
       "2       Drake         100       46336105                  Toosie Slide   \n",
       "3  The Weeknd          97       20268180               Blinding Lights   \n",
       "4   Lil Mosey          87        2016821               Blueberry Faygo   \n",
       "\n",
       "   avail_mark    rel_date  pop_track  acousticness  danceability  duration_ms  \\\n",
       "0          79  2020-04-24         97       0.23300         0.716       165978   \n",
       "1          79  2020-04-17         95       0.24700         0.746       181733   \n",
       "2          79  2020-04-03         98       0.32100         0.834       247059   \n",
       "3          79  2020-03-20        100       0.00146         0.514       200040   \n",
       "4          79  2020-02-07         94       0.20700         0.774       162547   \n",
       "\n",
       "   ...  loudness  speechiness    tempo  time_signature  valence  Year  Month  \\\n",
       "0  ...    -7.648       0.0514  129.979               4    0.280  2020      4   \n",
       "1  ...    -7.956       0.1640   89.977               4    0.497  2020      4   \n",
       "2  ...    -9.750       0.2010   81.618               4    0.837  2020      4   \n",
       "3  ...    -5.934       0.0598  171.005               4    0.334  2020      3   \n",
       "4  ...    -7.909       0.0383   99.034               4    0.349  2020      2   \n",
       "\n",
       "   Day  feat.   pop  \n",
       "0   24       0    1  \n",
       "1   17       1    1  \n",
       "2    3       0    1  \n",
       "3   20       0    1  \n",
       "4    7       0    1  \n",
       "\n",
       "[5 rows x 24 columns]"
      ]
     },
     "execution_count": 78,
     "metadata": {},
     "output_type": "execute_result"
    }
   ],
   "source": [
    "df.head(5)"
   ]
  },
  {
   "cell_type": "code",
   "execution_count": 79,
   "metadata": {},
   "outputs": [
    {
     "data": {
      "text/plain": [
       "(1965, 24)"
      ]
     },
     "execution_count": 79,
     "metadata": {},
     "output_type": "execute_result"
    }
   ],
   "source": [
    "df.shape"
   ]
  },
  {
   "cell_type": "code",
   "execution_count": 148,
   "metadata": {},
   "outputs": [
    {
     "data": {
      "text/plain": [
       "artist_name         0\n",
       "pop_artist          0\n",
       "tot_followers       0\n",
       "track_name          0\n",
       "avail_mark          0\n",
       "rel_date            0\n",
       "pop_track           0\n",
       "acousticness        0\n",
       "danceability        0\n",
       "duration_ms         0\n",
       "energy              0\n",
       "instrumentalness    0\n",
       "key                 0\n",
       "liveness            0\n",
       "loudness            0\n",
       "speechiness         0\n",
       "tempo               0\n",
       "time_signature      0\n",
       "valence             0\n",
       "dtype: int64"
      ]
     },
     "execution_count": 148,
     "metadata": {},
     "output_type": "execute_result"
    }
   ],
   "source": [
    "# Tcheke missing value\n",
    "df.isnull().sum()"
   ]
  },
  {
   "cell_type": "code",
   "execution_count": 153,
   "metadata": {},
   "outputs": [
    {
     "data": {
      "text/plain": [
       "(9998, 19)"
      ]
     },
     "execution_count": 153,
     "metadata": {},
     "output_type": "execute_result"
    }
   ],
   "source": [
    "df.shape"
   ]
  },
  {
   "cell_type": "code",
   "execution_count": 208,
   "metadata": {},
   "outputs": [],
   "source": [
    "# supprime toutes doublures\n",
    "df = df.drop_duplicates()"
   ]
  },
  {
   "cell_type": "code",
   "execution_count": 82,
   "metadata": {},
   "outputs": [
    {
     "data": {
      "text/html": [
       "<div>\n",
       "<style scoped>\n",
       "    .dataframe tbody tr th:only-of-type {\n",
       "        vertical-align: middle;\n",
       "    }\n",
       "\n",
       "    .dataframe tbody tr th {\n",
       "        vertical-align: top;\n",
       "    }\n",
       "\n",
       "    .dataframe thead th {\n",
       "        text-align: right;\n",
       "    }\n",
       "</style>\n",
       "<table border=\"1\" class=\"dataframe\">\n",
       "  <thead>\n",
       "    <tr style=\"text-align: right;\">\n",
       "      <th></th>\n",
       "      <th>artist_name</th>\n",
       "      <th>pop_artist</th>\n",
       "      <th>tot_followers</th>\n",
       "      <th>track_name</th>\n",
       "      <th>avail_mark</th>\n",
       "      <th>rel_date</th>\n",
       "      <th>pop_track</th>\n",
       "      <th>acousticness</th>\n",
       "      <th>danceability</th>\n",
       "      <th>duration_ms</th>\n",
       "      <th>...</th>\n",
       "      <th>loudness</th>\n",
       "      <th>speechiness</th>\n",
       "      <th>tempo</th>\n",
       "      <th>time_signature</th>\n",
       "      <th>valence</th>\n",
       "      <th>Year</th>\n",
       "      <th>Month</th>\n",
       "      <th>Day</th>\n",
       "      <th>feat.</th>\n",
       "      <th>pop</th>\n",
       "    </tr>\n",
       "  </thead>\n",
       "  <tbody>\n",
       "    <tr>\n",
       "      <th>0</th>\n",
       "      <td>THE SCOTTS</td>\n",
       "      <td>83</td>\n",
       "      <td>97987</td>\n",
       "      <td>THE SCOTTS</td>\n",
       "      <td>79</td>\n",
       "      <td>2020-04-24</td>\n",
       "      <td>97</td>\n",
       "      <td>0.23300</td>\n",
       "      <td>0.716</td>\n",
       "      <td>165978</td>\n",
       "      <td>...</td>\n",
       "      <td>-7.648</td>\n",
       "      <td>0.0514</td>\n",
       "      <td>129.979</td>\n",
       "      <td>4</td>\n",
       "      <td>0.280</td>\n",
       "      <td>2020</td>\n",
       "      <td>4</td>\n",
       "      <td>24</td>\n",
       "      <td>0</td>\n",
       "      <td>1</td>\n",
       "    </tr>\n",
       "    <tr>\n",
       "      <th>1</th>\n",
       "      <td>DaBaby</td>\n",
       "      <td>94</td>\n",
       "      <td>2957334</td>\n",
       "      <td>ROCKSTAR (feat. Roddy Ricch)</td>\n",
       "      <td>79</td>\n",
       "      <td>2020-04-17</td>\n",
       "      <td>95</td>\n",
       "      <td>0.24700</td>\n",
       "      <td>0.746</td>\n",
       "      <td>181733</td>\n",
       "      <td>...</td>\n",
       "      <td>-7.956</td>\n",
       "      <td>0.1640</td>\n",
       "      <td>89.977</td>\n",
       "      <td>4</td>\n",
       "      <td>0.497</td>\n",
       "      <td>2020</td>\n",
       "      <td>4</td>\n",
       "      <td>17</td>\n",
       "      <td>1</td>\n",
       "      <td>1</td>\n",
       "    </tr>\n",
       "    <tr>\n",
       "      <th>2</th>\n",
       "      <td>Drake</td>\n",
       "      <td>100</td>\n",
       "      <td>46336105</td>\n",
       "      <td>Toosie Slide</td>\n",
       "      <td>79</td>\n",
       "      <td>2020-04-03</td>\n",
       "      <td>98</td>\n",
       "      <td>0.32100</td>\n",
       "      <td>0.834</td>\n",
       "      <td>247059</td>\n",
       "      <td>...</td>\n",
       "      <td>-9.750</td>\n",
       "      <td>0.2010</td>\n",
       "      <td>81.618</td>\n",
       "      <td>4</td>\n",
       "      <td>0.837</td>\n",
       "      <td>2020</td>\n",
       "      <td>4</td>\n",
       "      <td>3</td>\n",
       "      <td>0</td>\n",
       "      <td>1</td>\n",
       "    </tr>\n",
       "    <tr>\n",
       "      <th>3</th>\n",
       "      <td>The Weeknd</td>\n",
       "      <td>97</td>\n",
       "      <td>20268180</td>\n",
       "      <td>Blinding Lights</td>\n",
       "      <td>79</td>\n",
       "      <td>2020-03-20</td>\n",
       "      <td>100</td>\n",
       "      <td>0.00146</td>\n",
       "      <td>0.514</td>\n",
       "      <td>200040</td>\n",
       "      <td>...</td>\n",
       "      <td>-5.934</td>\n",
       "      <td>0.0598</td>\n",
       "      <td>171.005</td>\n",
       "      <td>4</td>\n",
       "      <td>0.334</td>\n",
       "      <td>2020</td>\n",
       "      <td>3</td>\n",
       "      <td>20</td>\n",
       "      <td>0</td>\n",
       "      <td>1</td>\n",
       "    </tr>\n",
       "    <tr>\n",
       "      <th>4</th>\n",
       "      <td>Lil Mosey</td>\n",
       "      <td>87</td>\n",
       "      <td>2016821</td>\n",
       "      <td>Blueberry Faygo</td>\n",
       "      <td>79</td>\n",
       "      <td>2020-02-07</td>\n",
       "      <td>94</td>\n",
       "      <td>0.20700</td>\n",
       "      <td>0.774</td>\n",
       "      <td>162547</td>\n",
       "      <td>...</td>\n",
       "      <td>-7.909</td>\n",
       "      <td>0.0383</td>\n",
       "      <td>99.034</td>\n",
       "      <td>4</td>\n",
       "      <td>0.349</td>\n",
       "      <td>2020</td>\n",
       "      <td>2</td>\n",
       "      <td>7</td>\n",
       "      <td>0</td>\n",
       "      <td>1</td>\n",
       "    </tr>\n",
       "  </tbody>\n",
       "</table>\n",
       "<p>5 rows × 24 columns</p>\n",
       "</div>"
      ],
      "text/plain": [
       "  artist_name  pop_artist  tot_followers                    track_name  \\\n",
       "0  THE SCOTTS          83          97987                    THE SCOTTS   \n",
       "1      DaBaby          94        2957334  ROCKSTAR (feat. Roddy Ricch)   \n",
       "2       Drake         100       46336105                  Toosie Slide   \n",
       "3  The Weeknd          97       20268180               Blinding Lights   \n",
       "4   Lil Mosey          87        2016821               Blueberry Faygo   \n",
       "\n",
       "   avail_mark    rel_date  pop_track  acousticness  danceability  duration_ms  \\\n",
       "0          79  2020-04-24         97       0.23300         0.716       165978   \n",
       "1          79  2020-04-17         95       0.24700         0.746       181733   \n",
       "2          79  2020-04-03         98       0.32100         0.834       247059   \n",
       "3          79  2020-03-20        100       0.00146         0.514       200040   \n",
       "4          79  2020-02-07         94       0.20700         0.774       162547   \n",
       "\n",
       "   ...  loudness  speechiness    tempo  time_signature  valence  Year  Month  \\\n",
       "0  ...    -7.648       0.0514  129.979               4    0.280  2020      4   \n",
       "1  ...    -7.956       0.1640   89.977               4    0.497  2020      4   \n",
       "2  ...    -9.750       0.2010   81.618               4    0.837  2020      4   \n",
       "3  ...    -5.934       0.0598  171.005               4    0.334  2020      3   \n",
       "4  ...    -7.909       0.0383   99.034               4    0.349  2020      2   \n",
       "\n",
       "   Day  feat.   pop  \n",
       "0   24       0    1  \n",
       "1   17       1    1  \n",
       "2    3       0    1  \n",
       "3   20       0    1  \n",
       "4    7       0    1  \n",
       "\n",
       "[5 rows x 24 columns]"
      ]
     },
     "execution_count": 82,
     "metadata": {},
     "output_type": "execute_result"
    }
   ],
   "source": [
    "import pandas as pd\n",
    "\n",
    "df.head(5)"
   ]
  },
  {
   "cell_type": "code",
   "execution_count": 83,
   "metadata": {},
   "outputs": [
    {
     "data": {
      "text/plain": [
       "(1965, 24)"
      ]
     },
     "execution_count": 83,
     "metadata": {},
     "output_type": "execute_result"
    }
   ],
   "source": [
    "df.shape"
   ]
  },
  {
   "cell_type": "code",
   "execution_count": 35,
   "metadata": {},
   "outputs": [
    {
     "data": {
      "text/plain": [
       "1    7718\n",
       "0     700\n",
       "Name: pop, dtype: int64"
      ]
     },
     "execution_count": 35,
     "metadata": {},
     "output_type": "execute_result"
    }
   ],
   "source": [
    "df['pop'].value_counts()"
   ]
  },
  {
   "cell_type": "code",
   "execution_count": 167,
   "metadata": {
    "collapsed": true
   },
   "outputs": [
    {
     "ename": "KeyError",
     "evalue": "'pop'",
     "output_type": "error",
     "traceback": [
      "\u001b[1;31m---------------------------------------------------------------------------\u001b[0m",
      "\u001b[1;31mKeyError\u001b[0m                                  Traceback (most recent call last)",
      "\u001b[1;32mc:\\python38\\lib\\site-packages\\pandas\\core\\indexes\\base.py\u001b[0m in \u001b[0;36mget_loc\u001b[1;34m(self, key, method, tolerance)\u001b[0m\n\u001b[0;32m   2645\u001b[0m             \u001b[1;32mtry\u001b[0m\u001b[1;33m:\u001b[0m\u001b[1;33m\u001b[0m\u001b[1;33m\u001b[0m\u001b[0m\n\u001b[1;32m-> 2646\u001b[1;33m                 \u001b[1;32mreturn\u001b[0m \u001b[0mself\u001b[0m\u001b[1;33m.\u001b[0m\u001b[0m_engine\u001b[0m\u001b[1;33m.\u001b[0m\u001b[0mget_loc\u001b[0m\u001b[1;33m(\u001b[0m\u001b[0mkey\u001b[0m\u001b[1;33m)\u001b[0m\u001b[1;33m\u001b[0m\u001b[1;33m\u001b[0m\u001b[0m\n\u001b[0m\u001b[0;32m   2647\u001b[0m             \u001b[1;32mexcept\u001b[0m \u001b[0mKeyError\u001b[0m\u001b[1;33m:\u001b[0m\u001b[1;33m\u001b[0m\u001b[1;33m\u001b[0m\u001b[0m\n",
      "\u001b[1;32mpandas\\_libs\\index.pyx\u001b[0m in \u001b[0;36mpandas._libs.index.IndexEngine.get_loc\u001b[1;34m()\u001b[0m\n",
      "\u001b[1;32mpandas\\_libs\\index.pyx\u001b[0m in \u001b[0;36mpandas._libs.index.IndexEngine.get_loc\u001b[1;34m()\u001b[0m\n",
      "\u001b[1;32mpandas\\_libs\\hashtable_class_helper.pxi\u001b[0m in \u001b[0;36mpandas._libs.hashtable.PyObjectHashTable.get_item\u001b[1;34m()\u001b[0m\n",
      "\u001b[1;32mpandas\\_libs\\hashtable_class_helper.pxi\u001b[0m in \u001b[0;36mpandas._libs.hashtable.PyObjectHashTable.get_item\u001b[1;34m()\u001b[0m\n",
      "\u001b[1;31mKeyError\u001b[0m: 'pop'",
      "\nDuring handling of the above exception, another exception occurred:\n",
      "\u001b[1;31mKeyError\u001b[0m                                  Traceback (most recent call last)",
      "\u001b[1;32m<ipython-input-167-2cc0585d1eda>\u001b[0m in \u001b[0;36m<module>\u001b[1;34m\u001b[0m\n\u001b[0;32m      5\u001b[0m \u001b[0max\u001b[0m \u001b[1;33m=\u001b[0m \u001b[0mfig\u001b[0m\u001b[1;33m.\u001b[0m\u001b[0madd_axes\u001b[0m\u001b[1;33m(\u001b[0m\u001b[1;33m[\u001b[0m\u001b[1;36m0\u001b[0m\u001b[1;33m,\u001b[0m\u001b[1;36m0\u001b[0m\u001b[1;33m,\u001b[0m\u001b[1;36m1\u001b[0m\u001b[1;33m,\u001b[0m\u001b[1;36m1\u001b[0m\u001b[1;33m]\u001b[0m\u001b[1;33m)\u001b[0m\u001b[1;33m\u001b[0m\u001b[1;33m\u001b[0m\u001b[0m\n\u001b[0;32m      6\u001b[0m \u001b[0mpop\u001b[0m \u001b[1;33m=\u001b[0m \u001b[1;33m[\u001b[0m\u001b[1;34m'Non-Hit'\u001b[0m\u001b[1;33m,\u001b[0m \u001b[1;34m'Hit'\u001b[0m\u001b[1;33m]\u001b[0m\u001b[1;33m\u001b[0m\u001b[1;33m\u001b[0m\u001b[0m\n\u001b[1;32m----> 7\u001b[1;33m \u001b[0mpop_count\u001b[0m \u001b[1;33m=\u001b[0m \u001b[0mlist\u001b[0m\u001b[1;33m(\u001b[0m\u001b[0mdf\u001b[0m\u001b[1;33m[\u001b[0m\u001b[1;34m'pop'\u001b[0m\u001b[1;33m]\u001b[0m\u001b[1;33m.\u001b[0m\u001b[0mvalue_counts\u001b[0m\u001b[1;33m(\u001b[0m\u001b[1;33m)\u001b[0m\u001b[1;33m)\u001b[0m\u001b[1;33m\u001b[0m\u001b[1;33m\u001b[0m\u001b[0m\n\u001b[0m\u001b[0;32m      8\u001b[0m \u001b[0max\u001b[0m\u001b[1;33m.\u001b[0m\u001b[0mbar\u001b[0m\u001b[1;33m(\u001b[0m\u001b[0mpop\u001b[0m\u001b[1;33m,\u001b[0m\u001b[0mpop_count\u001b[0m\u001b[1;33m,\u001b[0m\u001b[0mcolor\u001b[0m\u001b[1;33m=\u001b[0m\u001b[1;34m'#103E36'\u001b[0m\u001b[1;33m)\u001b[0m\u001b[1;33m\u001b[0m\u001b[1;33m\u001b[0m\u001b[0m\n\u001b[0;32m      9\u001b[0m \u001b[0mplt\u001b[0m\u001b[1;33m.\u001b[0m\u001b[0mshow\u001b[0m\u001b[1;33m(\u001b[0m\u001b[1;33m)\u001b[0m\u001b[1;33m\u001b[0m\u001b[1;33m\u001b[0m\u001b[0m\n",
      "\u001b[1;32mc:\\python38\\lib\\site-packages\\pandas\\core\\frame.py\u001b[0m in \u001b[0;36m__getitem__\u001b[1;34m(self, key)\u001b[0m\n\u001b[0;32m   2798\u001b[0m             \u001b[1;32mif\u001b[0m \u001b[0mself\u001b[0m\u001b[1;33m.\u001b[0m\u001b[0mcolumns\u001b[0m\u001b[1;33m.\u001b[0m\u001b[0mnlevels\u001b[0m \u001b[1;33m>\u001b[0m \u001b[1;36m1\u001b[0m\u001b[1;33m:\u001b[0m\u001b[1;33m\u001b[0m\u001b[1;33m\u001b[0m\u001b[0m\n\u001b[0;32m   2799\u001b[0m                 \u001b[1;32mreturn\u001b[0m \u001b[0mself\u001b[0m\u001b[1;33m.\u001b[0m\u001b[0m_getitem_multilevel\u001b[0m\u001b[1;33m(\u001b[0m\u001b[0mkey\u001b[0m\u001b[1;33m)\u001b[0m\u001b[1;33m\u001b[0m\u001b[1;33m\u001b[0m\u001b[0m\n\u001b[1;32m-> 2800\u001b[1;33m             \u001b[0mindexer\u001b[0m \u001b[1;33m=\u001b[0m \u001b[0mself\u001b[0m\u001b[1;33m.\u001b[0m\u001b[0mcolumns\u001b[0m\u001b[1;33m.\u001b[0m\u001b[0mget_loc\u001b[0m\u001b[1;33m(\u001b[0m\u001b[0mkey\u001b[0m\u001b[1;33m)\u001b[0m\u001b[1;33m\u001b[0m\u001b[1;33m\u001b[0m\u001b[0m\n\u001b[0m\u001b[0;32m   2801\u001b[0m             \u001b[1;32mif\u001b[0m \u001b[0mis_integer\u001b[0m\u001b[1;33m(\u001b[0m\u001b[0mindexer\u001b[0m\u001b[1;33m)\u001b[0m\u001b[1;33m:\u001b[0m\u001b[1;33m\u001b[0m\u001b[1;33m\u001b[0m\u001b[0m\n\u001b[0;32m   2802\u001b[0m                 \u001b[0mindexer\u001b[0m \u001b[1;33m=\u001b[0m \u001b[1;33m[\u001b[0m\u001b[0mindexer\u001b[0m\u001b[1;33m]\u001b[0m\u001b[1;33m\u001b[0m\u001b[1;33m\u001b[0m\u001b[0m\n",
      "\u001b[1;32mc:\\python38\\lib\\site-packages\\pandas\\core\\indexes\\base.py\u001b[0m in \u001b[0;36mget_loc\u001b[1;34m(self, key, method, tolerance)\u001b[0m\n\u001b[0;32m   2646\u001b[0m                 \u001b[1;32mreturn\u001b[0m \u001b[0mself\u001b[0m\u001b[1;33m.\u001b[0m\u001b[0m_engine\u001b[0m\u001b[1;33m.\u001b[0m\u001b[0mget_loc\u001b[0m\u001b[1;33m(\u001b[0m\u001b[0mkey\u001b[0m\u001b[1;33m)\u001b[0m\u001b[1;33m\u001b[0m\u001b[1;33m\u001b[0m\u001b[0m\n\u001b[0;32m   2647\u001b[0m             \u001b[1;32mexcept\u001b[0m \u001b[0mKeyError\u001b[0m\u001b[1;33m:\u001b[0m\u001b[1;33m\u001b[0m\u001b[1;33m\u001b[0m\u001b[0m\n\u001b[1;32m-> 2648\u001b[1;33m                 \u001b[1;32mreturn\u001b[0m \u001b[0mself\u001b[0m\u001b[1;33m.\u001b[0m\u001b[0m_engine\u001b[0m\u001b[1;33m.\u001b[0m\u001b[0mget_loc\u001b[0m\u001b[1;33m(\u001b[0m\u001b[0mself\u001b[0m\u001b[1;33m.\u001b[0m\u001b[0m_maybe_cast_indexer\u001b[0m\u001b[1;33m(\u001b[0m\u001b[0mkey\u001b[0m\u001b[1;33m)\u001b[0m\u001b[1;33m)\u001b[0m\u001b[1;33m\u001b[0m\u001b[1;33m\u001b[0m\u001b[0m\n\u001b[0m\u001b[0;32m   2649\u001b[0m         \u001b[0mindexer\u001b[0m \u001b[1;33m=\u001b[0m \u001b[0mself\u001b[0m\u001b[1;33m.\u001b[0m\u001b[0mget_indexer\u001b[0m\u001b[1;33m(\u001b[0m\u001b[1;33m[\u001b[0m\u001b[0mkey\u001b[0m\u001b[1;33m]\u001b[0m\u001b[1;33m,\u001b[0m \u001b[0mmethod\u001b[0m\u001b[1;33m=\u001b[0m\u001b[0mmethod\u001b[0m\u001b[1;33m,\u001b[0m \u001b[0mtolerance\u001b[0m\u001b[1;33m=\u001b[0m\u001b[0mtolerance\u001b[0m\u001b[1;33m)\u001b[0m\u001b[1;33m\u001b[0m\u001b[1;33m\u001b[0m\u001b[0m\n\u001b[0;32m   2650\u001b[0m         \u001b[1;32mif\u001b[0m \u001b[0mindexer\u001b[0m\u001b[1;33m.\u001b[0m\u001b[0mndim\u001b[0m \u001b[1;33m>\u001b[0m \u001b[1;36m1\u001b[0m \u001b[1;32mor\u001b[0m \u001b[0mindexer\u001b[0m\u001b[1;33m.\u001b[0m\u001b[0msize\u001b[0m \u001b[1;33m>\u001b[0m \u001b[1;36m1\u001b[0m\u001b[1;33m:\u001b[0m\u001b[1;33m\u001b[0m\u001b[1;33m\u001b[0m\u001b[0m\n",
      "\u001b[1;32mpandas\\_libs\\index.pyx\u001b[0m in \u001b[0;36mpandas._libs.index.IndexEngine.get_loc\u001b[1;34m()\u001b[0m\n",
      "\u001b[1;32mpandas\\_libs\\index.pyx\u001b[0m in \u001b[0;36mpandas._libs.index.IndexEngine.get_loc\u001b[1;34m()\u001b[0m\n",
      "\u001b[1;32mpandas\\_libs\\hashtable_class_helper.pxi\u001b[0m in \u001b[0;36mpandas._libs.hashtable.PyObjectHashTable.get_item\u001b[1;34m()\u001b[0m\n",
      "\u001b[1;32mpandas\\_libs\\hashtable_class_helper.pxi\u001b[0m in \u001b[0;36mpandas._libs.hashtable.PyObjectHashTable.get_item\u001b[1;34m()\u001b[0m\n",
      "\u001b[1;31mKeyError\u001b[0m: 'pop'"
     ]
    },
    {
     "data": {
      "image/png": "[encoded data removed]",
      "text/plain": [
       "<Figure size 432x288 with 1 Axes>"
      ]
     },
     "metadata": {
      "needs_background": "light"
     },
     "output_type": "display_data"
    }
   ],
   "source": [
    "%matplotlib inline\n",
    "from matplotlib import pyplot as plt\n",
    "\n",
    "fig = plt.figure()\n",
    "ax = fig.add_axes([0,0,1,1])\n",
    "pop = ['Non-Hit', 'Hit']\n",
    "pop_count = list(df['pop'].value_counts())\n",
    "ax.bar(pop,pop_count,color='#103E36')\n",
    "plt.show()"
   ]
  },
  {
   "cell_type": "code",
   "execution_count": 50,
   "metadata": {},
   "outputs": [
    {
     "data": {
      "image/png": "[encoded data removed]",
      "text/plain": [
       "<Figure size 432x288 with 1 Axes>"
      ]
     },
     "metadata": {
      "needs_background": "light"
     },
     "output_type": "display_data"
    }
   ],
   "source": [
    "fig = plt.figure()\n",
    "ax = fig.add_axes([0,0,1,1])\n",
    "pop = ['Avec featuring', 'Sans featuring']\n",
    "pop_count = list(df['feat. '].value_counts())\n",
    "ax.bar(pop,pop_count,color='#103E36')\n",
    "plt.show()"
   ]
  },
  {
   "cell_type": "code",
   "execution_count": 51,
   "metadata": {},
   "outputs": [
    {
     "name": "stdout",
     "output_type": "stream",
     "text": [
      "les dimensions des musiques non-hit et hit sont respectivement (1292, 24) et (673, 24)\n"
     ]
    }
   ],
   "source": [
    "# Filter df pour avoir seulement les musiques hits\n",
    "df_pop_1=df.loc[df['pop']==1]\n",
    "# Filter df pour avoir seulement les musiques non-hits\n",
    "df_pop_0=df.loc[df['pop']==0]\n",
    "print('les dimensions des musiques non-hit et hit sont respectivement {} et {}'.format(df_pop_0.shape,df_pop_1.shape))\n"
   ]
  },
  {
   "cell_type": "code",
   "execution_count": 52,
   "metadata": {},
   "outputs": [
    {
     "name": "stdout",
     "output_type": "stream",
     "text": [
      "Parmi les musiques hit, les dimensions de celles qui sont avec featuring et sans featuring sont respectivement (125, 24) et (548, 24)\n"
     ]
    }
   ],
   "source": [
    "# Parmi les musiques hits, filter pour avoir seulement celles avec featuring\n",
    "df_pop_1_feat_1 = df_pop_1.loc[df_pop_1['feat. ']==1].shape\n",
    "# Parmi les musiques hits, filter pour avoir seulement celles sans featuring\n",
    "df_pop_1_feat_0 = df_pop_1.loc[df_pop_1['feat. ']==0].shape\n",
    "print('Parmi les musiques hit, les dimensions de celles qui sont avec featuring et sans featuring sont respectivement {} et {}'\n",
    "      .format(df_pop_1_feat_1,df_pop_1_feat_0))"
   ]
  },
  {
   "cell_type": "code",
   "execution_count": 53,
   "metadata": {},
   "outputs": [
    {
     "name": "stdout",
     "output_type": "stream",
     "text": [
      "les musiques non-hit, les dimensions de celles qui sont avec et sans featuring sont respectivement (211, 24) et (1081, 24)\n"
     ]
    }
   ],
   "source": [
    "# Parmi les musiques non-hits, filter pour avoir seulement celles sans featuring\n",
    "df_pop_0_feat_0 = df_pop_0.loc[df_pop_0['feat. ']==0].shape\n",
    "# Parmi les musiques non-hits, filter pour avoir seulement celles avec featuring\n",
    "df_pop_0_feat_1 = df_pop_0.loc[df_pop_0['feat. ']==1].shape\n",
    "print('les musiques non-hit, les dimensions de celles qui sont avec et sans featuring sont respectivement {} et {}'.format(df_pop_0_feat_1,df_pop_0_feat_0))"
   ]
  },
  {
   "cell_type": "code",
   "execution_count": 54,
   "metadata": {},
   "outputs": [
    {
     "data": {
      "image/png": "[encoded data removed]",
      "text/plain": [
       "<Figure size 432x288 with 1 Axes>"
      ]
     },
     "metadata": {
      "needs_background": "light"
     },
     "output_type": "display_data"
    }
   ],
   "source": [
    "import numpy as np\n",
    "barWidth=0.25\n",
    "# set height of bar\n",
    "bar1=[df_pop_1_feat_1[0],df_pop_0_feat_1[0]]\n",
    "bar2=[df_pop_1_feat_0[0],df_pop_0_feat_0[0]]\n",
    "\n",
    "# Set position of bar on X axis\n",
    "r1 = np.arange(len(bar1))\n",
    "r2 = [x + barWidth for x in r1]\n",
    "r3 = [x + barWidth for x in r2]\n",
    "\n",
    "# Make the plot\n",
    "plt.bar(r1, bar1, color='#7f6d5f', width=barWidth, edgecolor='white', label='var1')\n",
    "plt.bar(r2, bar2, color='#557f2d', width=barWidth, edgecolor='white', label='var2')\n",
    "\n",
    "# Add xticks on the middle of the group bars\n",
    "plt.xlabel('group', fontweight='bold')\n",
    "plt.xticks([r + barWidth for r in range(len(bar1))], ['Hit', 'Non-hit'])\n",
    "\n",
    "# Create legend & Show graphic\n",
    "plt.legend()\n",
    "plt.show()"
   ]
  },
  {
   "cell_type": "code",
   "execution_count": 55,
   "metadata": {},
   "outputs": [
    {
     "data": {
      "image/png": "[encoded data removed]",
      "text/plain": [
       "<Figure size 432x288 with 1 Axes>"
      ]
     },
     "metadata": {
      "needs_background": "light"
     },
     "output_type": "display_data"
    }
   ],
   "source": [
    "\n",
    "labels = ['Hit', 'Non-Hit']\n",
    "# set height of bar\n",
    "bar1=[df_pop_1_feat_1[0],df_pop_0_feat_1[0]]\n",
    "bar2=[df_pop_1_feat_0[0],df_pop_0_feat_0[0]]\n",
    "\n",
    "x = np.arange(len(labels))  # the label locations\n",
    "width = 0.30  # the width of the bars\n",
    "\n",
    "fig, ax = plt.subplots()\n",
    "rects1 = ax.bar(x - width/2, bar1, width, label='Avec featuring')\n",
    "rects2 = ax.bar(x + width/2, bar2, width, label='Sans featuring')\n",
    "\n",
    "# Add some text for labels, title and custom x-axis tick labels, etc.\n",
    "ax.set_ylabel('Scores')\n",
    "ax.set_title('Les musiques regroupées par popularité et feat. ')\n",
    "ax.set_xticks(x)\n",
    "ax.set_xticklabels(labels)\n",
    "ax.legend()\n",
    "\n",
    "\n",
    "def autolabel(rects):\n",
    "    \"\"\"Attach a text label above each bar in *rects*, displaying its height.\"\"\"\n",
    "    for rect in rects:\n",
    "        height = rect.get_height()\n",
    "        ax.annotate('{}'.format(height),\n",
    "                    xy=(rect.get_x() + rect.get_width() / 2, height),\n",
    "                    xytext=(0, 1),  # 3 points vertical offset\n",
    "                    textcoords=\"offset points\",\n",
    "                    ha='center', va='bottom')\n",
    "\n",
    "\n",
    "autolabel(rects1)\n",
    "autolabel(rects2)\n",
    "\n",
    "fig.tight_layout()\n",
    "\n",
    "plt.show()"
   ]
  },
  {
   "cell_type": "markdown",
   "metadata": {},
   "source": [
    "Parmi les 675 musiques hits, 125 sont avec featuring; et donc 450 sont sans featuring."
   ]
  },
  {
   "cell_type": "code",
   "execution_count": 47,
   "metadata": {},
   "outputs": [
    {
     "data": {
      "text/plain": [
       "Bad Bunny          905\n",
       "Various Artists    700\n",
       "Drake              648\n",
       "Lil Uzi Vert       524\n",
       "Polo G             323\n",
       "                  ... \n",
       "Juice WRLD           6\n",
       "Jack Harlow          5\n",
       "Gryffin              4\n",
       "Lee Brice            3\n",
       "THE SCOTTS           2\n",
       "Name: artist_name, Length: 104, dtype: int64"
      ]
     },
     "execution_count": 47,
     "metadata": {},
     "output_type": "execute_result"
    }
   ],
   "source": [
    "df.artist_name.value_counts()"
   ]
  },
  {
   "cell_type": "code",
   "execution_count": null,
   "metadata": {},
   "outputs": [],
   "source": []
  }
 ],
 "metadata": {
  "kernelspec": {
   "display_name": "Python 3",
   "language": "python",
   "name": "python3"
  },
  "language_info": {
   "codemirror_mode": {
    "name": "ipython",
    "version": 3
   },
   "file_extension": ".py",
   "mimetype": "text/x-python",
   "name": "python",
   "nbconvert_exporter": "python",
   "pygments_lexer": "ipython3",
   "version": "3.8.2"
  }
 },
 "nbformat": 4,
 "nbformat_minor": 4
}
