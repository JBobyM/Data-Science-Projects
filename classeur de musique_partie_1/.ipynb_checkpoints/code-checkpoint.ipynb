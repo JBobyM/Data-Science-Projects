{
 "cells": [
  {
   "cell_type": "markdown",
   "metadata": {},
   "source": [
    "![](img/image.jpeg)"
   ]
  },
  {
   "cell_type": "markdown",
   "metadata": {},
   "source": [
    "# Introduction\n",
    "Des milliers de chansons voient le jour tous les ans dans le monde. Certaines connaissent de vrais succès dans l’industrie musicale ; d’autres le sont moins. Il est un fait que réussir dans cette industrie demeure une tâche difficile. Investir dans la production d’une chanson requiert des activités diversifiées et peuvent consommer beaucoup de ressources. Il n’y a aucun outil jusque-là automatique dont les artistes et producteurs pourraient s'en servir pour évaluer si leur chanson qu’ils sont sur le point de publier va se révéler 'hit’.\n",
    "\n",
    "Dans cet article, on cherchera à comprendre ce qui caractérise une chanson populaire, et plus précisement si l'on pourrait prédire la popularité d'une chanson seulement en nous basant sur ses caractéristiques d'audio et celles de l'artiste. Nous allons construire un modèle-classeur de machine learning pouvant classer une chanson en hit ou non-hit. Bien que des facteurs sociaux comme le contexte dans lequel la chanson a été diffusée, la démographie de ses auditeurs et l'effectivité de sa campagne de marketing peuvent tout aussi bien jouer un rôle important dans sa viralité, nous emettons l'hypothèse que les caractéristiques inhérentes à une chanson, tels que l'artiste qui l'interprète, sa duréee, ses caractéristiques d'audio peuvent être correlés et également révélateur de sa viralité.\n"
   ]
  },
  {
   "cell_type": "markdown",
   "metadata": {},
   "source": [
    "# Objectif et pipeline\n",
    "\n",
    "Dans cet article de deux parties, nous allons construire un modèle de machine learning comme un classeur de chansons en hits et non-hits. Pour réussir un tel travail, plus nous avons de données, mieux c'est. Etant donné qu’on n'a pas pu trouver un dataset venant d’une seule et unique source avec toutes les variables, il nous a fallu recourir au data enrichment à mesure que cela ait été nécessaire. Nous avons eu besoin de trois sources pour construire notre jeu de données. Et  l'opération de recueillement s'est déroulée de la manière suivante :\n",
    "-\t<u> Billboard </u> : On s'est servi de la page Wikipédia de [Bilboard Year-End Hot 100](https://en.wikipedia.org/wiki/Billboard_Year-End_Hot_100_singles_of_2019) pour recueillir les musiques les plus populaires (hits) pour les années allant de 2010 à 2019. On a utilisé le web scrapping pour accomplir cette tâche.\n",
    "\n",
    "\n",
    "-   <u> Spotify </u>: Ensuite on a utilisé la librairie [Spotipy](https://spotipy.readthedocs.io/en/2.12.0/) pour récupérer les caractéristiques relatives à l’audio tels que la dansabilité, la vivacité, l'instrumentalité, etc. et à l’artiste comme la popularité, le nombre de followers etc. à la fois des chansons hits provenant du Billboard Year-End Hot 100 et d'autres chansons non-hits sur la période.\n",
    "\n",
    "\n",
    "-\t<u> LyricsOnDemand </u>: Enfin [LyricsOnDemand](https://www.lyricsondemand.com/) sera utilisé principalement pour récupérer les paroles des chansons.\n",
    "\n",
    "On considère qu’une musique de notre dataset est hit si elle a fait partie du classement du Billboard Year-End Hot 100 au moins une fois pendant l’une des années sur la période considérée. En d'autres termes, notre modèle aura pour mission de prédire si une chanson fera partie de la liste des 100 musiques les plus populaires de Bilboard ou non.\n",
    "\n",
    "Nous avons executé pas mal de lignes de codes afin de construire notre jeu de données. Tous les codes du projet sont accessibles depuis [ma page github](https://github.com/JBobyM/JsoupTest).\n",
    "\n",
    "##### Outils:\n",
    "- La librairie Spotipy pour accéder aux données de la plateforme musicale de Spotify\n",
    "- Seaborn et matplotlib pour la visualisation des données\n",
    "- Pandas et numpy pour l'analyse des données\n",
    "- scikit-learn pour la construction du modèle de machine learning\n",
    "\n"
   ]
  },
  {
   "cell_type": "markdown",
   "metadata": {},
   "source": [
    "# Construction du jeu de données"
   ]
  },
  {
   "cell_type": "markdown",
   "metadata": {},
   "source": [
    "Avant de commencer le scrapping, il faut rappeler que j'utilise la version 3.8.2 de Python et via [pip](https://pypi.org/project/pip/), tous les packages nécessaires au projet sont déjà installés.\n",
    "\n",
    "Comme mentionné dans le workflow, la première étape sera de scrapper le site web de [Billboard Year-End Hot 100](https://en.wikipedia.org/wiki/Billboard_Year-End_Hot_100_singles_of_2019). La première chose à faire pour réussir cette tache est d'importer les packages suivants :"
   ]
  },
  {
   "cell_type": "code",
   "execution_count": 8,
   "metadata": {},
   "outputs": [],
   "source": [
    "import requests\n",
    "from bs4 import BeautifulSoup as bs\n",
    "import pandas as pd"
   ]
  },
  {
   "cell_type": "markdown",
   "metadata": {},
   "source": [
    "En inspectant la *table* à scraper à partir de la console du developeur, on remarquera qu'elle est de classe *wikitable sortable jquery-tablesorter*. A présent nous pouvons recueillir les chansons pour une année et répéter le processus jusqu'à la dernière. Ainsi, nous executons les lignes de code suivants :"
   ]
  },
  {
   "cell_type": "code",
   "execution_count": 9,
   "metadata": {},
   "outputs": [],
   "source": [
    "info_array=[]\n",
    "for i in range(2010,2020,1):\n",
    "    url='https://en.wikipedia.org/wiki/Billboard_Year-End_Hot_100_singles_of_'+str(i)\n",
    "    res = requests.get(url).text\n",
    "    soup=bs(res,'html.parser')\n",
    "\n",
    "    table = soup.find(\"table\", class_= 'wikitable sortable')\n",
    "    table_body = table.find('tbody')\n",
    "    rows = table_body.find_all('tr')\n",
    "\n",
    "    for row in rows:\n",
    "        try:\n",
    "            cols = row.find_all('td')\n",
    "            cols = [element.text.strip() for element in cols]\n",
    "            info_array.append([ cols[0].replace('\"', ''), cols[1]])\n",
    "        except:\n",
    "            pass\n"
   ]
  },
  {
   "cell_type": "markdown",
   "metadata": {},
   "source": [
    "Ensuite nous convertissons cet *array* en une *dataframe* et visualize les cinq premières observations."
   ]
  },
  {
   "cell_type": "code",
   "execution_count": 10,
   "metadata": {},
   "outputs": [
    {
     "data": {
      "text/html": [
       "<div>\n",
       "<style scoped>\n",
       "    .dataframe tbody tr th:only-of-type {\n",
       "        vertical-align: middle;\n",
       "    }\n",
       "\n",
       "    .dataframe tbody tr th {\n",
       "        vertical-align: top;\n",
       "    }\n",
       "\n",
       "    .dataframe thead th {\n",
       "        text-align: right;\n",
       "    }\n",
       "</style>\n",
       "<table border=\"1\" class=\"dataframe\">\n",
       "  <thead>\n",
       "    <tr style=\"text-align: right;\">\n",
       "      <th></th>\n",
       "      <th>track_name</th>\n",
       "      <th>artists_name</th>\n",
       "    </tr>\n",
       "  </thead>\n",
       "  <tbody>\n",
       "    <tr>\n",
       "      <th>0</th>\n",
       "      <td>Tik Tok</td>\n",
       "      <td>Kesha</td>\n",
       "    </tr>\n",
       "    <tr>\n",
       "      <th>1</th>\n",
       "      <td>Need You Now</td>\n",
       "      <td>Lady Antebellum</td>\n",
       "    </tr>\n",
       "    <tr>\n",
       "      <th>2</th>\n",
       "      <td>Hey, Soul Sister</td>\n",
       "      <td>Train</td>\n",
       "    </tr>\n",
       "    <tr>\n",
       "      <th>3</th>\n",
       "      <td>California Gurls</td>\n",
       "      <td>Katy Perry featuring Snoop Dogg</td>\n",
       "    </tr>\n",
       "    <tr>\n",
       "      <th>4</th>\n",
       "      <td>OMG</td>\n",
       "      <td>Usher featuring will.i.am</td>\n",
       "    </tr>\n",
       "  </tbody>\n",
       "</table>\n",
       "</div>"
      ],
      "text/plain": [
       "         track_name                     artists_name\n",
       "0           Tik Tok                            Kesha\n",
       "1      Need You Now                  Lady Antebellum\n",
       "2  Hey, Soul Sister                            Train\n",
       "3  California Gurls  Katy Perry featuring Snoop Dogg\n",
       "4               OMG        Usher featuring will.i.am"
      ]
     },
     "execution_count": 10,
     "metadata": {},
     "output_type": "execute_result"
    }
   ],
   "source": [
    "df1 = pd.DataFrame(info_array)\n",
    "df1.columns=[\"track_name\", \"artists_name\"]\n",
    "df1.head()"
   ]
  },
  {
   "cell_type": "markdown",
   "metadata": {},
   "source": [
    "1 000 chansons ont été recupérées. Mais étant donné qu'il est possible qu'une chanson fasse partie de la liste pendant plusieurs années, il nous faudra donc enlever les possibles duplications."
   ]
  },
  {
   "cell_type": "code",
   "execution_count": 11,
   "metadata": {},
   "outputs": [
    {
     "data": {
      "text/plain": [
       "(905, 2)"
      ]
     },
     "execution_count": 11,
     "metadata": {},
     "output_type": "execute_result"
    }
   ],
   "source": [
    "df1 = df1.drop_duplicates()\n",
    "df1.shape"
   ]
  },
  {
   "cell_type": "markdown",
   "metadata": {},
   "source": [
    "Il est a noter que certains noms d'artiste contienent le mot *featuring*, attestant généralement que la chanson est un produit issu d'une collaboration entre deux artistes de groupes differents. Nous allons créer une nouvelle variable *dummy* prenant la valeur de 1 si la chanson est issue d'une collaboaration, i.e si le mot *featuring* est présent dans la colonne artists_name, et 0 sinon. Nous profiterons de l'occasion pour stocker le nom de l'artiste principale de la chanson dans la variable *artist_name* que l'on aura créée."
   ]
  },
  {
   "cell_type": "code",
   "execution_count": 12,
   "metadata": {},
   "outputs": [
    {
     "data": {
      "text/html": [
       "<div>\n",
       "<style scoped>\n",
       "    .dataframe tbody tr th:only-of-type {\n",
       "        vertical-align: middle;\n",
       "    }\n",
       "\n",
       "    .dataframe tbody tr th {\n",
       "        vertical-align: top;\n",
       "    }\n",
       "\n",
       "    .dataframe thead th {\n",
       "        text-align: right;\n",
       "    }\n",
       "</style>\n",
       "<table border=\"1\" class=\"dataframe\">\n",
       "  <thead>\n",
       "    <tr style=\"text-align: right;\">\n",
       "      <th></th>\n",
       "      <th>track_name</th>\n",
       "      <th>artists_name</th>\n",
       "      <th>featuring</th>\n",
       "      <th>artist_name</th>\n",
       "    </tr>\n",
       "  </thead>\n",
       "  <tbody>\n",
       "    <tr>\n",
       "      <th>0</th>\n",
       "      <td>Tik Tok</td>\n",
       "      <td>Kesha</td>\n",
       "      <td>0</td>\n",
       "      <td>Kesha</td>\n",
       "    </tr>\n",
       "    <tr>\n",
       "      <th>1</th>\n",
       "      <td>Need You Now</td>\n",
       "      <td>Lady Antebellum</td>\n",
       "      <td>0</td>\n",
       "      <td>Lady Antebellum</td>\n",
       "    </tr>\n",
       "    <tr>\n",
       "      <th>2</th>\n",
       "      <td>Hey, Soul Sister</td>\n",
       "      <td>Train</td>\n",
       "      <td>0</td>\n",
       "      <td>Train</td>\n",
       "    </tr>\n",
       "    <tr>\n",
       "      <th>3</th>\n",
       "      <td>California Gurls</td>\n",
       "      <td>Katy Perry featuring Snoop Dogg</td>\n",
       "      <td>1</td>\n",
       "      <td>Katy Perry</td>\n",
       "    </tr>\n",
       "    <tr>\n",
       "      <th>4</th>\n",
       "      <td>OMG</td>\n",
       "      <td>Usher featuring will.i.am</td>\n",
       "      <td>1</td>\n",
       "      <td>Usher</td>\n",
       "    </tr>\n",
       "  </tbody>\n",
       "</table>\n",
       "</div>"
      ],
      "text/plain": [
       "         track_name                     artists_name  featuring  \\\n",
       "0           Tik Tok                            Kesha          0   \n",
       "1      Need You Now                  Lady Antebellum          0   \n",
       "2  Hey, Soul Sister                            Train          0   \n",
       "3  California Gurls  Katy Perry featuring Snoop Dogg          1   \n",
       "4               OMG        Usher featuring will.i.am          1   \n",
       "\n",
       "       artist_name  \n",
       "0            Kesha  \n",
       "1  Lady Antebellum  \n",
       "2            Train  \n",
       "3      Katy Perry   \n",
       "4           Usher   "
      ]
     },
     "execution_count": 12,
     "metadata": {},
     "output_type": "execute_result"
    }
   ],
   "source": [
    "def featuring_(row):\n",
    "    if 'featuring' in row['artists_name']:\n",
    "        val = 1\n",
    "    else: \n",
    "        val = 0\n",
    "    return val\n",
    "\n",
    "def artist_name_(row):\n",
    "    if 'feat' in row['artists_name']:\n",
    "        val=row['artists_name'].split(\"featuring\")[0]\n",
    "    else: \n",
    "        val = row['artists_name']\n",
    "    return val\n",
    "\n",
    "df1['featuring'] = df1.apply(featuring_, axis=1)\n",
    "df1['artist_name'] = df1.apply(artist_name_, axis=1)\n",
    "\n",
    "df1.head()"
   ]
  },
  {
   "cell_type": "markdown",
   "metadata": {},
   "source": [
    "### *Data enrichment* via Spotify"
   ]
  },
  {
   "cell_type": "markdown",
   "metadata": {},
   "source": [
    "Nous venons de collecter toutes les chansons hits de la période. La prochaine étape est d'enrichir notre jeu de données avec plus de chansons et plus de variables par chanson. Heureusement pour nous, Spotify, qui est l'un des plus grands services de musique digitale dans le monde, fournit des endpoints très interessants réunissant des informations à propos des artistes, des chansons, des albums, etc. Le package [Spotipy](https://spotipy.readthedocs.io/en/2.12.0/) est spécifiquement construit afin d'acceder à ces informations sans faire trop d'effort.\n",
    "\n",
    "Spotify est disponible sur [Github](https://github.com/plamere/spotipy). Suivez ces instructions pour pouvoir faire des requettes sur sa base de données contenant des données relatives à plus de 50 millions de chansons:\n",
    "\n",
    "1) Installer le package\n",
    "\n",
    "2) Créer un projet via la console du devloppeur de Spotify\n",
    "\n",
    "3) Configurer les informations d'authentification (Client_id, secret_id)\n",
    "\n",
    "Passons enfin au *data enrichment*."
   ]
  },
  {
   "cell_type": "code",
   "execution_count": 13,
   "metadata": {},
   "outputs": [],
   "source": [
    "import spotipy\n",
    "from spotipy.oauth2 import SpotifyClientCredentials as SCC\n",
    "\n",
    "\n",
    "SPOTIPY_CLIENT_ID = 'c551b9fb898e45e9b1f95e4fc758ef24' \n",
    "SPOTIPY_CLIENT_SECRET = '53a60a7731d7484f8bba93b08509e17e'\n",
    "\n",
    "#SPOTIPY_CLIENT_ID = 'your_spotify_client_id_here' \n",
    "#SPOTIPY_CLIENT_SECRET = 'your_spotify_client_secret_here' \n",
    "\n",
    "client_credentials_manager = SCC(client_id=SPOTIPY_CLIENT_ID, client_secret = SPOTIPY_CLIENT_SECRET)\n",
    "sp = spotipy.Spotify(client_credentials_manager=client_credentials_manager)"
   ]
  },
  {
   "cell_type": "markdown",
   "metadata": {},
   "source": [
    "l'API de Spotify a une methode \"search\" qui permet de rechercher les informations relatives à une chanson, un  artiste, un album, super facilement. A titre d'exemple, il suffit de passer le nom de la chanson ou de l'artiste, ou les deux combinés, et elle renvoie un fichier JSON contenant des informations pertinentes pour la recherche effectuée. Nous aurons besoin d'informations à deux niveaux :\n",
    "- L'artiste : popularité de l'artiste, le nombre de followers, etc.\n",
    "- La chanson : Date de sortie, nombre de marché disponibles. Des variables pré-configurées liées à l'audio de la chanson  comme acoustique, dansabilité, énergie, instrumentalité, etc. \n",
    "\n",
    "La description complète de chacune de ces variables est faite ci-dessous. "
   ]
  },
  {
   "cell_type": "markdown",
   "metadata": {},
   "source": [
    "<u> Les variables relatives à l'artiste </u>\n",
    "\n",
    "**nom_artiste** : Nom de l'artiste principal de la chanson.\n",
    "\n",
    "**Popularité**  : La popularité de l'artiste sur Spotify. La valeur sera comprise entre 0 et 100, 100 étant le plus populaire. Nous pensons que plus un artiste est populaire, plus une chanson sur laquelle il pose sa voix est susceptible d'être virale.\n",
    "\n",
    "**Followers** : Nombre total de followers sur Spotify.\n",
    "\n",
    "<u> Les variables relatives à la chanson </u>\n",
    "\n",
    "**Date de sortie** : Date à laquelle la chanson a été diffusée pour la première fois.\n",
    "\n",
    "**Marché disponible** : Nombre de pays dans lequel la chanson peut être jouée.\n",
    "\n",
    "**Durée** : La durée de la chanson en millisecondes.\n",
    "\n",
    "**Acoustique** : Une mesure de confiance de 0.0 à 1.0 indiquant si la chanson est acoustique. 1.0 représente une confiance élevée que la chanson est acoustique.\n",
    "\n",
    "**Dansabilité** : La dansabilité décrit à quel point une chanson est adaptée à la danse sur la base d'une combinaison d'éléments musicaux, notamment le tempo, la stabilité du rythme, la force du rythme et la régularité globale. Une valeur de 0.0 est la moins dansante et 1.0 est la plus dansante.\n",
    "\n",
    "**Energie**: L'énergie est une mesure de 0.0 à 1.0 et représente une mesure perceptuelle de l'intensité et de l'activité. En règle générale, les chansons énergiques sont rapides, sonores et bruyantes.\n",
    "\n",
    "**Instrumentalité** : Prédit si une chanson ne contient pas de voix. Les sons «Ooh» et «aah» sont traités comme instrumentaux dans ce contexte. Les morceaux de rap ou de mots parlés sont clairement «vocaux». Plus la valeur instrumentale est proche de 1.0, plus la piste ne contient aucun contenu vocal. Les valeurs supérieures à 0.5 sont censées représenter des chansons instrumentales, mais la confiance est plus élevée lorsque la valeur approche de 1.0.\n",
    "\n",
    "**Vivacité** : Détecte la présence d'un public dans l'enregistrement. Des valeurs de vivacité plus élevées représentent une probabilité accrue que la chanson ait été jouée en direct. Une valeur supérieure à 0.8 offre une forte probabilité que la chanson soit en direct.\n",
    "\n",
    "**Intensité** : L'intensité global d'une chanson en décibels (dB). Les valeurs d'intensité sont moyennées sur toute la chanson et sont utiles pour comparer l'intensité relative des chansons. L'intensité sonore est la qualité d'un son qui est le principal corrélat psychologique de la force physique (amplitude). Les valeurs varient entre -60 et 0 db.\n",
    "\n",
    "**Eloquence** : L'éloqunece détecte la présence de mots prononcés dans une chanson. Plus l'enregistrement est exclusivement vocal (par exemple, talk-show, livre audio, poésie), plus la valeur d'attribut est proche de 1.0. Les valeurs supérieures à 0.66 décrivent des chansons qui sont probablement entièrement constituées de mots prononcés. Les valeurs comprises entre 0.33 et 0.66 décrivent des pistes qui peuvent contenir à la fois de la musique et de la parole, soit en sections, soit en couches, y compris des cas comme la musique rap. Les valeurs inférieures à 0.33 représentent très probablement de la musique et d'autres pistes non vocales.\n",
    "\n",
    "**Valence** : Une mesure de 0.0 à 1.0 décrivant la positivité musicale véhiculée par une chanson. Les chansons avec une valence élevée semblent plus positives (par exemple, joyeuses, gaies, euphoriques), tandis que les chansons avec une valence basse semblent plus négatives (par exemple tristes, déprimées, en colère).\n",
    "\n",
    "**Tempo** : Le tempo global estimé d'une chanson en battements par minute (BPM). Dans la terminologie musicale, le tempo est la vitesse ou le rythme d'une pièce donnée et découle directement de la durée moyenne des temps.\n",
    "\n",
    "**hit** : Variable dichotomique mesurant si une chanson est hit ou non. Elle prend la valeur de 1 si la chanson est hit, 0 sinon. C'est notre variable dépendante, c'est-à-dire celle que l'on cherchera à prédire pour une chanson donnée.\n",
    "\n",
    "**featuring** : Variable dépendante dichotomique mesurant s'il y a un ou plusieurs artistes invités sur une chanson.\n",
    "\n",
    "**mois** : Mois de sortie de la chanson.\n",
    "\n",
    "**jour_sem** : Jour de la semaine durant lequel la chanson a ete diffusee. \n",
    "\n",
    "**jour** : Jour de sortie de la chanson."
   ]
  },
  {
   "cell_type": "markdown",
   "metadata": {},
   "source": [
    "Nous recueillerons un un total de 20 variables: "
   ]
  },
  {
   "cell_type": "code",
   "execution_count": 14,
   "metadata": {},
   "outputs": [
    {
     "data": {
      "text/plain": [
       "0      None\n",
       "1      None\n",
       "2      None\n",
       "3      None\n",
       "4      None\n",
       "       ... \n",
       "995    None\n",
       "996    None\n",
       "997    None\n",
       "998    None\n",
       "999    None\n",
       "Name: search, Length: 905, dtype: object"
      ]
     },
     "execution_count": 14,
     "metadata": {},
     "output_type": "execute_result"
    }
   ],
   "source": [
    "# Creation d'une nouvelle colonne contenat le nom de l'artiste principale et le titre de la chanson.\n",
    "df1['search'] = df1['track_name'] + \" \" + df1[\"artist_name\"]\n",
    "\n",
    "artist_name=[]\n",
    "pop_artist=[]\n",
    "tot_followers=[]\n",
    "track_name=[]\n",
    "avail_mark=[]\n",
    "rel_date=[]\n",
    "pop_track=[]\n",
    "acousticness=[]\n",
    "danceability=[]\n",
    "duration_ms=[]\n",
    "energy=[]\n",
    "instrumentalness=[]\n",
    "liveness=[]\n",
    "loudness=[]\n",
    "speechiness=[]\n",
    "tempo=[]\n",
    "time_signature=[]\n",
    "valence=[]\n",
    "\n",
    "# Une fonction qui servira à rechercher les chansons suivant la colonne search et à extraire les variables citées plus haut.\n",
    "def track_info(search):\n",
    "    \n",
    "    track_=[]\n",
    "    \n",
    "    try:\n",
    "        track_results = sp.search(q=search, type='track', limit=1, offset=0)\n",
    "        track_.append(track_results['tracks']['items'])\n",
    "\n",
    "        track_uri=track_[0][0]['uri']\n",
    "        audio_features = sp.audio_features(track_uri)[0]\n",
    "\n",
    "        if audio_features != None:\n",
    "                    # Artist info\n",
    "                    artist_uri=track_[0][0]['album']['artists'][0]['uri']\n",
    "                    artist = sp.artist(artist_uri)\n",
    "                    artist_name.append(artist['name'])\n",
    "                    pop_artist.append(artist['popularity'])\n",
    "                    tot_followers.append(artist['followers']['total'])\n",
    "\n",
    "                    # Track info\n",
    "                    track_name.append(track_[0][0]['name'])\n",
    "                    avail_mark.append(len(track_[0][0]['available_markets']))\n",
    "                    rel_date.append(track_[0][0]['album']['release_date'])\n",
    "                    pop_track.append(track_[0][0]['popularity'])\n",
    "\n",
    "                    acousticness.append(audio_features['acousticness'])\n",
    "                    danceability.append(audio_features['danceability'])\n",
    "                    duration_ms.append(audio_features['duration_ms'])\n",
    "                    energy.append(audio_features['energy'])\n",
    "                    instrumentalness.append(audio_features['instrumentalness'])\n",
    "                    liveness.append(audio_features['liveness'])\n",
    "                    loudness.append(audio_features['loudness'])\n",
    "                    speechiness.append(audio_features['speechiness'])\n",
    "                    tempo.append(audio_features['tempo'])\n",
    "                    time_signature.append(audio_features['time_signature'])\n",
    "                    valence.append(audio_features['valence'])\n",
    "    except:\n",
    "        pass\n",
    "\n",
    "    # Action!\n",
    "df1['search'].map(track_info)"
   ]
  },
  {
   "cell_type": "code",
   "execution_count": 15,
   "metadata": {},
   "outputs": [
    {
     "data": {
      "text/html": [
       "<div>\n",
       "<style scoped>\n",
       "    .dataframe tbody tr th:only-of-type {\n",
       "        vertical-align: middle;\n",
       "    }\n",
       "\n",
       "    .dataframe tbody tr th {\n",
       "        vertical-align: top;\n",
       "    }\n",
       "\n",
       "    .dataframe thead th {\n",
       "        text-align: right;\n",
       "    }\n",
       "</style>\n",
       "<table border=\"1\" class=\"dataframe\">\n",
       "  <thead>\n",
       "    <tr style=\"text-align: right;\">\n",
       "      <th></th>\n",
       "      <th>track_name</th>\n",
       "      <th>artists_name</th>\n",
       "      <th>featuring</th>\n",
       "      <th>artist_name</th>\n",
       "      <th>search</th>\n",
       "    </tr>\n",
       "  </thead>\n",
       "  <tbody>\n",
       "    <tr>\n",
       "      <th>0</th>\n",
       "      <td>Tik Tok</td>\n",
       "      <td>Kesha</td>\n",
       "      <td>0</td>\n",
       "      <td>Kesha</td>\n",
       "      <td>Tik Tok Kesha</td>\n",
       "    </tr>\n",
       "    <tr>\n",
       "      <th>1</th>\n",
       "      <td>Need You Now</td>\n",
       "      <td>Lady Antebellum</td>\n",
       "      <td>0</td>\n",
       "      <td>Lady Antebellum</td>\n",
       "      <td>Need You Now Lady Antebellum</td>\n",
       "    </tr>\n",
       "    <tr>\n",
       "      <th>2</th>\n",
       "      <td>Hey, Soul Sister</td>\n",
       "      <td>Train</td>\n",
       "      <td>0</td>\n",
       "      <td>Train</td>\n",
       "      <td>Hey, Soul Sister Train</td>\n",
       "    </tr>\n",
       "    <tr>\n",
       "      <th>3</th>\n",
       "      <td>California Gurls</td>\n",
       "      <td>Katy Perry featuring Snoop Dogg</td>\n",
       "      <td>1</td>\n",
       "      <td>Katy Perry</td>\n",
       "      <td>California Gurls Katy Perry</td>\n",
       "    </tr>\n",
       "    <tr>\n",
       "      <th>4</th>\n",
       "      <td>OMG</td>\n",
       "      <td>Usher featuring will.i.am</td>\n",
       "      <td>1</td>\n",
       "      <td>Usher</td>\n",
       "      <td>OMG Usher</td>\n",
       "    </tr>\n",
       "  </tbody>\n",
       "</table>\n",
       "</div>"
      ],
      "text/plain": [
       "         track_name                     artists_name  featuring  \\\n",
       "0           Tik Tok                            Kesha          0   \n",
       "1      Need You Now                  Lady Antebellum          0   \n",
       "2  Hey, Soul Sister                            Train          0   \n",
       "3  California Gurls  Katy Perry featuring Snoop Dogg          1   \n",
       "4               OMG        Usher featuring will.i.am          1   \n",
       "\n",
       "       artist_name                        search  \n",
       "0            Kesha                 Tik Tok Kesha  \n",
       "1  Lady Antebellum  Need You Now Lady Antebellum  \n",
       "2            Train        Hey, Soul Sister Train  \n",
       "3      Katy Perry   California Gurls Katy Perry   \n",
       "4           Usher                     OMG Usher   "
      ]
     },
     "execution_count": 15,
     "metadata": {},
     "output_type": "execute_result"
    }
   ],
   "source": [
    "df1.head()"
   ]
  },
  {
   "cell_type": "markdown",
   "metadata": {},
   "source": [
    "Nous avons maintenant une première table de données qui est composée des chansons hits avec toutes les variables qui nous interessent. \n",
    "Nous allons encore utiliser l'API de Spotify. Cette fois-ci c'est pour idéalement récuperer autant de chansons que possible sur la période considerée. Il est à noter que c'est recemment que Spotify a permis de récupérer autant de musiques que l'on souhaite durant une requêtte. Avant, la quantité maximale de track qu'il était possible d'obtenir ne dépassait pas 10 000 . "
   ]
  },
  {
   "cell_type": "code",
   "execution_count": null,
   "metadata": {},
   "outputs": [],
   "source": [
    "# Récupération de 20 000 musiques à raison de 2 000 par années pour la période 2010-2019 (10 ans)\n",
    "track_=[]\n",
    "for j in range(2010,2020,1):\n",
    "    year='year:'+str(j)\n",
    "    for i in range(0,2000,50):\n",
    "        track_results = sp.search(q=year, type='track', limit=50, offset=i)\n",
    "        track_.append(track_results['tracks']['items'])"
   ]
  },
  {
   "cell_type": "code",
   "execution_count": null,
   "metadata": {},
   "outputs": [],
   "source": [
    "# Construction d'une table de données avec les champs retenus\n",
    "import pandas as pd\n",
    "\n",
    "artist_name=[]\n",
    "pop_artist=[]\n",
    "tot_followers=[] \n",
    "track_name=[]\n",
    "avail_mark=[]\n",
    "rel_date=[]\n",
    "pop_track=[]\n",
    "acousticness=[]\n",
    "danceability=[]\n",
    "duration_ms=[]\n",
    "energy=[]\n",
    "instrumentalness=[]\n",
    "liveness=[]\n",
    "loudness=[]\n",
    "speechiness=[]\n",
    "tempo=[]\n",
    "time_signature=[]\n",
    "valence=[]\n",
    "\n",
    "for i in range(0,400,1):\n",
    "    for j in range(0,50,1):\n",
    "        track_uri=track_[i][j]['uri']\n",
    "        audio_features = sp.audio_features(track_uri)[0]\n",
    "        \n",
    "        if audio_features != None:\n",
    "            # Artist info\n",
    "            artist_uri=track_[i][j]['album']['artists'][0]['uri']\n",
    "            artist = sp.artist(artist_uri)\n",
    "            artist_name.append(artist['name'])\n",
    "            pop_artist.append(artist['popularity'])\n",
    "            tot_followers.append(artist['followers']['total'])\n",
    "\n",
    "            # Track info\n",
    "            track_name.append(track_[i][j]['name'])\n",
    "            avail_mark.append(len(track_[i][j]['available_markets']))\n",
    "            rel_date.append(track_[i][j]['album']['release_date'])\n",
    "            pop_track.append(track_[i][j]['popularity'])\n",
    "            \n",
    "            # Track audio info\n",
    "            acousticness.append(audio_features['acousticness'])\n",
    "            danceability.append(audio_features['danceability'])\n",
    "            duration_ms.append(audio_features['duration_ms'])\n",
    "            energy.append(audio_features['energy'])\n",
    "            instrumentalness.append(audio_features['instrumentalness'])\n",
    "            liveness.append(audio_features['liveness'])\n",
    "            loudness.append(audio_features['loudness'])\n",
    "            speechiness.append(audio_features['speechiness'])\n",
    "            tempo.append(audio_features['tempo'])\n",
    "            time_signature.append(audio_features['time_signature'])\n",
    "            valence.append(audio_features['valence'])\n",
    "            \n",
    "\n",
    "df2 = pd.DataFrame({'artist_name':artist_name,'pop_artist':pop_artist,'tot_followers':tot_followers,'track_name':track_name,\n",
    "                   'avail_mark':avail_mark,'rel_date':rel_date,'pop_track':pop_track,'acousticness':acousticness,\n",
    "                   'danceability':danceability,'duration_ms':duration_ms,'energy':energy,'instrumentalness':instrumentalness,\n",
    "                   'liveness':liveness,'loudness':loudness,'speechiness':speechiness,\n",
    "                   'tempo':tempo,'time_signature':time_signature,'valence':valence\n",
    "                  })"
   ]
  },
  {
   "cell_type": "code",
   "execution_count": null,
   "metadata": {},
   "outputs": [],
   "source": [
    "# Création de la variable hit. Par définition, toutes les musiques issues de la table de données df1 sont hits.\n",
    "df1['hit']=1\n",
    "df2['hit']=0\n",
    "\n",
    "# Combinaison des deux tables de données\n",
    "df=pd.concat([df1,df2],ignore_index=True)\n",
    "\n",
    "# Création de la variable featuring. Elle vaut 1 s'il y a des artistes invités sur la musiques, et 0 sinon.\n",
    "def feat_(row):\n",
    "    if 'feat.' in row['track_name']:\n",
    "        val = 1\n",
    "    else: \n",
    "        val = 0\n",
    "    return val\n",
    "\n",
    "df['featuring'] = df.apply(feat_, axis=1)\n",
    "\n",
    "# Check for mising values(fortunately there are none)\n",
    "df.isnull().sum()\n",
    "\n",
    "# Suppression des observations duppliquées\n",
    "df['search'] = df['artist_name'] + \" \" + df[\"track_name\"]\n",
    "df=df.drop_duplicates(subset=['search'],keep='first')\n",
    "df.shape"
   ]
  },
  {
   "cell_type": "code",
   "execution_count": null,
   "metadata": {},
   "outputs": [],
   "source": [
    "# Les variables sont renommées\n",
    "df=df.rename(columns={'artist_name':'nom_artiste','pop_artist':'pop_artiste','track_name':'nom_chanson','avail_mark':'marche_disp','rel_date':'date_sortie','pop_track':'pop_chanson','acousticness':'acoustique','danceability':'dansabilite','duration_ms':'duree','energy':'energie','instrumentalness':'instrumentalite','liveness':'vivacite','loudness':'intensite','speechiness':'eloquence','tempo':'tempo','valence':'valence','pop':'hit','featuring':'featuring'})"
   ]
  },
  {
   "cell_type": "code",
   "execution_count": 6,
   "metadata": {},
   "outputs": [],
   "source": [
    "# Extraction des dates\n",
    "df['date_sortie']=pd.to_datetime(df['date_sortie'])\n",
    "df['mois_sortie'] = df['date_sortie'].apply(lambda m: m.month)\n",
    "df['jour_sortie'] = df['date_sortie'].apply(lambda d: d.day)\n",
    "df['jour_sem_sortie'] = df['date_sortie'].apply(lambda w: w.weekday())"
   ]
  },
  {
   "cell_type": "code",
   "execution_count": 7,
   "metadata": {},
   "outputs": [
    {
     "data": {
      "text/plain": [
       "(19182, 24)"
      ]
     },
     "execution_count": 7,
     "metadata": {},
     "output_type": "execute_result"
    }
   ],
   "source": [
    "df.shape"
   ]
  },
  {
   "cell_type": "markdown",
   "metadata": {},
   "source": [
    "## Analyse de données exploratoire\n",
    "A présent, notre jeu de données est complet. Nous allons l'explorer avant de consruire notre modèle."
   ]
  },
  {
   "cell_type": "code",
   "execution_count": 17,
   "metadata": {},
   "outputs": [
    {
     "data": {
      "image/png": "[encoded data removed]",
      "text/plain": [
       "<Figure size 432x288 with 1 Axes>"
      ]
     },
     "metadata": {
      "needs_background": "light"
     },
     "output_type": "display_data"
    }
   ],
   "source": [
    "%matplotlib inline\n",
    "from matplotlib import pyplot as plt\n",
    "\n",
    "fig = plt.figure()\n",
    "ax = fig.add_axes([0,0,1,1])\n",
    "pop = ['non-hit', 'hit']\n",
    "pop_count = list(df['hit'].value_counts())\n",
    "ax.bar(pop,pop_count,color='#103E36')\n",
    "#plt.savefig('plot.png', dpi=200, bbox_inches='tight')\n",
    "\n",
    "plt.show()"
   ]
  },
  {
   "cell_type": "code",
   "execution_count": 18,
   "metadata": {},
   "outputs": [
    {
     "data": {
      "image/png": "[encoded data removed]",
      "text/plain": [
       "<Figure size 432x288 with 1 Axes>"
      ]
     },
     "metadata": {
      "needs_background": "light"
     },
     "output_type": "display_data"
    }
   ],
   "source": [
    "fig = plt.figure()\n",
    "ax = fig.add_axes([0,0,1,1])\n",
    "pop = ['Avec featuring', 'Sans featuring']\n",
    "pop_count = list(df['featuring'].value_counts())\n",
    "ax.bar(pop,pop_count,color='#103E36')\n",
    "plt.show()"
   ]
  },
  {
   "cell_type": "code",
   "execution_count": 21,
   "metadata": {},
   "outputs": [
    {
     "name": "stdout",
     "output_type": "stream",
     "text": [
      "les dimensions des musiques non-hits et hits sont respectivement (18280, 24) et (902, 24)\n"
     ]
    }
   ],
   "source": [
    "# Filtrer df pour avoir seulement les musiques hits\n",
    "df_pop_1=df.loc[df['hit']==1]\n",
    "\n",
    "# Filtrer df pour avoir seulement les musiques non-hits\n",
    "df_pop_0=df.loc[df['hit']==0]\n",
    "\n",
    "print('les dimensions des musiques non-hits et hits sont respectivement {} et {}'.format(df_pop_0.shape,df_pop_1.shape))"
   ]
  },
  {
   "cell_type": "code",
   "execution_count": 22,
   "metadata": {},
   "outputs": [
    {
     "name": "stdout",
     "output_type": "stream",
     "text": [
      "Parmi les musiques hits, les dimensions de celles qui sont avec featuring et sans featuring sont respectivement (142, 24) et (760, 24)\n"
     ]
    }
   ],
   "source": [
    "# Parmi les musiques hits, filter pour avoir seulement celles avec featuring\n",
    "df_pop_1_feat_1 = df_pop_1.loc[df_pop_1['featuring']==1].shape\n",
    "\n",
    "# Parmi les musiques hits, filter pour avoir seulement celles sans featuring\n",
    "df_pop_1_feat_0 = df_pop_1.loc[df_pop_1['featuring']==0].shape\n",
    "\n",
    "print('Parmi les musiques hits, les dimensions de celles qui sont avec featuring et sans featuring sont respectivement {} et {}'\n",
    "      .format(df_pop_1_feat_1,df_pop_1_feat_0))"
   ]
  },
  {
   "cell_type": "code",
   "execution_count": 23,
   "metadata": {},
   "outputs": [
    {
     "name": "stdout",
     "output_type": "stream",
     "text": [
      "parmi les musiques non-hit, les dimensions de celles qui sont avec et sans featuring sont respectivement (1639, 24) et (16641, 24)\n"
     ]
    }
   ],
   "source": [
    "# Parmi les musiques non-hits, filter pour avoir seulement celles sans featuring\n",
    "df_pop_0_feat_0 = df_pop_0.loc[df_pop_0['featuring']==0].shape\n",
    "\n",
    "# Parmi les musiques non-hits, filter pour avoir seulement celles avec featuring\n",
    "df_pop_0_feat_1 = df_pop_0.loc[df_pop_0['featuring']==1].shape\n",
    "\n",
    "print('parmi les musiques non-hit, les dimensions de celles qui sont avec et sans featuring sont respectivement {} et {}'.format(df_pop_0_feat_1,df_pop_0_feat_0))"
   ]
  },
  {
   "cell_type": "code",
   "execution_count": 25,
   "metadata": {},
   "outputs": [
    {
     "data": {
      "image/png": "[encoded data removed]",
      "text/plain": [
       "<Figure size 432x288 with 1 Axes>"
      ]
     },
     "metadata": {
      "needs_background": "light"
     },
     "output_type": "display_data"
    }
   ],
   "source": [
    "import numpy as np\n",
    "labels = ['hit', 'non-hit']\n",
    "# set height of bar\n",
    "bar1=[df_pop_1_feat_1[0],df_pop_0_feat_1[0]]\n",
    "bar2=[df_pop_1_feat_0[0],df_pop_0_feat_0[0]]\n",
    "\n",
    "x = np.arange(len(labels))  # the label locations\n",
    "width = 0.30  # the width of the bars\n",
    "\n",
    "fig, ax = plt.subplots()\n",
    "rects1 = ax.bar(x - width/2, bar1, width, label='Avec featuring')\n",
    "rects2 = ax.bar(x + width/2, bar2, width, label='Sans featuring')\n",
    "\n",
    "# Add some text for labels, title and custom x-axis tick labels, etc.\n",
    "ax.set_ylabel('Scores')\n",
    "ax.set_title('Les musiques regroupées par niveau de popularité et featuring ')\n",
    "ax.set_xticks(x)\n",
    "ax.set_xticklabels(labels)\n",
    "ax.legend()\n",
    "\n",
    "\n",
    "def autolabel(rects):\n",
    "    \"\"\"Attach a text label above each bar in *rects*, displaying its height.\"\"\"\n",
    "    for rect in rects:\n",
    "        height = rect.get_height()\n",
    "        ax.annotate('{}'.format(height),\n",
    "                    xy=(rect.get_x() + rect.get_width() / 2, height),\n",
    "                    xytext=(0, 1),  # 3 points vertical offset\n",
    "                    textcoords=\"offset points\",\n",
    "                    ha='center', va='bottom')\n",
    "\n",
    "\n",
    "autolabel(rects1)\n",
    "autolabel(rects2)\n",
    "\n",
    "fig.tight_layout()\n",
    "\n",
    "plt.show()"
   ]
  },
  {
   "cell_type": "code",
   "execution_count": 26,
   "metadata": {},
   "outputs": [
    {
     "data": {
      "image/png": "[encoded data removed]",
      "text/plain": [
       "<Figure size 864x576 with 1 Axes>"
      ]
     },
     "metadata": {
      "needs_background": "light"
     },
     "output_type": "display_data"
    }
   ],
   "source": [
    "plt.figure(figsize=(12,8))\n",
    "df[df['hit']==1]['nom_artiste'].value_counts()[:20].plot(kind=\"bar\")\n",
    "plt.title(\"Les artistes avec le plus de musiques hits dans le bilboard\")\n",
    "plt.show()"
   ]
  },
  {
   "cell_type": "code",
   "execution_count": 30,
   "metadata": {},
   "outputs": [
    {
     "data": {
      "image/png": "[encoded data removed]",
      "text/plain": [
       "<Figure size 864x576 with 1 Axes>"
      ]
     },
     "metadata": {
      "needs_background": "light"
     },
     "output_type": "display_data"
    }
   ],
   "source": [
    "plt.figure(figsize=(12,8))\n",
    "plt.hist(df[df['hit']==1]['pop_artiste'], bins=100, density=True, alpha=0.5, label=\"Hit\")\n",
    "plt.hist(df[df['hit']==0]['pop_artiste'], bins=100, density=True, alpha=0.5, label=\"Not Hit\")\n",
    "plt.title(\"Popularité de l'artiste\")\n",
    "plt.legend()\n",
    "plt.show()"
   ]
  },
  {
   "cell_type": "code",
   "execution_count": 28,
   "metadata": {},
   "outputs": [
    {
     "name": "stdout",
     "output_type": "stream",
     "text": [
      "Les coefficients d\"assymétrie de Fisher pour le distribution des musiques hits et non-hits sont respectivement -2.62 et -1.86. La médiane de la distribution des musiques hits est de 82.0.  Le troisième quartile de la distribution des musiques non hits est de 82.0 \n"
     ]
    }
   ],
   "source": [
    "from scipy.stats import skew as sk\n",
    "from scipy import stats\n",
    "\n",
    "h=sk(df[df['hit']==1]['pop_artiste'])\n",
    "n_h=sk(df[df['hit']==0]['pop_artiste'])\n",
    "\n",
    "q_2_h=np.percentile(df[df['hit']==1]['pop_artiste'], 50)\n",
    "q_3_n_h=np.percentile(df[df['hit']==0]['pop_artiste'], 75)\n",
    "print('Les coefficients d\"assymétrie de Fisher pour le distribution des musiques hits et non-hits ' \n",
    "      'sont respectivement {} et {}. La médiane de la distribution des musiques hits est de {}. '\n",
    "      ' Le troisième quartile de la distribution des musiques non hits est de {} '.format(round(h,2),round(n_h,2),q_2_h,q_3_n_h))\n",
    "#print(\"{},{}\".format(h,n_h))"
   ]
  },
  {
   "cell_type": "code",
   "execution_count": 38,
   "metadata": {},
   "outputs": [],
   "source": [
    "features_hit = df.loc[df['hit']==1 ,['acoustique', 'dansabilite', 'energie', 'instrumentalite', 'vivacite', 'eloquence', 'valence']]\n",
    "\n",
    "features_non_hit = df.loc[df['hit']==0 ,['acoustique', 'dansabilite', 'energie', 'instrumentalite', 'vivacite', 'eloquence', 'valence']]\n"
   ]
  },
  {
   "cell_type": "code",
   "execution_count": 42,
   "metadata": {},
   "outputs": [
    {
     "data": {
      "image/png": "[encoded data removed]",
      "text/plain": [
       "<Figure size 576x576 with 1 Axes>"
      ]
     },
     "metadata": {},
     "output_type": "display_data"
    }
   ],
   "source": [
    "#%%capture\n",
    "import numpy as np\n",
    "from matplotlib import pyplot as plt\n",
    "\n",
    "features_hit = df.loc[df['hit']==1 ,['acoustique', 'dansabilite', 'energie', 'instrumentalite', 'vivacite', 'eloquence', 'valence']]\n",
    "\n",
    "features_non_hit = df.loc[df['hit']==0 ,['acoustique', 'dansabilite', 'energie', 'instrumentalite', 'vivacite', 'eloquence', 'valence']]\n",
    "\n",
    "N = len(features_hit.mean())\n",
    "#Liste des nombre de variables\n",
    "ind = np.arange(N) \n",
    "\n",
    "width = 0.25  \n",
    "#diagrame en batons avec la liste des musiques hits\n",
    "plt.barh(ind, features_hit.mean() , width, label='hits', color = 'blue')\n",
    "#diagrame en batons avec la liste des musiques non hits\n",
    "plt.barh(ind + width, features_non_hit.mean(), width, label='non-hits', color = 'red')\n",
    "\n",
    "#X- label\n",
    "plt.xlabel('Moyenne', fontsize = 12)\n",
    "# Title\n",
    "plt.title(\"Distribution des valeurs moyennes \\n des caractéristiques d'audio des chansons.\")\n",
    "#Vertical ticks\n",
    "plt.yticks(ind + width / 2, (list(features_non_hit)[:]), fontsize = 12)\n",
    "#legend\n",
    "plt.legend(loc='best')\n",
    "# Figure size\n",
    "plt.rcParams['figure.figsize'] =(16,8)\n",
    "# Set style\n",
    "plt.style.use(\"ggplot\")\n",
    "plt.show()"
   ]
  },
  {
   "cell_type": "code",
   "execution_count": 41,
   "metadata": {},
   "outputs": [
    {
     "data": {
      "image/png": "[encoded data removed]",
      "text/plain": [
       "<Figure size 720x720 with 1 Axes>"
      ]
     },
     "metadata": {},
     "output_type": "display_data"
    }
   ],
   "source": [
    "import seaborn as sns\n",
    "labels= list(features_hit)\n",
    "mean_list1= features_hit.mean().to_list()\n",
    "mean_list2 = features_non_hit.mean().to_list()\n",
    "\n",
    "angles=np.linspace(0, 2*np.pi, len(labels), endpoint=False)\n",
    "\n",
    "# close the plot\n",
    "mean_list1=np.concatenate((mean_list1,[mean_list1[0]]))\n",
    "mean_list2 =np.concatenate((mean_list2,[mean_list2[0]])) \n",
    "angles=np.concatenate((angles,[angles[0]]))\n",
    "\n",
    "#Size of the figure\n",
    "fig=plt.figure(figsize = (10,10))\n",
    "\n",
    "ax = fig.add_subplot(221, polar=True)\n",
    "ax.plot(angles, mean_list1, 'o-', linewidth=2, label = \"Hit songs\", color= 'gray')\n",
    "ax.fill(angles, mean_list1, alpha=0.25, facecolor='gray')\n",
    "ax.set_thetagrids(angles * 180/np.pi, labels , fontsize = 13)\n",
    "\n",
    "\n",
    "ax.set_rlabel_position(250)\n",
    "plt.yticks([0.2 , 0.4 , 0.6 , 0.8  ], [\"0.2\",'0.4', \"0.6\", \"0.8\"], color=\"grey\", size=12)\n",
    "plt.ylim(0,1)\n",
    "\n",
    "ax.plot(angles, mean_list2, 'o-', linewidth=2, label = \"Non-Hit songs\", color = 'm')\n",
    "ax.fill(angles, mean_list2, alpha=0.25, facecolor='m')\n",
    "ax.set_title(\"Valeurs moyennes des caracteristiques d'audio\")\n",
    "ax.grid(True)\n",
    "\n",
    "plt.legend(loc='best', bbox_to_anchor=(1.6, 1.0))\n",
    "plt.style.use(\"ggplot\")"
   ]
  },
  {
   "cell_type": "code",
   "execution_count": 43,
   "metadata": {},
   "outputs": [
    {
     "data": {
      "image/png": "[encoded data removed]",
      "text/plain": [
       "<Figure size 1296x576 with 3 Axes>"
      ]
     },
     "metadata": {},
     "output_type": "display_data"
    }
   ],
   "source": [
    "#%%capture\n",
    "fig,(ax1, ax2, ax3)=plt.subplots(1,3,figsize=(18,8))\n",
    "fig.suptitle('Date de sortie des musiques hits')\n",
    "ax1.set_title('Mois')\n",
    "ax1.hist(df[df['hit']==1]['mois_sortie'], bins=30, color='blue')\n",
    "ax2.set_title('Jour de la semaine')\n",
    "ax2.hist(df[df['hit']==1]['jour_sem_sortie'], bins=14,color='red')\n",
    "ax3.set_title('Jour')\n",
    "ax3.hist(df[df['hit']==1]['jour_sortie'], bins=62,color='blue')\n",
    "plt.show()"
   ]
  },
  {
   "cell_type": "markdown",
   "metadata": {},
   "source": [
    "# Modèle de machine learning\n",
    "\n",
    "Jusque-là, nous avons pu découvrir quelques interéssants insights sur les données. Afin d'écourter cet article, passons directement en la partie concernant l'algorithme de machine learning que nous allons utiliser. Nous allons construire un modèle afin de prédire la classe, hit ou non-hit, qu'une musique est la plus susceptible d'appartenir en nous basant sur un ensemble de variables explicatives, comme expliqué au début."
   ]
  },
  {
   "cell_type": "code",
   "execution_count": 44,
   "metadata": {},
   "outputs": [],
   "source": [
    "#Suppression de variables qui ne sont pas utilisées par le modèle\n",
    "df.drop(['nom_chanson','search','nom_artiste','date_sortie',\n",
    "        'jour_sem_sortie','jour_sortie','mois_sortie','time_signature'],axis=1,inplace=True)"
   ]
  },
  {
   "cell_type": "code",
   "execution_count": 16,
   "metadata": {},
   "outputs": [
    {
     "data": {
      "text/html": [
       "<div>\n",
       "<style scoped>\n",
       "    .dataframe tbody tr th:only-of-type {\n",
       "        vertical-align: middle;\n",
       "    }\n",
       "\n",
       "    .dataframe tbody tr th {\n",
       "        vertical-align: top;\n",
       "    }\n",
       "\n",
       "    .dataframe thead th {\n",
       "        text-align: right;\n",
       "    }\n",
       "</style>\n",
       "<table border=\"1\" class=\"dataframe\">\n",
       "  <thead>\n",
       "    <tr style=\"text-align: right;\">\n",
       "      <th></th>\n",
       "      <th>pop_artiste</th>\n",
       "      <th>tot_followers</th>\n",
       "      <th>marché_disp</th>\n",
       "      <th>pop_chanson</th>\n",
       "      <th>acoustique</th>\n",
       "      <th>dansabilité</th>\n",
       "      <th>durée</th>\n",
       "      <th>energie</th>\n",
       "      <th>instrumentalité</th>\n",
       "      <th>vivacité</th>\n",
       "      <th>intensité</th>\n",
       "      <th>eloquence</th>\n",
       "      <th>tempo</th>\n",
       "      <th>time_signature</th>\n",
       "      <th>valence</th>\n",
       "      <th>hit</th>\n",
       "      <th>featuring</th>\n",
       "      <th>mois_sortie</th>\n",
       "      <th>jour_sortie</th>\n",
       "      <th>jour_sem_sortie</th>\n",
       "    </tr>\n",
       "  </thead>\n",
       "  <tbody>\n",
       "    <tr>\n",
       "      <th>pop_artiste</th>\n",
       "      <td>1.000000</td>\n",
       "      <td>0.471912</td>\n",
       "      <td>-0.007970</td>\n",
       "      <td>0.303244</td>\n",
       "      <td>-0.112337</td>\n",
       "      <td>0.167648</td>\n",
       "      <td>0.003173</td>\n",
       "      <td>0.065691</td>\n",
       "      <td>-0.180871</td>\n",
       "      <td>-0.031044</td>\n",
       "      <td>0.167329</td>\n",
       "      <td>0.099747</td>\n",
       "      <td>0.044434</td>\n",
       "      <td>0.074095</td>\n",
       "      <td>0.001326</td>\n",
       "      <td>0.100202</td>\n",
       "      <td>0.094110</td>\n",
       "      <td>0.065474</td>\n",
       "      <td>0.057218</td>\n",
       "      <td>0.069008</td>\n",
       "    </tr>\n",
       "    <tr>\n",
       "      <th>tot_followers</th>\n",
       "      <td>0.471912</td>\n",
       "      <td>1.000000</td>\n",
       "      <td>-0.035460</td>\n",
       "      <td>0.225527</td>\n",
       "      <td>-0.060578</td>\n",
       "      <td>0.103486</td>\n",
       "      <td>0.021223</td>\n",
       "      <td>0.027303</td>\n",
       "      <td>-0.129870</td>\n",
       "      <td>0.002913</td>\n",
       "      <td>0.105655</td>\n",
       "      <td>0.078609</td>\n",
       "      <td>0.013359</td>\n",
       "      <td>0.049638</td>\n",
       "      <td>-0.009974</td>\n",
       "      <td>0.176870</td>\n",
       "      <td>0.012169</td>\n",
       "      <td>0.028825</td>\n",
       "      <td>0.030165</td>\n",
       "      <td>0.062670</td>\n",
       "    </tr>\n",
       "    <tr>\n",
       "      <th>marché_disp</th>\n",
       "      <td>-0.007970</td>\n",
       "      <td>-0.035460</td>\n",
       "      <td>1.000000</td>\n",
       "      <td>0.296946</td>\n",
       "      <td>0.072134</td>\n",
       "      <td>0.064373</td>\n",
       "      <td>-0.045037</td>\n",
       "      <td>-0.100037</td>\n",
       "      <td>0.043718</td>\n",
       "      <td>-0.010908</td>\n",
       "      <td>-0.085212</td>\n",
       "      <td>0.076791</td>\n",
       "      <td>-0.022189</td>\n",
       "      <td>-0.022989</td>\n",
       "      <td>-0.013525</td>\n",
       "      <td>-0.055483</td>\n",
       "      <td>0.061697</td>\n",
       "      <td>0.152974</td>\n",
       "      <td>0.148162</td>\n",
       "      <td>0.059540</td>\n",
       "    </tr>\n",
       "    <tr>\n",
       "      <th>pop_chanson</th>\n",
       "      <td>0.303244</td>\n",
       "      <td>0.225527</td>\n",
       "      <td>0.296946</td>\n",
       "      <td>1.000000</td>\n",
       "      <td>0.034527</td>\n",
       "      <td>0.160340</td>\n",
       "      <td>-0.117822</td>\n",
       "      <td>-0.093330</td>\n",
       "      <td>-0.057530</td>\n",
       "      <td>-0.059950</td>\n",
       "      <td>-0.000687</td>\n",
       "      <td>0.058368</td>\n",
       "      <td>-0.028977</td>\n",
       "      <td>0.007378</td>\n",
       "      <td>-0.019740</td>\n",
       "      <td>0.213542</td>\n",
       "      <td>0.084356</td>\n",
       "      <td>0.148465</td>\n",
       "      <td>0.125895</td>\n",
       "      <td>0.206069</td>\n",
       "    </tr>\n",
       "    <tr>\n",
       "      <th>acoustique</th>\n",
       "      <td>-0.112337</td>\n",
       "      <td>-0.060578</td>\n",
       "      <td>0.072134</td>\n",
       "      <td>0.034527</td>\n",
       "      <td>1.000000</td>\n",
       "      <td>-0.198839</td>\n",
       "      <td>-0.034941</td>\n",
       "      <td>-0.685474</td>\n",
       "      <td>0.300345</td>\n",
       "      <td>-0.108809</td>\n",
       "      <td>-0.565409</td>\n",
       "      <td>-0.076829</td>\n",
       "      <td>-0.172492</td>\n",
       "      <td>-0.160715</td>\n",
       "      <td>-0.200237</td>\n",
       "      <td>-0.083301</td>\n",
       "      <td>-0.086256</td>\n",
       "      <td>0.025621</td>\n",
       "      <td>0.016844</td>\n",
       "      <td>0.006574</td>\n",
       "    </tr>\n",
       "    <tr>\n",
       "      <th>dansabilité</th>\n",
       "      <td>0.167648</td>\n",
       "      <td>0.103486</td>\n",
       "      <td>0.064373</td>\n",
       "      <td>0.160340</td>\n",
       "      <td>-0.198839</td>\n",
       "      <td>1.000000</td>\n",
       "      <td>-0.156642</td>\n",
       "      <td>0.136154</td>\n",
       "      <td>-0.365995</td>\n",
       "      <td>-0.115685</td>\n",
       "      <td>0.365975</td>\n",
       "      <td>0.221945</td>\n",
       "      <td>0.011226</td>\n",
       "      <td>0.225175</td>\n",
       "      <td>0.456078</td>\n",
       "      <td>0.089727</td>\n",
       "      <td>0.143945</td>\n",
       "      <td>0.041837</td>\n",
       "      <td>0.061236</td>\n",
       "      <td>0.076019</td>\n",
       "    </tr>\n",
       "    <tr>\n",
       "      <th>durée</th>\n",
       "      <td>0.003173</td>\n",
       "      <td>0.021223</td>\n",
       "      <td>-0.045037</td>\n",
       "      <td>-0.117822</td>\n",
       "      <td>-0.034941</td>\n",
       "      <td>-0.156642</td>\n",
       "      <td>1.000000</td>\n",
       "      <td>0.022156</td>\n",
       "      <td>0.032031</td>\n",
       "      <td>0.033742</td>\n",
       "      <td>-0.017676</td>\n",
       "      <td>-0.044298</td>\n",
       "      <td>-0.018763</td>\n",
       "      <td>-0.016009</td>\n",
       "      <td>-0.149138</td>\n",
       "      <td>-0.004841</td>\n",
       "      <td>0.004279</td>\n",
       "      <td>-0.046287</td>\n",
       "      <td>-0.005534</td>\n",
       "      <td>-0.040741</td>\n",
       "    </tr>\n",
       "    <tr>\n",
       "      <th>energie</th>\n",
       "      <td>0.065691</td>\n",
       "      <td>0.027303</td>\n",
       "      <td>-0.100037</td>\n",
       "      <td>-0.093330</td>\n",
       "      <td>-0.685474</td>\n",
       "      <td>0.136154</td>\n",
       "      <td>0.022156</td>\n",
       "      <td>1.000000</td>\n",
       "      <td>-0.318399</td>\n",
       "      <td>0.189026</td>\n",
       "      <td>0.706722</td>\n",
       "      <td>0.075412</td>\n",
       "      <td>0.218443</td>\n",
       "      <td>0.194267</td>\n",
       "      <td>0.375619</td>\n",
       "      <td>0.048462</td>\n",
       "      <td>0.049591</td>\n",
       "      <td>-0.050171</td>\n",
       "      <td>-0.041159</td>\n",
       "      <td>-0.035988</td>\n",
       "    </tr>\n",
       "    <tr>\n",
       "      <th>instrumentalité</th>\n",
       "      <td>-0.180871</td>\n",
       "      <td>-0.129870</td>\n",
       "      <td>0.043718</td>\n",
       "      <td>-0.057530</td>\n",
       "      <td>0.300345</td>\n",
       "      <td>-0.365995</td>\n",
       "      <td>0.032031</td>\n",
       "      <td>-0.318399</td>\n",
       "      <td>1.000000</td>\n",
       "      <td>0.034205</td>\n",
       "      <td>-0.629096</td>\n",
       "      <td>-0.134181</td>\n",
       "      <td>-0.152351</td>\n",
       "      <td>-0.170805</td>\n",
       "      <td>-0.290987</td>\n",
       "      <td>-0.053647</td>\n",
       "      <td>-0.090761</td>\n",
       "      <td>-0.004584</td>\n",
       "      <td>-0.008887</td>\n",
       "      <td>-0.041831</td>\n",
       "    </tr>\n",
       "    <tr>\n",
       "      <th>vivacité</th>\n",
       "      <td>-0.031044</td>\n",
       "      <td>0.002913</td>\n",
       "      <td>-0.010908</td>\n",
       "      <td>-0.059950</td>\n",
       "      <td>-0.108809</td>\n",
       "      <td>-0.115685</td>\n",
       "      <td>0.033742</td>\n",
       "      <td>0.189026</td>\n",
       "      <td>0.034205</td>\n",
       "      <td>1.000000</td>\n",
       "      <td>0.034256</td>\n",
       "      <td>0.114144</td>\n",
       "      <td>-0.007540</td>\n",
       "      <td>-0.023718</td>\n",
       "      <td>-0.007714</td>\n",
       "      <td>-0.027537</td>\n",
       "      <td>0.008407</td>\n",
       "      <td>-0.027233</td>\n",
       "      <td>-0.021936</td>\n",
       "      <td>-0.026783</td>\n",
       "    </tr>\n",
       "    <tr>\n",
       "      <th>intensité</th>\n",
       "      <td>0.167329</td>\n",
       "      <td>0.105655</td>\n",
       "      <td>-0.085212</td>\n",
       "      <td>-0.000687</td>\n",
       "      <td>-0.565409</td>\n",
       "      <td>0.365975</td>\n",
       "      <td>-0.017676</td>\n",
       "      <td>0.706722</td>\n",
       "      <td>-0.629096</td>\n",
       "      <td>0.034256</td>\n",
       "      <td>1.000000</td>\n",
       "      <td>0.048962</td>\n",
       "      <td>0.237162</td>\n",
       "      <td>0.233594</td>\n",
       "      <td>0.389194</td>\n",
       "      <td>0.076067</td>\n",
       "      <td>0.080581</td>\n",
       "      <td>-0.027352</td>\n",
       "      <td>-0.000828</td>\n",
       "      <td>0.014750</td>\n",
       "    </tr>\n",
       "    <tr>\n",
       "      <th>eloquence</th>\n",
       "      <td>0.099747</td>\n",
       "      <td>0.078609</td>\n",
       "      <td>0.076791</td>\n",
       "      <td>0.058368</td>\n",
       "      <td>-0.076829</td>\n",
       "      <td>0.221945</td>\n",
       "      <td>-0.044298</td>\n",
       "      <td>0.075412</td>\n",
       "      <td>-0.134181</td>\n",
       "      <td>0.114144</td>\n",
       "      <td>0.048962</td>\n",
       "      <td>1.000000</td>\n",
       "      <td>0.070312</td>\n",
       "      <td>0.077623</td>\n",
       "      <td>0.057237</td>\n",
       "      <td>-0.001674</td>\n",
       "      <td>0.144762</td>\n",
       "      <td>0.073078</td>\n",
       "      <td>0.051196</td>\n",
       "      <td>0.044845</td>\n",
       "    </tr>\n",
       "    <tr>\n",
       "      <th>tempo</th>\n",
       "      <td>0.044434</td>\n",
       "      <td>0.013359</td>\n",
       "      <td>-0.022189</td>\n",
       "      <td>-0.028977</td>\n",
       "      <td>-0.172492</td>\n",
       "      <td>0.011226</td>\n",
       "      <td>-0.018763</td>\n",
       "      <td>0.218443</td>\n",
       "      <td>-0.152351</td>\n",
       "      <td>-0.007540</td>\n",
       "      <td>0.237162</td>\n",
       "      <td>0.070312</td>\n",
       "      <td>1.000000</td>\n",
       "      <td>0.116468</td>\n",
       "      <td>0.107159</td>\n",
       "      <td>0.011229</td>\n",
       "      <td>-0.005830</td>\n",
       "      <td>-0.011554</td>\n",
       "      <td>-0.000169</td>\n",
       "      <td>-0.000854</td>\n",
       "    </tr>\n",
       "    <tr>\n",
       "      <th>time_signature</th>\n",
       "      <td>0.074095</td>\n",
       "      <td>0.049638</td>\n",
       "      <td>-0.022989</td>\n",
       "      <td>0.007378</td>\n",
       "      <td>-0.160715</td>\n",
       "      <td>0.225175</td>\n",
       "      <td>-0.016009</td>\n",
       "      <td>0.194267</td>\n",
       "      <td>-0.170805</td>\n",
       "      <td>-0.023718</td>\n",
       "      <td>0.233594</td>\n",
       "      <td>0.077623</td>\n",
       "      <td>0.116468</td>\n",
       "      <td>1.000000</td>\n",
       "      <td>0.111822</td>\n",
       "      <td>0.042350</td>\n",
       "      <td>0.050104</td>\n",
       "      <td>-0.000343</td>\n",
       "      <td>0.012413</td>\n",
       "      <td>0.006987</td>\n",
       "    </tr>\n",
       "    <tr>\n",
       "      <th>valence</th>\n",
       "      <td>0.001326</td>\n",
       "      <td>-0.009974</td>\n",
       "      <td>-0.013525</td>\n",
       "      <td>-0.019740</td>\n",
       "      <td>-0.200237</td>\n",
       "      <td>0.456078</td>\n",
       "      <td>-0.149138</td>\n",
       "      <td>0.375619</td>\n",
       "      <td>-0.290987</td>\n",
       "      <td>-0.007714</td>\n",
       "      <td>0.389194</td>\n",
       "      <td>0.057237</td>\n",
       "      <td>0.107159</td>\n",
       "      <td>0.111822</td>\n",
       "      <td>1.000000</td>\n",
       "      <td>0.048334</td>\n",
       "      <td>0.018964</td>\n",
       "      <td>-0.040774</td>\n",
       "      <td>-0.022690</td>\n",
       "      <td>-0.002486</td>\n",
       "    </tr>\n",
       "    <tr>\n",
       "      <th>hit</th>\n",
       "      <td>0.100202</td>\n",
       "      <td>0.176870</td>\n",
       "      <td>-0.055483</td>\n",
       "      <td>0.213542</td>\n",
       "      <td>-0.083301</td>\n",
       "      <td>0.089727</td>\n",
       "      <td>-0.004841</td>\n",
       "      <td>0.048462</td>\n",
       "      <td>-0.053647</td>\n",
       "      <td>-0.027537</td>\n",
       "      <td>0.076067</td>\n",
       "      <td>-0.001674</td>\n",
       "      <td>0.011229</td>\n",
       "      <td>0.042350</td>\n",
       "      <td>0.048334</td>\n",
       "      <td>1.000000</td>\n",
       "      <td>0.049430</td>\n",
       "      <td>-0.029960</td>\n",
       "      <td>-0.004967</td>\n",
       "      <td>0.011468</td>\n",
       "    </tr>\n",
       "    <tr>\n",
       "      <th>featuring</th>\n",
       "      <td>0.094110</td>\n",
       "      <td>0.012169</td>\n",
       "      <td>0.061697</td>\n",
       "      <td>0.084356</td>\n",
       "      <td>-0.086256</td>\n",
       "      <td>0.143945</td>\n",
       "      <td>0.004279</td>\n",
       "      <td>0.049591</td>\n",
       "      <td>-0.090761</td>\n",
       "      <td>0.008407</td>\n",
       "      <td>0.080581</td>\n",
       "      <td>0.144762</td>\n",
       "      <td>-0.005830</td>\n",
       "      <td>0.050104</td>\n",
       "      <td>0.018964</td>\n",
       "      <td>0.049430</td>\n",
       "      <td>1.000000</td>\n",
       "      <td>0.067866</td>\n",
       "      <td>0.092860</td>\n",
       "      <td>0.011944</td>\n",
       "    </tr>\n",
       "    <tr>\n",
       "      <th>mois_sortie</th>\n",
       "      <td>0.065474</td>\n",
       "      <td>0.028825</td>\n",
       "      <td>0.152974</td>\n",
       "      <td>0.148465</td>\n",
       "      <td>0.025621</td>\n",
       "      <td>0.041837</td>\n",
       "      <td>-0.046287</td>\n",
       "      <td>-0.050171</td>\n",
       "      <td>-0.004584</td>\n",
       "      <td>-0.027233</td>\n",
       "      <td>-0.027352</td>\n",
       "      <td>0.073078</td>\n",
       "      <td>-0.011554</td>\n",
       "      <td>-0.000343</td>\n",
       "      <td>-0.040774</td>\n",
       "      <td>-0.029960</td>\n",
       "      <td>0.067866</td>\n",
       "      <td>1.000000</td>\n",
       "      <td>0.240440</td>\n",
       "      <td>-0.095287</td>\n",
       "    </tr>\n",
       "    <tr>\n",
       "      <th>jour_sortie</th>\n",
       "      <td>0.057218</td>\n",
       "      <td>0.030165</td>\n",
       "      <td>0.148162</td>\n",
       "      <td>0.125895</td>\n",
       "      <td>0.016844</td>\n",
       "      <td>0.061236</td>\n",
       "      <td>-0.005534</td>\n",
       "      <td>-0.041159</td>\n",
       "      <td>-0.008887</td>\n",
       "      <td>-0.021936</td>\n",
       "      <td>-0.000828</td>\n",
       "      <td>0.051196</td>\n",
       "      <td>-0.000169</td>\n",
       "      <td>0.012413</td>\n",
       "      <td>-0.022690</td>\n",
       "      <td>-0.004967</td>\n",
       "      <td>0.092860</td>\n",
       "      <td>0.240440</td>\n",
       "      <td>1.000000</td>\n",
       "      <td>-0.124588</td>\n",
       "    </tr>\n",
       "    <tr>\n",
       "      <th>jour_sem_sortie</th>\n",
       "      <td>0.069008</td>\n",
       "      <td>0.062670</td>\n",
       "      <td>0.059540</td>\n",
       "      <td>0.206069</td>\n",
       "      <td>0.006574</td>\n",
       "      <td>0.076019</td>\n",
       "      <td>-0.040741</td>\n",
       "      <td>-0.035988</td>\n",
       "      <td>-0.041831</td>\n",
       "      <td>-0.026783</td>\n",
       "      <td>0.014750</td>\n",
       "      <td>0.044845</td>\n",
       "      <td>-0.000854</td>\n",
       "      <td>0.006987</td>\n",
       "      <td>-0.002486</td>\n",
       "      <td>0.011468</td>\n",
       "      <td>0.011944</td>\n",
       "      <td>-0.095287</td>\n",
       "      <td>-0.124588</td>\n",
       "      <td>1.000000</td>\n",
       "    </tr>\n",
       "  </tbody>\n",
       "</table>\n",
       "</div>"
      ],
      "text/plain": [
       "                 pop_artiste  tot_followers  marché_disp  pop_chanson  \\\n",
       "pop_artiste         1.000000       0.471912    -0.007970     0.303244   \n",
       "tot_followers       0.471912       1.000000    -0.035460     0.225527   \n",
       "marché_disp        -0.007970      -0.035460     1.000000     0.296946   \n",
       "pop_chanson         0.303244       0.225527     0.296946     1.000000   \n",
       "acoustique         -0.112337      -0.060578     0.072134     0.034527   \n",
       "dansabilité         0.167648       0.103486     0.064373     0.160340   \n",
       "durée               0.003173       0.021223    -0.045037    -0.117822   \n",
       "energie             0.065691       0.027303    -0.100037    -0.093330   \n",
       "instrumentalité    -0.180871      -0.129870     0.043718    -0.057530   \n",
       "vivacité           -0.031044       0.002913    -0.010908    -0.059950   \n",
       "intensité           0.167329       0.105655    -0.085212    -0.000687   \n",
       "eloquence           0.099747       0.078609     0.076791     0.058368   \n",
       "tempo               0.044434       0.013359    -0.022189    -0.028977   \n",
       "time_signature      0.074095       0.049638    -0.022989     0.007378   \n",
       "valence             0.001326      -0.009974    -0.013525    -0.019740   \n",
       "hit                 0.100202       0.176870    -0.055483     0.213542   \n",
       "featuring           0.094110       0.012169     0.061697     0.084356   \n",
       "mois_sortie         0.065474       0.028825     0.152974     0.148465   \n",
       "jour_sortie         0.057218       0.030165     0.148162     0.125895   \n",
       "jour_sem_sortie     0.069008       0.062670     0.059540     0.206069   \n",
       "\n",
       "                 acoustique  dansabilité     durée   energie  instrumentalité  \\\n",
       "pop_artiste       -0.112337     0.167648  0.003173  0.065691        -0.180871   \n",
       "tot_followers     -0.060578     0.103486  0.021223  0.027303        -0.129870   \n",
       "marché_disp        0.072134     0.064373 -0.045037 -0.100037         0.043718   \n",
       "pop_chanson        0.034527     0.160340 -0.117822 -0.093330        -0.057530   \n",
       "acoustique         1.000000    -0.198839 -0.034941 -0.685474         0.300345   \n",
       "dansabilité       -0.198839     1.000000 -0.156642  0.136154        -0.365995   \n",
       "durée             -0.034941    -0.156642  1.000000  0.022156         0.032031   \n",
       "energie           -0.685474     0.136154  0.022156  1.000000        -0.318399   \n",
       "instrumentalité    0.300345    -0.365995  0.032031 -0.318399         1.000000   \n",
       "vivacité          -0.108809    -0.115685  0.033742  0.189026         0.034205   \n",
       "intensité         -0.565409     0.365975 -0.017676  0.706722        -0.629096   \n",
       "eloquence         -0.076829     0.221945 -0.044298  0.075412        -0.134181   \n",
       "tempo             -0.172492     0.011226 -0.018763  0.218443        -0.152351   \n",
       "time_signature    -0.160715     0.225175 -0.016009  0.194267        -0.170805   \n",
       "valence           -0.200237     0.456078 -0.149138  0.375619        -0.290987   \n",
       "hit               -0.083301     0.089727 -0.004841  0.048462        -0.053647   \n",
       "featuring         -0.086256     0.143945  0.004279  0.049591        -0.090761   \n",
       "mois_sortie        0.025621     0.041837 -0.046287 -0.050171        -0.004584   \n",
       "jour_sortie        0.016844     0.061236 -0.005534 -0.041159        -0.008887   \n",
       "jour_sem_sortie    0.006574     0.076019 -0.040741 -0.035988        -0.041831   \n",
       "\n",
       "                 vivacité  intensité  eloquence     tempo  time_signature  \\\n",
       "pop_artiste     -0.031044   0.167329   0.099747  0.044434        0.074095   \n",
       "tot_followers    0.002913   0.105655   0.078609  0.013359        0.049638   \n",
       "marché_disp     -0.010908  -0.085212   0.076791 -0.022189       -0.022989   \n",
       "pop_chanson     -0.059950  -0.000687   0.058368 -0.028977        0.007378   \n",
       "acoustique      -0.108809  -0.565409  -0.076829 -0.172492       -0.160715   \n",
       "dansabilité     -0.115685   0.365975   0.221945  0.011226        0.225175   \n",
       "durée            0.033742  -0.017676  -0.044298 -0.018763       -0.016009   \n",
       "energie          0.189026   0.706722   0.075412  0.218443        0.194267   \n",
       "instrumentalité  0.034205  -0.629096  -0.134181 -0.152351       -0.170805   \n",
       "vivacité         1.000000   0.034256   0.114144 -0.007540       -0.023718   \n",
       "intensité        0.034256   1.000000   0.048962  0.237162        0.233594   \n",
       "eloquence        0.114144   0.048962   1.000000  0.070312        0.077623   \n",
       "tempo           -0.007540   0.237162   0.070312  1.000000        0.116468   \n",
       "time_signature  -0.023718   0.233594   0.077623  0.116468        1.000000   \n",
       "valence         -0.007714   0.389194   0.057237  0.107159        0.111822   \n",
       "hit             -0.027537   0.076067  -0.001674  0.011229        0.042350   \n",
       "featuring        0.008407   0.080581   0.144762 -0.005830        0.050104   \n",
       "mois_sortie     -0.027233  -0.027352   0.073078 -0.011554       -0.000343   \n",
       "jour_sortie     -0.021936  -0.000828   0.051196 -0.000169        0.012413   \n",
       "jour_sem_sortie -0.026783   0.014750   0.044845 -0.000854        0.006987   \n",
       "\n",
       "                  valence       hit  featuring  mois_sortie  jour_sortie  \\\n",
       "pop_artiste      0.001326  0.100202   0.094110     0.065474     0.057218   \n",
       "tot_followers   -0.009974  0.176870   0.012169     0.028825     0.030165   \n",
       "marché_disp     -0.013525 -0.055483   0.061697     0.152974     0.148162   \n",
       "pop_chanson     -0.019740  0.213542   0.084356     0.148465     0.125895   \n",
       "acoustique      -0.200237 -0.083301  -0.086256     0.025621     0.016844   \n",
       "dansabilité      0.456078  0.089727   0.143945     0.041837     0.061236   \n",
       "durée           -0.149138 -0.004841   0.004279    -0.046287    -0.005534   \n",
       "energie          0.375619  0.048462   0.049591    -0.050171    -0.041159   \n",
       "instrumentalité -0.290987 -0.053647  -0.090761    -0.004584    -0.008887   \n",
       "vivacité        -0.007714 -0.027537   0.008407    -0.027233    -0.021936   \n",
       "intensité        0.389194  0.076067   0.080581    -0.027352    -0.000828   \n",
       "eloquence        0.057237 -0.001674   0.144762     0.073078     0.051196   \n",
       "tempo            0.107159  0.011229  -0.005830    -0.011554    -0.000169   \n",
       "time_signature   0.111822  0.042350   0.050104    -0.000343     0.012413   \n",
       "valence          1.000000  0.048334   0.018964    -0.040774    -0.022690   \n",
       "hit              0.048334  1.000000   0.049430    -0.029960    -0.004967   \n",
       "featuring        0.018964  0.049430   1.000000     0.067866     0.092860   \n",
       "mois_sortie     -0.040774 -0.029960   0.067866     1.000000     0.240440   \n",
       "jour_sortie     -0.022690 -0.004967   0.092860     0.240440     1.000000   \n",
       "jour_sem_sortie -0.002486  0.011468   0.011944    -0.095287    -0.124588   \n",
       "\n",
       "                 jour_sem_sortie  \n",
       "pop_artiste             0.069008  \n",
       "tot_followers           0.062670  \n",
       "marché_disp             0.059540  \n",
       "pop_chanson             0.206069  \n",
       "acoustique              0.006574  \n",
       "dansabilité             0.076019  \n",
       "durée                  -0.040741  \n",
       "energie                -0.035988  \n",
       "instrumentalité        -0.041831  \n",
       "vivacité               -0.026783  \n",
       "intensité               0.014750  \n",
       "eloquence               0.044845  \n",
       "tempo                  -0.000854  \n",
       "time_signature          0.006987  \n",
       "valence                -0.002486  \n",
       "hit                     0.011468  \n",
       "featuring               0.011944  \n",
       "mois_sortie            -0.095287  \n",
       "jour_sortie            -0.124588  \n",
       "jour_sem_sortie         1.000000  "
      ]
     },
     "execution_count": 16,
     "metadata": {},
     "output_type": "execute_result"
    }
   ],
   "source": [
    "# Vérification de la corrélation entre les variables\n",
    "df.corr()"
   ]
  },
  {
   "cell_type": "markdown",
   "metadata": {},
   "source": [
    "Le niveau de corrélation entre les variables quantitatives sont acceptables. Notre modèle pourra fonctionner très bien avec. Si on n'avait des niveaux dépassant les 0.9, on aurait eu besoin de supprimer des variables afin d'éviter la multicolinéarité."
   ]
  },
  {
   "cell_type": "code",
   "execution_count": 75,
   "metadata": {},
   "outputs": [],
   "source": [
    "from sklearn.preprocessing import MinMaxScaler\n",
    "scaler = MinMaxScaler()\n",
    "df[['acoustique', 'dansabilite', 'energie', 'instrumentalite', 'vivacite','intensite','eloquence', 'valence','tempo','pop_artiste','tot_followers','marche_disp','duree','pop_chanson']]=scaler.fit_transform(df[['acoustique', 'dansabilite', 'energie', 'instrumentalite', 'vivacite','intensite','eloquence', 'valence','tempo','pop_artiste','tot_followers','marche_disp','duree','pop_chanson']])"
   ]
  },
  {
   "cell_type": "code",
   "execution_count": 76,
   "metadata": {},
   "outputs": [],
   "source": [
    "X=df[['acoustique', 'dansabilite', 'energie', 'instrumentalite', 'vivacite','intensite','eloquence', 'valence','tempo','duree']]\n",
    "y=df['hit']"
   ]
  },
  {
   "cell_type": "code",
   "execution_count": 77,
   "metadata": {},
   "outputs": [],
   "source": [
    "# Oversampling the data\n",
    "from imblearn.over_sampling import SMOTE\n",
    "sm = SMOTE(random_state=42)\n",
    "X_res, y_res = sm.fit_resample(X, y)"
   ]
  },
  {
   "cell_type": "code",
   "execution_count": 78,
   "metadata": {},
   "outputs": [],
   "source": [
    "import pandas as pd\n",
    "import lightgbm as lgb\n",
    "import numpy as np\n",
    "from sklearn.model_selection import train_test_split\n",
    "from sklearn.metrics import auc, accuracy_score, roc_auc_score, roc_curve,mean_squared_error\n",
    "from sklearn.model_selection import GridSearchCV\n",
    "%matplotlib inline\n",
    "import matplotlib.pyplot as plt"
   ]
  },
  {
   "cell_type": "code",
   "execution_count": 79,
   "metadata": {},
   "outputs": [
    {
     "data": {
      "text/plain": [
       "(25592, 10)"
      ]
     },
     "execution_count": 79,
     "metadata": {},
     "output_type": "execute_result"
    }
   ],
   "source": [
    "X_train, X_test, y_train, y_test = train_test_split(X_res, y_res, test_size=0.30, random_state=20)\n",
    "X_train.shape"
   ]
  },
  {
   "cell_type": "code",
   "execution_count": 63,
   "metadata": {},
   "outputs": [
    {
     "name": "stdout",
     "output_type": "stream",
     "text": [
      "[1]\tvalid_0's binary_logloss: 0.666169\tvalid_0's auc: 0.800046\n",
      "Training until validation scores don't improve for 5 rounds\n",
      "[2]\tvalid_0's binary_logloss: 0.643255\tvalid_0's auc: 0.818274\n",
      "[3]\tvalid_0's binary_logloss: 0.623151\tvalid_0's auc: 0.831554\n",
      "[4]\tvalid_0's binary_logloss: 0.605634\tvalid_0's auc: 0.839409\n",
      "[5]\tvalid_0's binary_logloss: 0.589881\tvalid_0's auc: 0.844182\n",
      "[6]\tvalid_0's binary_logloss: 0.575743\tvalid_0's auc: 0.848428\n",
      "[7]\tvalid_0's binary_logloss: 0.563634\tvalid_0's auc: 0.851527\n",
      "[8]\tvalid_0's binary_logloss: 0.551953\tvalid_0's auc: 0.856464\n",
      "[9]\tvalid_0's binary_logloss: 0.541789\tvalid_0's auc: 0.859078\n",
      "[10]\tvalid_0's binary_logloss: 0.532416\tvalid_0's auc: 0.862083\n",
      "[11]\tvalid_0's binary_logloss: 0.524143\tvalid_0's auc: 0.864494\n",
      "[12]\tvalid_0's binary_logloss: 0.515829\tvalid_0's auc: 0.867025\n",
      "[13]\tvalid_0's binary_logloss: 0.508639\tvalid_0's auc: 0.868795\n",
      "[14]\tvalid_0's binary_logloss: 0.501731\tvalid_0's auc: 0.870805\n",
      "[15]\tvalid_0's binary_logloss: 0.495556\tvalid_0's auc: 0.872414\n",
      "[16]\tvalid_0's binary_logloss: 0.489712\tvalid_0's auc: 0.87424\n",
      "[17]\tvalid_0's binary_logloss: 0.483234\tvalid_0's auc: 0.876675\n",
      "[18]\tvalid_0's binary_logloss: 0.477949\tvalid_0's auc: 0.878731\n",
      "[19]\tvalid_0's binary_logloss: 0.472716\tvalid_0's auc: 0.88118\n",
      "[20]\tvalid_0's binary_logloss: 0.468265\tvalid_0's auc: 0.882211\n",
      "[21]\tvalid_0's binary_logloss: 0.463755\tvalid_0's auc: 0.884002\n",
      "[22]\tvalid_0's binary_logloss: 0.459741\tvalid_0's auc: 0.885457\n",
      "[23]\tvalid_0's binary_logloss: 0.455779\tvalid_0's auc: 0.886846\n",
      "[24]\tvalid_0's binary_logloss: 0.451789\tvalid_0's auc: 0.888792\n",
      "[25]\tvalid_0's binary_logloss: 0.448005\tvalid_0's auc: 0.890201\n",
      "[26]\tvalid_0's binary_logloss: 0.444417\tvalid_0's auc: 0.891248\n",
      "[27]\tvalid_0's binary_logloss: 0.441086\tvalid_0's auc: 0.892443\n",
      "[28]\tvalid_0's binary_logloss: 0.437321\tvalid_0's auc: 0.89447\n",
      "[29]\tvalid_0's binary_logloss: 0.433836\tvalid_0's auc: 0.895836\n",
      "[30]\tvalid_0's binary_logloss: 0.430926\tvalid_0's auc: 0.896971\n",
      "[31]\tvalid_0's binary_logloss: 0.428142\tvalid_0's auc: 0.898106\n",
      "[32]\tvalid_0's binary_logloss: 0.425607\tvalid_0's auc: 0.899113\n",
      "[33]\tvalid_0's binary_logloss: 0.422115\tvalid_0's auc: 0.90062\n",
      "[34]\tvalid_0's binary_logloss: 0.419111\tvalid_0's auc: 0.90187\n",
      "[35]\tvalid_0's binary_logloss: 0.416909\tvalid_0's auc: 0.902548\n",
      "[36]\tvalid_0's binary_logloss: 0.414306\tvalid_0's auc: 0.903485\n",
      "[37]\tvalid_0's binary_logloss: 0.411915\tvalid_0's auc: 0.904437\n",
      "[38]\tvalid_0's binary_logloss: 0.408915\tvalid_0's auc: 0.905904\n",
      "[39]\tvalid_0's binary_logloss: 0.406926\tvalid_0's auc: 0.906656\n",
      "[40]\tvalid_0's binary_logloss: 0.404683\tvalid_0's auc: 0.907488\n",
      "[41]\tvalid_0's binary_logloss: 0.402768\tvalid_0's auc: 0.908413\n",
      "[42]\tvalid_0's binary_logloss: 0.400412\tvalid_0's auc: 0.909545\n",
      "[43]\tvalid_0's binary_logloss: 0.398497\tvalid_0's auc: 0.910395\n",
      "[44]\tvalid_0's binary_logloss: 0.395936\tvalid_0's auc: 0.911521\n",
      "[45]\tvalid_0's binary_logloss: 0.394055\tvalid_0's auc: 0.912159\n",
      "[46]\tvalid_0's binary_logloss: 0.392252\tvalid_0's auc: 0.91288\n",
      "[47]\tvalid_0's binary_logloss: 0.390435\tvalid_0's auc: 0.913518\n",
      "[48]\tvalid_0's binary_logloss: 0.388693\tvalid_0's auc: 0.914279\n",
      "[49]\tvalid_0's binary_logloss: 0.387219\tvalid_0's auc: 0.914917\n",
      "[50]\tvalid_0's binary_logloss: 0.38511\tvalid_0's auc: 0.915872\n",
      "[51]\tvalid_0's binary_logloss: 0.383605\tvalid_0's auc: 0.916455\n",
      "[52]\tvalid_0's binary_logloss: 0.381624\tvalid_0's auc: 0.917451\n",
      "[53]\tvalid_0's binary_logloss: 0.380118\tvalid_0's auc: 0.917942\n",
      "[54]\tvalid_0's binary_logloss: 0.378483\tvalid_0's auc: 0.918708\n",
      "[55]\tvalid_0's binary_logloss: 0.376879\tvalid_0's auc: 0.91943\n",
      "[56]\tvalid_0's binary_logloss: 0.375637\tvalid_0's auc: 0.919949\n",
      "[57]\tvalid_0's binary_logloss: 0.37401\tvalid_0's auc: 0.920668\n",
      "[58]\tvalid_0's binary_logloss: 0.37281\tvalid_0's auc: 0.921214\n",
      "[59]\tvalid_0's binary_logloss: 0.370766\tvalid_0's auc: 0.922314\n",
      "[60]\tvalid_0's binary_logloss: 0.369512\tvalid_0's auc: 0.92285\n",
      "[61]\tvalid_0's binary_logloss: 0.368208\tvalid_0's auc: 0.923335\n",
      "[62]\tvalid_0's binary_logloss: 0.367026\tvalid_0's auc: 0.923863\n",
      "[63]\tvalid_0's binary_logloss: 0.362746\tvalid_0's auc: 0.926209\n",
      "[64]\tvalid_0's binary_logloss: 0.3615\tvalid_0's auc: 0.926705\n",
      "[65]\tvalid_0's binary_logloss: 0.360259\tvalid_0's auc: 0.927264\n",
      "[66]\tvalid_0's binary_logloss: 0.358908\tvalid_0's auc: 0.927789\n",
      "[67]\tvalid_0's binary_logloss: 0.357669\tvalid_0's auc: 0.928369\n",
      "[68]\tvalid_0's binary_logloss: 0.356502\tvalid_0's auc: 0.928794\n",
      "[69]\tvalid_0's binary_logloss: 0.355156\tvalid_0's auc: 0.929295\n",
      "[70]\tvalid_0's binary_logloss: 0.354035\tvalid_0's auc: 0.929754\n",
      "[71]\tvalid_0's binary_logloss: 0.350529\tvalid_0's auc: 0.931542\n",
      "[72]\tvalid_0's binary_logloss: 0.349465\tvalid_0's auc: 0.931922\n",
      "[73]\tvalid_0's binary_logloss: 0.348508\tvalid_0's auc: 0.932261\n",
      "[74]\tvalid_0's binary_logloss: 0.347363\tvalid_0's auc: 0.932819\n",
      "[75]\tvalid_0's binary_logloss: 0.34625\tvalid_0's auc: 0.93329\n",
      "[76]\tvalid_0's binary_logloss: 0.345048\tvalid_0's auc: 0.933821\n",
      "[77]\tvalid_0's binary_logloss: 0.344101\tvalid_0's auc: 0.934198\n",
      "[78]\tvalid_0's binary_logloss: 0.342917\tvalid_0's auc: 0.934631\n",
      "[79]\tvalid_0's binary_logloss: 0.341498\tvalid_0's auc: 0.935208\n",
      "[80]\tvalid_0's binary_logloss: 0.340146\tvalid_0's auc: 0.935886\n",
      "[81]\tvalid_0's binary_logloss: 0.339247\tvalid_0's auc: 0.936242\n",
      "[82]\tvalid_0's binary_logloss: 0.338226\tvalid_0's auc: 0.936564\n",
      "[83]\tvalid_0's binary_logloss: 0.337457\tvalid_0's auc: 0.936861\n",
      "[84]\tvalid_0's binary_logloss: 0.336683\tvalid_0's auc: 0.93723\n",
      "[85]\tvalid_0's binary_logloss: 0.335168\tvalid_0's auc: 0.93795\n",
      "[86]\tvalid_0's binary_logloss: 0.334373\tvalid_0's auc: 0.93821\n",
      "[87]\tvalid_0's binary_logloss: 0.33376\tvalid_0's auc: 0.93843\n",
      "[88]\tvalid_0's binary_logloss: 0.332666\tvalid_0's auc: 0.938821\n",
      "[89]\tvalid_0's binary_logloss: 0.331445\tvalid_0's auc: 0.93934\n",
      "[90]\tvalid_0's binary_logloss: 0.330336\tvalid_0's auc: 0.939819\n",
      "Did not meet early stopping. Best iteration is:\n",
      "[90]\tvalid_0's binary_logloss: 0.330336\tvalid_0's auc: 0.939819\n",
      "[1]\tvalid_0's binary_logloss: 0.66636\tvalid_0's auc: 0.797719\n",
      "Training until validation scores don't improve for 5 rounds\n",
      "[2]\tvalid_0's binary_logloss: 0.643948\tvalid_0's auc: 0.814103\n",
      "[3]\tvalid_0's binary_logloss: 0.623191\tvalid_0's auc: 0.832922\n",
      "[4]\tvalid_0's binary_logloss: 0.606228\tvalid_0's auc: 0.8352\n",
      "[5]\tvalid_0's binary_logloss: 0.591043\tvalid_0's auc: 0.840322\n",
      "[6]\tvalid_0's binary_logloss: 0.577071\tvalid_0's auc: 0.846726\n",
      "[7]\tvalid_0's binary_logloss: 0.564283\tvalid_0's auc: 0.850897\n",
      "[8]\tvalid_0's binary_logloss: 0.552491\tvalid_0's auc: 0.85502\n",
      "[9]\tvalid_0's binary_logloss: 0.541813\tvalid_0's auc: 0.858285\n",
      "[10]\tvalid_0's binary_logloss: 0.532482\tvalid_0's auc: 0.860897\n",
      "[11]\tvalid_0's binary_logloss: 0.524611\tvalid_0's auc: 0.863159\n",
      "[12]\tvalid_0's binary_logloss: 0.516601\tvalid_0's auc: 0.865725\n",
      "[13]\tvalid_0's binary_logloss: 0.508986\tvalid_0's auc: 0.86806\n",
      "[14]\tvalid_0's binary_logloss: 0.501629\tvalid_0's auc: 0.870635\n",
      "[15]\tvalid_0's binary_logloss: 0.49561\tvalid_0's auc: 0.872643\n",
      "[16]\tvalid_0's binary_logloss: 0.489645\tvalid_0's auc: 0.874628\n",
      "[17]\tvalid_0's binary_logloss: 0.484289\tvalid_0's auc: 0.87605\n",
      "[18]\tvalid_0's binary_logloss: 0.479529\tvalid_0's auc: 0.877575\n",
      "[19]\tvalid_0's binary_logloss: 0.474449\tvalid_0's auc: 0.879386\n",
      "[20]\tvalid_0's binary_logloss: 0.46964\tvalid_0's auc: 0.881158\n",
      "[21]\tvalid_0's binary_logloss: 0.465252\tvalid_0's auc: 0.882825\n",
      "[22]\tvalid_0's binary_logloss: 0.46088\tvalid_0's auc: 0.884296\n",
      "[23]\tvalid_0's binary_logloss: 0.455576\tvalid_0's auc: 0.887015\n",
      "[24]\tvalid_0's binary_logloss: 0.452039\tvalid_0's auc: 0.888063\n",
      "[25]\tvalid_0's binary_logloss: 0.448562\tvalid_0's auc: 0.888999\n",
      "[26]\tvalid_0's binary_logloss: 0.442258\tvalid_0's auc: 0.893135\n",
      "[27]\tvalid_0's binary_logloss: 0.438635\tvalid_0's auc: 0.894223\n",
      "[28]\tvalid_0's binary_logloss: 0.435571\tvalid_0's auc: 0.895361\n",
      "[29]\tvalid_0's binary_logloss: 0.432371\tvalid_0's auc: 0.896615\n",
      "[30]\tvalid_0's binary_logloss: 0.429238\tvalid_0's auc: 0.897659\n",
      "[31]\tvalid_0's binary_logloss: 0.425984\tvalid_0's auc: 0.898805\n",
      "[32]\tvalid_0's binary_logloss: 0.423094\tvalid_0's auc: 0.900073\n",
      "[33]\tvalid_0's binary_logloss: 0.42014\tvalid_0's auc: 0.901397\n",
      "[34]\tvalid_0's binary_logloss: 0.417599\tvalid_0's auc: 0.90226\n",
      "[35]\tvalid_0's binary_logloss: 0.415012\tvalid_0's auc: 0.903252\n",
      "[36]\tvalid_0's binary_logloss: 0.412817\tvalid_0's auc: 0.904021\n",
      "[37]\tvalid_0's binary_logloss: 0.410113\tvalid_0's auc: 0.905152\n",
      "[38]\tvalid_0's binary_logloss: 0.407562\tvalid_0's auc: 0.90626\n",
      "[39]\tvalid_0's binary_logloss: 0.405134\tvalid_0's auc: 0.907316\n",
      "[40]\tvalid_0's binary_logloss: 0.402307\tvalid_0's auc: 0.908567\n",
      "[41]\tvalid_0's binary_logloss: 0.400329\tvalid_0's auc: 0.909407\n",
      "[42]\tvalid_0's binary_logloss: 0.398689\tvalid_0's auc: 0.910068\n",
      "[43]\tvalid_0's binary_logloss: 0.397161\tvalid_0's auc: 0.910776\n",
      "[44]\tvalid_0's binary_logloss: 0.394919\tvalid_0's auc: 0.911703\n",
      "[45]\tvalid_0's binary_logloss: 0.393117\tvalid_0's auc: 0.912357\n",
      "[46]\tvalid_0's binary_logloss: 0.391525\tvalid_0's auc: 0.91295\n",
      "[47]\tvalid_0's binary_logloss: 0.388318\tvalid_0's auc: 0.91476\n",
      "[48]\tvalid_0's binary_logloss: 0.386619\tvalid_0's auc: 0.915534\n",
      "[49]\tvalid_0's binary_logloss: 0.384644\tvalid_0's auc: 0.916418\n",
      "[50]\tvalid_0's binary_logloss: 0.382919\tvalid_0's auc: 0.917044\n",
      "[51]\tvalid_0's binary_logloss: 0.381177\tvalid_0's auc: 0.917778\n",
      "[52]\tvalid_0's binary_logloss: 0.380007\tvalid_0's auc: 0.918181\n",
      "[53]\tvalid_0's binary_logloss: 0.377455\tvalid_0's auc: 0.919537\n",
      "[54]\tvalid_0's binary_logloss: 0.375908\tvalid_0's auc: 0.920214\n",
      "[55]\tvalid_0's binary_logloss: 0.374613\tvalid_0's auc: 0.920694\n"
     ]
    },
    {
     "name": "stdout",
     "output_type": "stream",
     "text": [
      "[56]\tvalid_0's binary_logloss: 0.373209\tvalid_0's auc: 0.921367\n",
      "[57]\tvalid_0's binary_logloss: 0.371768\tvalid_0's auc: 0.921946\n",
      "[58]\tvalid_0's binary_logloss: 0.370495\tvalid_0's auc: 0.922622\n",
      "[59]\tvalid_0's binary_logloss: 0.368989\tvalid_0's auc: 0.923277\n",
      "[60]\tvalid_0's binary_logloss: 0.367515\tvalid_0's auc: 0.923902\n",
      "[61]\tvalid_0's binary_logloss: 0.36598\tvalid_0's auc: 0.924467\n",
      "[62]\tvalid_0's binary_logloss: 0.364446\tvalid_0's auc: 0.925019\n",
      "[63]\tvalid_0's binary_logloss: 0.362959\tvalid_0's auc: 0.925692\n",
      "[64]\tvalid_0's binary_logloss: 0.361647\tvalid_0's auc: 0.926319\n",
      "[65]\tvalid_0's binary_logloss: 0.359975\tvalid_0's auc: 0.927115\n",
      "[66]\tvalid_0's binary_logloss: 0.358687\tvalid_0's auc: 0.927637\n",
      "[67]\tvalid_0's binary_logloss: 0.357967\tvalid_0's auc: 0.927838\n",
      "[68]\tvalid_0's binary_logloss: 0.35659\tvalid_0's auc: 0.928513\n",
      "[69]\tvalid_0's binary_logloss: 0.355584\tvalid_0's auc: 0.928909\n",
      "[70]\tvalid_0's binary_logloss: 0.35425\tvalid_0's auc: 0.929474\n",
      "[71]\tvalid_0's binary_logloss: 0.352886\tvalid_0's auc: 0.930132\n",
      "[72]\tvalid_0's binary_logloss: 0.351639\tvalid_0's auc: 0.93073\n",
      "[73]\tvalid_0's binary_logloss: 0.350795\tvalid_0's auc: 0.931098\n",
      "[74]\tvalid_0's binary_logloss: 0.349788\tvalid_0's auc: 0.931529\n",
      "[75]\tvalid_0's binary_logloss: 0.345723\tvalid_0's auc: 0.93358\n",
      "[76]\tvalid_0's binary_logloss: 0.344497\tvalid_0's auc: 0.93413\n",
      "[77]\tvalid_0's binary_logloss: 0.34327\tvalid_0's auc: 0.934612\n",
      "[78]\tvalid_0's binary_logloss: 0.34237\tvalid_0's auc: 0.934867\n",
      "[79]\tvalid_0's binary_logloss: 0.339036\tvalid_0's auc: 0.936408\n",
      "[80]\tvalid_0's binary_logloss: 0.337824\tvalid_0's auc: 0.936951\n",
      "[81]\tvalid_0's binary_logloss: 0.336994\tvalid_0's auc: 0.937257\n",
      "[82]\tvalid_0's binary_logloss: 0.335915\tvalid_0's auc: 0.937771\n",
      "[83]\tvalid_0's binary_logloss: 0.334946\tvalid_0's auc: 0.938184\n",
      "[84]\tvalid_0's binary_logloss: 0.333908\tvalid_0's auc: 0.938549\n",
      "[85]\tvalid_0's binary_logloss: 0.333183\tvalid_0's auc: 0.938875\n",
      "[86]\tvalid_0's binary_logloss: 0.332191\tvalid_0's auc: 0.939247\n",
      "[87]\tvalid_0's binary_logloss: 0.331477\tvalid_0's auc: 0.93951\n",
      "[88]\tvalid_0's binary_logloss: 0.330182\tvalid_0's auc: 0.940146\n",
      "[89]\tvalid_0's binary_logloss: 0.32886\tvalid_0's auc: 0.940687\n",
      "[90]\tvalid_0's binary_logloss: 0.327976\tvalid_0's auc: 0.941079\n",
      "Did not meet early stopping. Best iteration is:\n",
      "[90]\tvalid_0's binary_logloss: 0.327976\tvalid_0's auc: 0.941079\n",
      "[1]\tvalid_0's binary_logloss: 0.665868\tvalid_0's auc: 0.801827\n",
      "Training until validation scores don't improve for 5 rounds\n",
      "[2]\tvalid_0's binary_logloss: 0.642989\tvalid_0's auc: 0.82188\n",
      "[3]\tvalid_0's binary_logloss: 0.623782\tvalid_0's auc: 0.826146\n",
      "[4]\tvalid_0's binary_logloss: 0.605872\tvalid_0's auc: 0.836845\n",
      "[5]\tvalid_0's binary_logloss: 0.59066\tvalid_0's auc: 0.842147\n",
      "[6]\tvalid_0's binary_logloss: 0.57686\tvalid_0's auc: 0.848337\n",
      "[7]\tvalid_0's binary_logloss: 0.564218\tvalid_0's auc: 0.851984\n",
      "[8]\tvalid_0's binary_logloss: 0.552588\tvalid_0's auc: 0.855731\n",
      "[9]\tvalid_0's binary_logloss: 0.542875\tvalid_0's auc: 0.857484\n",
      "[10]\tvalid_0's binary_logloss: 0.53339\tvalid_0's auc: 0.860387\n",
      "[11]\tvalid_0's binary_logloss: 0.52403\tvalid_0's auc: 0.863823\n",
      "[12]\tvalid_0's binary_logloss: 0.516537\tvalid_0's auc: 0.866446\n",
      "[13]\tvalid_0's binary_logloss: 0.509574\tvalid_0's auc: 0.868005\n",
      "[14]\tvalid_0's binary_logloss: 0.502234\tvalid_0's auc: 0.870882\n",
      "[15]\tvalid_0's binary_logloss: 0.495851\tvalid_0's auc: 0.87263\n",
      "[16]\tvalid_0's binary_logloss: 0.490195\tvalid_0's auc: 0.874254\n",
      "[17]\tvalid_0's binary_logloss: 0.484891\tvalid_0's auc: 0.875838\n",
      "[18]\tvalid_0's binary_logloss: 0.47949\tvalid_0's auc: 0.877912\n",
      "[19]\tvalid_0's binary_logloss: 0.474403\tvalid_0's auc: 0.879657\n",
      "[20]\tvalid_0's binary_logloss: 0.469472\tvalid_0's auc: 0.881327\n",
      "[21]\tvalid_0's binary_logloss: 0.465001\tvalid_0's auc: 0.88286\n",
      "[22]\tvalid_0's binary_logloss: 0.460325\tvalid_0's auc: 0.884721\n",
      "[23]\tvalid_0's binary_logloss: 0.456001\tvalid_0's auc: 0.886394\n",
      "[24]\tvalid_0's binary_logloss: 0.452478\tvalid_0's auc: 0.887429\n",
      "[25]\tvalid_0's binary_logloss: 0.448223\tvalid_0's auc: 0.889418\n",
      "[26]\tvalid_0's binary_logloss: 0.44457\tvalid_0's auc: 0.891079\n",
      "[27]\tvalid_0's binary_logloss: 0.441325\tvalid_0's auc: 0.892151\n",
      "[28]\tvalid_0's binary_logloss: 0.438069\tvalid_0's auc: 0.893328\n",
      "[29]\tvalid_0's binary_logloss: 0.434654\tvalid_0's auc: 0.8946\n",
      "[30]\tvalid_0's binary_logloss: 0.431699\tvalid_0's auc: 0.895937\n",
      "[31]\tvalid_0's binary_logloss: 0.428779\tvalid_0's auc: 0.896873\n",
      "[32]\tvalid_0's binary_logloss: 0.426209\tvalid_0's auc: 0.897835\n",
      "[33]\tvalid_0's binary_logloss: 0.423438\tvalid_0's auc: 0.899009\n",
      "[34]\tvalid_0's binary_logloss: 0.42057\tvalid_0's auc: 0.900354\n",
      "[35]\tvalid_0's binary_logloss: 0.418491\tvalid_0's auc: 0.901124\n",
      "[36]\tvalid_0's binary_logloss: 0.415595\tvalid_0's auc: 0.902514\n",
      "[37]\tvalid_0's binary_logloss: 0.413257\tvalid_0's auc: 0.90346\n",
      "[38]\tvalid_0's binary_logloss: 0.411181\tvalid_0's auc: 0.904273\n",
      "[39]\tvalid_0's binary_logloss: 0.409209\tvalid_0's auc: 0.904889\n",
      "[40]\tvalid_0's binary_logloss: 0.407101\tvalid_0's auc: 0.905755\n",
      "[41]\tvalid_0's binary_logloss: 0.40428\tvalid_0's auc: 0.90712\n",
      "[42]\tvalid_0's binary_logloss: 0.402154\tvalid_0's auc: 0.908072\n",
      "[43]\tvalid_0's binary_logloss: 0.400443\tvalid_0's auc: 0.908595\n",
      "[44]\tvalid_0's binary_logloss: 0.398544\tvalid_0's auc: 0.909323\n",
      "[45]\tvalid_0's binary_logloss: 0.396996\tvalid_0's auc: 0.909854\n",
      "[46]\tvalid_0's binary_logloss: 0.395065\tvalid_0's auc: 0.910676\n",
      "[47]\tvalid_0's binary_logloss: 0.39294\tvalid_0's auc: 0.911626\n",
      "[48]\tvalid_0's binary_logloss: 0.391332\tvalid_0's auc: 0.912402\n",
      "[49]\tvalid_0's binary_logloss: 0.389276\tvalid_0's auc: 0.913428\n",
      "[50]\tvalid_0's binary_logloss: 0.387711\tvalid_0's auc: 0.91396\n",
      "[51]\tvalid_0's binary_logloss: 0.385941\tvalid_0's auc: 0.914829\n",
      "[52]\tvalid_0's binary_logloss: 0.384769\tvalid_0's auc: 0.915358\n",
      "[53]\tvalid_0's binary_logloss: 0.383098\tvalid_0's auc: 0.91617\n",
      "[54]\tvalid_0's binary_logloss: 0.381517\tvalid_0's auc: 0.916779\n",
      "[55]\tvalid_0's binary_logloss: 0.378499\tvalid_0's auc: 0.918314\n",
      "[56]\tvalid_0's binary_logloss: 0.377234\tvalid_0's auc: 0.918736\n",
      "[57]\tvalid_0's binary_logloss: 0.375606\tvalid_0's auc: 0.91956\n",
      "[58]\tvalid_0's binary_logloss: 0.373831\tvalid_0's auc: 0.920346\n",
      "[59]\tvalid_0's binary_logloss: 0.372802\tvalid_0's auc: 0.920697\n",
      "[60]\tvalid_0's binary_logloss: 0.371774\tvalid_0's auc: 0.921106\n",
      "[61]\tvalid_0's binary_logloss: 0.370608\tvalid_0's auc: 0.921513\n",
      "[62]\tvalid_0's binary_logloss: 0.36919\tvalid_0's auc: 0.922121\n",
      "[63]\tvalid_0's binary_logloss: 0.367794\tvalid_0's auc: 0.922727\n",
      "[64]\tvalid_0's binary_logloss: 0.366121\tvalid_0's auc: 0.923505\n",
      "[65]\tvalid_0's binary_logloss: 0.364484\tvalid_0's auc: 0.924284\n",
      "[66]\tvalid_0's binary_logloss: 0.363546\tvalid_0's auc: 0.924615\n",
      "[67]\tvalid_0's binary_logloss: 0.362615\tvalid_0's auc: 0.924916\n",
      "[68]\tvalid_0's binary_logloss: 0.361371\tvalid_0's auc: 0.925388\n",
      "[69]\tvalid_0's binary_logloss: 0.360451\tvalid_0's auc: 0.925716\n",
      "[70]\tvalid_0's binary_logloss: 0.359151\tvalid_0's auc: 0.926366\n",
      "[71]\tvalid_0's binary_logloss: 0.358414\tvalid_0's auc: 0.92662\n",
      "[72]\tvalid_0's binary_logloss: 0.357255\tvalid_0's auc: 0.927145\n",
      "[73]\tvalid_0's binary_logloss: 0.356008\tvalid_0's auc: 0.92776\n",
      "[74]\tvalid_0's binary_logloss: 0.355137\tvalid_0's auc: 0.928074\n",
      "[75]\tvalid_0's binary_logloss: 0.354415\tvalid_0's auc: 0.928393\n",
      "[76]\tvalid_0's binary_logloss: 0.352151\tvalid_0's auc: 0.929638\n",
      "[77]\tvalid_0's binary_logloss: 0.351241\tvalid_0's auc: 0.930014\n",
      "[78]\tvalid_0's binary_logloss: 0.350217\tvalid_0's auc: 0.930475\n",
      "[79]\tvalid_0's binary_logloss: 0.348904\tvalid_0's auc: 0.931141\n",
      "[80]\tvalid_0's binary_logloss: 0.347593\tvalid_0's auc: 0.931676\n",
      "[81]\tvalid_0's binary_logloss: 0.346336\tvalid_0's auc: 0.932286\n",
      "[82]\tvalid_0's binary_logloss: 0.34542\tvalid_0's auc: 0.932545\n",
      "[83]\tvalid_0's binary_logloss: 0.344211\tvalid_0's auc: 0.933091\n",
      "[84]\tvalid_0's binary_logloss: 0.34355\tvalid_0's auc: 0.933311\n",
      "[85]\tvalid_0's binary_logloss: 0.342746\tvalid_0's auc: 0.933559\n",
      "[86]\tvalid_0's binary_logloss: 0.341423\tvalid_0's auc: 0.934152\n",
      "[87]\tvalid_0's binary_logloss: 0.340565\tvalid_0's auc: 0.934405\n",
      "[88]\tvalid_0's binary_logloss: 0.339734\tvalid_0's auc: 0.934653\n",
      "[89]\tvalid_0's binary_logloss: 0.338753\tvalid_0's auc: 0.935088\n",
      "[90]\tvalid_0's binary_logloss: 0.338079\tvalid_0's auc: 0.935244\n",
      "Did not meet early stopping. Best iteration is:\n",
      "[90]\tvalid_0's binary_logloss: 0.338079\tvalid_0's auc: 0.935244\n",
      "[1]\tvalid_0's binary_logloss: 0.666628\tvalid_0's auc: 0.795909\n",
      "Training until validation scores don't improve for 5 rounds\n"
     ]
    },
    {
     "name": "stdout",
     "output_type": "stream",
     "text": [
      "[2]\tvalid_0's binary_logloss: 0.643476\tvalid_0's auc: 0.8211\n",
      "[3]\tvalid_0's binary_logloss: 0.624129\tvalid_0's auc: 0.826168\n"
     ]
    },
    {
     "ename": "KeyboardInterrupt",
     "evalue": "",
     "output_type": "error",
     "traceback": [
      "\u001b[1;31m---------------------------------------------------------------------------\u001b[0m",
      "\u001b[1;31mKeyboardInterrupt\u001b[0m                         Traceback (most recent call last)",
      "\u001b[1;32m<ipython-input-63-c356bd6de429>\u001b[0m in \u001b[0;36m<module>\u001b[1;34m\u001b[0m\n\u001b[0;32m     10\u001b[0m \u001b[0mgridsearch\u001b[0m \u001b[1;33m=\u001b[0m \u001b[0mGridSearchCV\u001b[0m\u001b[1;33m(\u001b[0m\u001b[0mestimator\u001b[0m\u001b[1;33m,\u001b[0m \u001b[0mparam_grid\u001b[0m\u001b[1;33m,\u001b[0m \u001b[0mscoring\u001b[0m\u001b[1;33m=\u001b[0m\u001b[1;34m'accuracy'\u001b[0m\u001b[1;33m)\u001b[0m\u001b[1;33m\u001b[0m\u001b[1;33m\u001b[0m\u001b[0m\n\u001b[0;32m     11\u001b[0m \u001b[1;33m\u001b[0m\u001b[0m\n\u001b[1;32m---> 12\u001b[1;33m gridsearch.fit(X_train, y_train,\n\u001b[0m\u001b[0;32m     13\u001b[0m         \u001b[0meval_set\u001b[0m \u001b[1;33m=\u001b[0m \u001b[1;33m[\u001b[0m\u001b[1;33m(\u001b[0m\u001b[0mX_test\u001b[0m\u001b[1;33m,\u001b[0m \u001b[0my_test\u001b[0m\u001b[1;33m)\u001b[0m\u001b[1;33m]\u001b[0m\u001b[1;33m,\u001b[0m\u001b[1;33m\u001b[0m\u001b[1;33m\u001b[0m\u001b[0m\n\u001b[0;32m     14\u001b[0m         \u001b[0meval_metric\u001b[0m \u001b[1;33m=\u001b[0m \u001b[1;33m[\u001b[0m\u001b[1;34m'auc'\u001b[0m\u001b[1;33m,\u001b[0m \u001b[1;34m'binary_logloss'\u001b[0m\u001b[1;33m]\u001b[0m\u001b[1;33m,\u001b[0m\u001b[1;33m\u001b[0m\u001b[1;33m\u001b[0m\u001b[0m\n",
      "\u001b[1;32mc:\\python38\\lib\\site-packages\\sklearn\\model_selection\\_search.py\u001b[0m in \u001b[0;36mfit\u001b[1;34m(self, X, y, groups, **fit_params)\u001b[0m\n\u001b[0;32m    708\u001b[0m                 \u001b[1;32mreturn\u001b[0m \u001b[0mresults\u001b[0m\u001b[1;33m\u001b[0m\u001b[1;33m\u001b[0m\u001b[0m\n\u001b[0;32m    709\u001b[0m \u001b[1;33m\u001b[0m\u001b[0m\n\u001b[1;32m--> 710\u001b[1;33m             \u001b[0mself\u001b[0m\u001b[1;33m.\u001b[0m\u001b[0m_run_search\u001b[0m\u001b[1;33m(\u001b[0m\u001b[0mevaluate_candidates\u001b[0m\u001b[1;33m)\u001b[0m\u001b[1;33m\u001b[0m\u001b[1;33m\u001b[0m\u001b[0m\n\u001b[0m\u001b[0;32m    711\u001b[0m \u001b[1;33m\u001b[0m\u001b[0m\n\u001b[0;32m    712\u001b[0m         \u001b[1;31m# For multi-metric evaluation, store the best_index_, best_params_ and\u001b[0m\u001b[1;33m\u001b[0m\u001b[1;33m\u001b[0m\u001b[1;33m\u001b[0m\u001b[0m\n",
      "\u001b[1;32mc:\\python38\\lib\\site-packages\\sklearn\\model_selection\\_search.py\u001b[0m in \u001b[0;36m_run_search\u001b[1;34m(self, evaluate_candidates)\u001b[0m\n\u001b[0;32m   1149\u001b[0m     \u001b[1;32mdef\u001b[0m \u001b[0m_run_search\u001b[0m\u001b[1;33m(\u001b[0m\u001b[0mself\u001b[0m\u001b[1;33m,\u001b[0m \u001b[0mevaluate_candidates\u001b[0m\u001b[1;33m)\u001b[0m\u001b[1;33m:\u001b[0m\u001b[1;33m\u001b[0m\u001b[1;33m\u001b[0m\u001b[0m\n\u001b[0;32m   1150\u001b[0m         \u001b[1;34m\"\"\"Search all candidates in param_grid\"\"\"\u001b[0m\u001b[1;33m\u001b[0m\u001b[1;33m\u001b[0m\u001b[0m\n\u001b[1;32m-> 1151\u001b[1;33m         \u001b[0mevaluate_candidates\u001b[0m\u001b[1;33m(\u001b[0m\u001b[0mParameterGrid\u001b[0m\u001b[1;33m(\u001b[0m\u001b[0mself\u001b[0m\u001b[1;33m.\u001b[0m\u001b[0mparam_grid\u001b[0m\u001b[1;33m)\u001b[0m\u001b[1;33m)\u001b[0m\u001b[1;33m\u001b[0m\u001b[1;33m\u001b[0m\u001b[0m\n\u001b[0m\u001b[0;32m   1152\u001b[0m \u001b[1;33m\u001b[0m\u001b[0m\n\u001b[0;32m   1153\u001b[0m \u001b[1;33m\u001b[0m\u001b[0m\n",
      "\u001b[1;32mc:\\python38\\lib\\site-packages\\sklearn\\model_selection\\_search.py\u001b[0m in \u001b[0;36mevaluate_candidates\u001b[1;34m(candidate_params)\u001b[0m\n\u001b[0;32m    680\u001b[0m                               n_splits, n_candidates, n_candidates * n_splits))\n\u001b[0;32m    681\u001b[0m \u001b[1;33m\u001b[0m\u001b[0m\n\u001b[1;32m--> 682\u001b[1;33m                 out = parallel(delayed(_fit_and_score)(clone(base_estimator),\n\u001b[0m\u001b[0;32m    683\u001b[0m                                                        \u001b[0mX\u001b[0m\u001b[1;33m,\u001b[0m \u001b[0my\u001b[0m\u001b[1;33m,\u001b[0m\u001b[1;33m\u001b[0m\u001b[1;33m\u001b[0m\u001b[0m\n\u001b[0;32m    684\u001b[0m                                                        \u001b[0mtrain\u001b[0m\u001b[1;33m=\u001b[0m\u001b[0mtrain\u001b[0m\u001b[1;33m,\u001b[0m \u001b[0mtest\u001b[0m\u001b[1;33m=\u001b[0m\u001b[0mtest\u001b[0m\u001b[1;33m,\u001b[0m\u001b[1;33m\u001b[0m\u001b[1;33m\u001b[0m\u001b[0m\n",
      "\u001b[1;32mc:\\python38\\lib\\site-packages\\joblib\\parallel.py\u001b[0m in \u001b[0;36m__call__\u001b[1;34m(self, iterable)\u001b[0m\n\u001b[0;32m   1005\u001b[0m                 \u001b[0mself\u001b[0m\u001b[1;33m.\u001b[0m\u001b[0m_iterating\u001b[0m \u001b[1;33m=\u001b[0m \u001b[0mself\u001b[0m\u001b[1;33m.\u001b[0m\u001b[0m_original_iterator\u001b[0m \u001b[1;32mis\u001b[0m \u001b[1;32mnot\u001b[0m \u001b[1;32mNone\u001b[0m\u001b[1;33m\u001b[0m\u001b[1;33m\u001b[0m\u001b[0m\n\u001b[0;32m   1006\u001b[0m \u001b[1;33m\u001b[0m\u001b[0m\n\u001b[1;32m-> 1007\u001b[1;33m             \u001b[1;32mwhile\u001b[0m \u001b[0mself\u001b[0m\u001b[1;33m.\u001b[0m\u001b[0mdispatch_one_batch\u001b[0m\u001b[1;33m(\u001b[0m\u001b[0miterator\u001b[0m\u001b[1;33m)\u001b[0m\u001b[1;33m:\u001b[0m\u001b[1;33m\u001b[0m\u001b[1;33m\u001b[0m\u001b[0m\n\u001b[0m\u001b[0;32m   1008\u001b[0m                 \u001b[1;32mpass\u001b[0m\u001b[1;33m\u001b[0m\u001b[1;33m\u001b[0m\u001b[0m\n\u001b[0;32m   1009\u001b[0m \u001b[1;33m\u001b[0m\u001b[0m\n",
      "\u001b[1;32mc:\\python38\\lib\\site-packages\\joblib\\parallel.py\u001b[0m in \u001b[0;36mdispatch_one_batch\u001b[1;34m(self, iterator)\u001b[0m\n\u001b[0;32m    833\u001b[0m                 \u001b[1;32mreturn\u001b[0m \u001b[1;32mFalse\u001b[0m\u001b[1;33m\u001b[0m\u001b[1;33m\u001b[0m\u001b[0m\n\u001b[0;32m    834\u001b[0m             \u001b[1;32melse\u001b[0m\u001b[1;33m:\u001b[0m\u001b[1;33m\u001b[0m\u001b[1;33m\u001b[0m\u001b[0m\n\u001b[1;32m--> 835\u001b[1;33m                 \u001b[0mself\u001b[0m\u001b[1;33m.\u001b[0m\u001b[0m_dispatch\u001b[0m\u001b[1;33m(\u001b[0m\u001b[0mtasks\u001b[0m\u001b[1;33m)\u001b[0m\u001b[1;33m\u001b[0m\u001b[1;33m\u001b[0m\u001b[0m\n\u001b[0m\u001b[0;32m    836\u001b[0m                 \u001b[1;32mreturn\u001b[0m \u001b[1;32mTrue\u001b[0m\u001b[1;33m\u001b[0m\u001b[1;33m\u001b[0m\u001b[0m\n\u001b[0;32m    837\u001b[0m \u001b[1;33m\u001b[0m\u001b[0m\n",
      "\u001b[1;32mc:\\python38\\lib\\site-packages\\joblib\\parallel.py\u001b[0m in \u001b[0;36m_dispatch\u001b[1;34m(self, batch)\u001b[0m\n\u001b[0;32m    752\u001b[0m         \u001b[1;32mwith\u001b[0m \u001b[0mself\u001b[0m\u001b[1;33m.\u001b[0m\u001b[0m_lock\u001b[0m\u001b[1;33m:\u001b[0m\u001b[1;33m\u001b[0m\u001b[1;33m\u001b[0m\u001b[0m\n\u001b[0;32m    753\u001b[0m             \u001b[0mjob_idx\u001b[0m \u001b[1;33m=\u001b[0m \u001b[0mlen\u001b[0m\u001b[1;33m(\u001b[0m\u001b[0mself\u001b[0m\u001b[1;33m.\u001b[0m\u001b[0m_jobs\u001b[0m\u001b[1;33m)\u001b[0m\u001b[1;33m\u001b[0m\u001b[1;33m\u001b[0m\u001b[0m\n\u001b[1;32m--> 754\u001b[1;33m             \u001b[0mjob\u001b[0m \u001b[1;33m=\u001b[0m \u001b[0mself\u001b[0m\u001b[1;33m.\u001b[0m\u001b[0m_backend\u001b[0m\u001b[1;33m.\u001b[0m\u001b[0mapply_async\u001b[0m\u001b[1;33m(\u001b[0m\u001b[0mbatch\u001b[0m\u001b[1;33m,\u001b[0m \u001b[0mcallback\u001b[0m\u001b[1;33m=\u001b[0m\u001b[0mcb\u001b[0m\u001b[1;33m)\u001b[0m\u001b[1;33m\u001b[0m\u001b[1;33m\u001b[0m\u001b[0m\n\u001b[0m\u001b[0;32m    755\u001b[0m             \u001b[1;31m# A job can complete so quickly than its callback is\u001b[0m\u001b[1;33m\u001b[0m\u001b[1;33m\u001b[0m\u001b[1;33m\u001b[0m\u001b[0m\n\u001b[0;32m    756\u001b[0m             \u001b[1;31m# called before we get here, causing self._jobs to\u001b[0m\u001b[1;33m\u001b[0m\u001b[1;33m\u001b[0m\u001b[1;33m\u001b[0m\u001b[0m\n",
      "\u001b[1;32mc:\\python38\\lib\\site-packages\\joblib\\_parallel_backends.py\u001b[0m in \u001b[0;36mapply_async\u001b[1;34m(self, func, callback)\u001b[0m\n\u001b[0;32m    207\u001b[0m     \u001b[1;32mdef\u001b[0m \u001b[0mapply_async\u001b[0m\u001b[1;33m(\u001b[0m\u001b[0mself\u001b[0m\u001b[1;33m,\u001b[0m \u001b[0mfunc\u001b[0m\u001b[1;33m,\u001b[0m \u001b[0mcallback\u001b[0m\u001b[1;33m=\u001b[0m\u001b[1;32mNone\u001b[0m\u001b[1;33m)\u001b[0m\u001b[1;33m:\u001b[0m\u001b[1;33m\u001b[0m\u001b[1;33m\u001b[0m\u001b[0m\n\u001b[0;32m    208\u001b[0m         \u001b[1;34m\"\"\"Schedule a func to be run\"\"\"\u001b[0m\u001b[1;33m\u001b[0m\u001b[1;33m\u001b[0m\u001b[0m\n\u001b[1;32m--> 209\u001b[1;33m         \u001b[0mresult\u001b[0m \u001b[1;33m=\u001b[0m \u001b[0mImmediateResult\u001b[0m\u001b[1;33m(\u001b[0m\u001b[0mfunc\u001b[0m\u001b[1;33m)\u001b[0m\u001b[1;33m\u001b[0m\u001b[1;33m\u001b[0m\u001b[0m\n\u001b[0m\u001b[0;32m    210\u001b[0m         \u001b[1;32mif\u001b[0m \u001b[0mcallback\u001b[0m\u001b[1;33m:\u001b[0m\u001b[1;33m\u001b[0m\u001b[1;33m\u001b[0m\u001b[0m\n\u001b[0;32m    211\u001b[0m             \u001b[0mcallback\u001b[0m\u001b[1;33m(\u001b[0m\u001b[0mresult\u001b[0m\u001b[1;33m)\u001b[0m\u001b[1;33m\u001b[0m\u001b[1;33m\u001b[0m\u001b[0m\n",
      "\u001b[1;32mc:\\python38\\lib\\site-packages\\joblib\\_parallel_backends.py\u001b[0m in \u001b[0;36m__init__\u001b[1;34m(self, batch)\u001b[0m\n\u001b[0;32m    588\u001b[0m         \u001b[1;31m# Don't delay the application, to avoid keeping the input\u001b[0m\u001b[1;33m\u001b[0m\u001b[1;33m\u001b[0m\u001b[1;33m\u001b[0m\u001b[0m\n\u001b[0;32m    589\u001b[0m         \u001b[1;31m# arguments in memory\u001b[0m\u001b[1;33m\u001b[0m\u001b[1;33m\u001b[0m\u001b[1;33m\u001b[0m\u001b[0m\n\u001b[1;32m--> 590\u001b[1;33m         \u001b[0mself\u001b[0m\u001b[1;33m.\u001b[0m\u001b[0mresults\u001b[0m \u001b[1;33m=\u001b[0m \u001b[0mbatch\u001b[0m\u001b[1;33m(\u001b[0m\u001b[1;33m)\u001b[0m\u001b[1;33m\u001b[0m\u001b[1;33m\u001b[0m\u001b[0m\n\u001b[0m\u001b[0;32m    591\u001b[0m \u001b[1;33m\u001b[0m\u001b[0m\n\u001b[0;32m    592\u001b[0m     \u001b[1;32mdef\u001b[0m \u001b[0mget\u001b[0m\u001b[1;33m(\u001b[0m\u001b[0mself\u001b[0m\u001b[1;33m)\u001b[0m\u001b[1;33m:\u001b[0m\u001b[1;33m\u001b[0m\u001b[1;33m\u001b[0m\u001b[0m\n",
      "\u001b[1;32mc:\\python38\\lib\\site-packages\\joblib\\parallel.py\u001b[0m in \u001b[0;36m__call__\u001b[1;34m(self)\u001b[0m\n\u001b[0;32m    253\u001b[0m         \u001b[1;31m# change the default number of processes to -1\u001b[0m\u001b[1;33m\u001b[0m\u001b[1;33m\u001b[0m\u001b[1;33m\u001b[0m\u001b[0m\n\u001b[0;32m    254\u001b[0m         \u001b[1;32mwith\u001b[0m \u001b[0mparallel_backend\u001b[0m\u001b[1;33m(\u001b[0m\u001b[0mself\u001b[0m\u001b[1;33m.\u001b[0m\u001b[0m_backend\u001b[0m\u001b[1;33m,\u001b[0m \u001b[0mn_jobs\u001b[0m\u001b[1;33m=\u001b[0m\u001b[0mself\u001b[0m\u001b[1;33m.\u001b[0m\u001b[0m_n_jobs\u001b[0m\u001b[1;33m)\u001b[0m\u001b[1;33m:\u001b[0m\u001b[1;33m\u001b[0m\u001b[1;33m\u001b[0m\u001b[0m\n\u001b[1;32m--> 255\u001b[1;33m             return [func(*args, **kwargs)\n\u001b[0m\u001b[0;32m    256\u001b[0m                     for func, args, kwargs in self.items]\n\u001b[0;32m    257\u001b[0m \u001b[1;33m\u001b[0m\u001b[0m\n",
      "\u001b[1;32mc:\\python38\\lib\\site-packages\\joblib\\parallel.py\u001b[0m in \u001b[0;36m<listcomp>\u001b[1;34m(.0)\u001b[0m\n\u001b[0;32m    253\u001b[0m         \u001b[1;31m# change the default number of processes to -1\u001b[0m\u001b[1;33m\u001b[0m\u001b[1;33m\u001b[0m\u001b[1;33m\u001b[0m\u001b[0m\n\u001b[0;32m    254\u001b[0m         \u001b[1;32mwith\u001b[0m \u001b[0mparallel_backend\u001b[0m\u001b[1;33m(\u001b[0m\u001b[0mself\u001b[0m\u001b[1;33m.\u001b[0m\u001b[0m_backend\u001b[0m\u001b[1;33m,\u001b[0m \u001b[0mn_jobs\u001b[0m\u001b[1;33m=\u001b[0m\u001b[0mself\u001b[0m\u001b[1;33m.\u001b[0m\u001b[0m_n_jobs\u001b[0m\u001b[1;33m)\u001b[0m\u001b[1;33m:\u001b[0m\u001b[1;33m\u001b[0m\u001b[1;33m\u001b[0m\u001b[0m\n\u001b[1;32m--> 255\u001b[1;33m             return [func(*args, **kwargs)\n\u001b[0m\u001b[0;32m    256\u001b[0m                     for func, args, kwargs in self.items]\n\u001b[0;32m    257\u001b[0m \u001b[1;33m\u001b[0m\u001b[0m\n",
      "\u001b[1;32mc:\\python38\\lib\\site-packages\\sklearn\\model_selection\\_validation.py\u001b[0m in \u001b[0;36m_fit_and_score\u001b[1;34m(estimator, X, y, scorer, train, test, verbose, parameters, fit_params, return_train_score, return_parameters, return_n_test_samples, return_times, return_estimator, error_score)\u001b[0m\n\u001b[0;32m    513\u001b[0m             \u001b[0mestimator\u001b[0m\u001b[1;33m.\u001b[0m\u001b[0mfit\u001b[0m\u001b[1;33m(\u001b[0m\u001b[0mX_train\u001b[0m\u001b[1;33m,\u001b[0m \u001b[1;33m**\u001b[0m\u001b[0mfit_params\u001b[0m\u001b[1;33m)\u001b[0m\u001b[1;33m\u001b[0m\u001b[1;33m\u001b[0m\u001b[0m\n\u001b[0;32m    514\u001b[0m         \u001b[1;32melse\u001b[0m\u001b[1;33m:\u001b[0m\u001b[1;33m\u001b[0m\u001b[1;33m\u001b[0m\u001b[0m\n\u001b[1;32m--> 515\u001b[1;33m             \u001b[0mestimator\u001b[0m\u001b[1;33m.\u001b[0m\u001b[0mfit\u001b[0m\u001b[1;33m(\u001b[0m\u001b[0mX_train\u001b[0m\u001b[1;33m,\u001b[0m \u001b[0my_train\u001b[0m\u001b[1;33m,\u001b[0m \u001b[1;33m**\u001b[0m\u001b[0mfit_params\u001b[0m\u001b[1;33m)\u001b[0m\u001b[1;33m\u001b[0m\u001b[1;33m\u001b[0m\u001b[0m\n\u001b[0m\u001b[0;32m    516\u001b[0m \u001b[1;33m\u001b[0m\u001b[0m\n\u001b[0;32m    517\u001b[0m     \u001b[1;32mexcept\u001b[0m \u001b[0mException\u001b[0m \u001b[1;32mas\u001b[0m \u001b[0me\u001b[0m\u001b[1;33m:\u001b[0m\u001b[1;33m\u001b[0m\u001b[1;33m\u001b[0m\u001b[0m\n",
      "\u001b[1;32mc:\\python38\\lib\\site-packages\\lightgbm\\sklearn.py\u001b[0m in \u001b[0;36mfit\u001b[1;34m(self, X, y, sample_weight, init_score, eval_set, eval_names, eval_sample_weight, eval_class_weight, eval_init_score, eval_metric, early_stopping_rounds, verbose, feature_name, categorical_feature, callbacks)\u001b[0m\n\u001b[0;32m    793\u001b[0m                     \u001b[0meval_set\u001b[0m\u001b[1;33m[\u001b[0m\u001b[0mi\u001b[0m\u001b[1;33m]\u001b[0m \u001b[1;33m=\u001b[0m \u001b[1;33m(\u001b[0m\u001b[0mvalid_x\u001b[0m\u001b[1;33m,\u001b[0m \u001b[0mself\u001b[0m\u001b[1;33m.\u001b[0m\u001b[0m_le\u001b[0m\u001b[1;33m.\u001b[0m\u001b[0mtransform\u001b[0m\u001b[1;33m(\u001b[0m\u001b[0mvalid_y\u001b[0m\u001b[1;33m)\u001b[0m\u001b[1;33m)\u001b[0m\u001b[1;33m\u001b[0m\u001b[1;33m\u001b[0m\u001b[0m\n\u001b[0;32m    794\u001b[0m \u001b[1;33m\u001b[0m\u001b[0m\n\u001b[1;32m--> 795\u001b[1;33m         super(LGBMClassifier, self).fit(X, _y, sample_weight=sample_weight,\n\u001b[0m\u001b[0;32m    796\u001b[0m                                         \u001b[0minit_score\u001b[0m\u001b[1;33m=\u001b[0m\u001b[0minit_score\u001b[0m\u001b[1;33m,\u001b[0m \u001b[0meval_set\u001b[0m\u001b[1;33m=\u001b[0m\u001b[0meval_set\u001b[0m\u001b[1;33m,\u001b[0m\u001b[1;33m\u001b[0m\u001b[1;33m\u001b[0m\u001b[0m\n\u001b[0;32m    797\u001b[0m                                         \u001b[0meval_names\u001b[0m\u001b[1;33m=\u001b[0m\u001b[0meval_names\u001b[0m\u001b[1;33m,\u001b[0m\u001b[1;33m\u001b[0m\u001b[1;33m\u001b[0m\u001b[0m\n",
      "\u001b[1;32mc:\\python38\\lib\\site-packages\\lightgbm\\sklearn.py\u001b[0m in \u001b[0;36mfit\u001b[1;34m(self, X, y, sample_weight, init_score, group, eval_set, eval_names, eval_sample_weight, eval_class_weight, eval_init_score, eval_group, eval_metric, early_stopping_rounds, verbose, feature_name, categorical_feature, callbacks)\u001b[0m\n\u001b[0;32m    592\u001b[0m                 \u001b[0mvalid_sets\u001b[0m\u001b[1;33m.\u001b[0m\u001b[0mappend\u001b[0m\u001b[1;33m(\u001b[0m\u001b[0mvalid_set\u001b[0m\u001b[1;33m)\u001b[0m\u001b[1;33m\u001b[0m\u001b[1;33m\u001b[0m\u001b[0m\n\u001b[0;32m    593\u001b[0m \u001b[1;33m\u001b[0m\u001b[0m\n\u001b[1;32m--> 594\u001b[1;33m         self._Booster = train(params, train_set,\n\u001b[0m\u001b[0;32m    595\u001b[0m                               \u001b[0mself\u001b[0m\u001b[1;33m.\u001b[0m\u001b[0mn_estimators\u001b[0m\u001b[1;33m,\u001b[0m \u001b[0mvalid_sets\u001b[0m\u001b[1;33m=\u001b[0m\u001b[0mvalid_sets\u001b[0m\u001b[1;33m,\u001b[0m \u001b[0mvalid_names\u001b[0m\u001b[1;33m=\u001b[0m\u001b[0meval_names\u001b[0m\u001b[1;33m,\u001b[0m\u001b[1;33m\u001b[0m\u001b[1;33m\u001b[0m\u001b[0m\n\u001b[0;32m    596\u001b[0m                               \u001b[0mearly_stopping_rounds\u001b[0m\u001b[1;33m=\u001b[0m\u001b[0mearly_stopping_rounds\u001b[0m\u001b[1;33m,\u001b[0m\u001b[1;33m\u001b[0m\u001b[1;33m\u001b[0m\u001b[0m\n",
      "\u001b[1;32mc:\\python38\\lib\\site-packages\\lightgbm\\engine.py\u001b[0m in \u001b[0;36mtrain\u001b[1;34m(params, train_set, num_boost_round, valid_sets, valid_names, fobj, feval, init_model, feature_name, categorical_feature, early_stopping_rounds, evals_result, verbose_eval, learning_rates, keep_training_booster, callbacks)\u001b[0m\n\u001b[0;32m    254\u001b[0m             \u001b[1;32mif\u001b[0m \u001b[0mis_valid_contain_train\u001b[0m\u001b[1;33m:\u001b[0m\u001b[1;33m\u001b[0m\u001b[1;33m\u001b[0m\u001b[0m\n\u001b[0;32m    255\u001b[0m                 \u001b[0mevaluation_result_list\u001b[0m\u001b[1;33m.\u001b[0m\u001b[0mextend\u001b[0m\u001b[1;33m(\u001b[0m\u001b[0mbooster\u001b[0m\u001b[1;33m.\u001b[0m\u001b[0meval_train\u001b[0m\u001b[1;33m(\u001b[0m\u001b[0mfeval\u001b[0m\u001b[1;33m)\u001b[0m\u001b[1;33m)\u001b[0m\u001b[1;33m\u001b[0m\u001b[1;33m\u001b[0m\u001b[0m\n\u001b[1;32m--> 256\u001b[1;33m             \u001b[0mevaluation_result_list\u001b[0m\u001b[1;33m.\u001b[0m\u001b[0mextend\u001b[0m\u001b[1;33m(\u001b[0m\u001b[0mbooster\u001b[0m\u001b[1;33m.\u001b[0m\u001b[0meval_valid\u001b[0m\u001b[1;33m(\u001b[0m\u001b[0mfeval\u001b[0m\u001b[1;33m)\u001b[0m\u001b[1;33m)\u001b[0m\u001b[1;33m\u001b[0m\u001b[1;33m\u001b[0m\u001b[0m\n\u001b[0m\u001b[0;32m    257\u001b[0m         \u001b[1;32mtry\u001b[0m\u001b[1;33m:\u001b[0m\u001b[1;33m\u001b[0m\u001b[1;33m\u001b[0m\u001b[0m\n\u001b[0;32m    258\u001b[0m             \u001b[1;32mfor\u001b[0m \u001b[0mcb\u001b[0m \u001b[1;32min\u001b[0m \u001b[0mcallbacks_after_iter\u001b[0m\u001b[1;33m:\u001b[0m\u001b[1;33m\u001b[0m\u001b[1;33m\u001b[0m\u001b[0m\n",
      "\u001b[1;32mc:\\python38\\lib\\site-packages\\lightgbm\\basic.py\u001b[0m in \u001b[0;36meval_valid\u001b[1;34m(self, feval)\u001b[0m\n\u001b[0;32m   2185\u001b[0m             \u001b[0mList\u001b[0m \u001b[1;32mwith\u001b[0m \u001b[0mevaluation\u001b[0m \u001b[0mresults\u001b[0m\u001b[1;33m.\u001b[0m\u001b[1;33m\u001b[0m\u001b[1;33m\u001b[0m\u001b[0m\n\u001b[0;32m   2186\u001b[0m         \"\"\"\n\u001b[1;32m-> 2187\u001b[1;33m         return [item for i in range_(1, self.__num_dataset)\n\u001b[0m\u001b[0;32m   2188\u001b[0m                 for item in self.__inner_eval(self.name_valid_sets[i - 1], i, feval)]\n\u001b[0;32m   2189\u001b[0m \u001b[1;33m\u001b[0m\u001b[0m\n",
      "\u001b[1;32mc:\\python38\\lib\\site-packages\\lightgbm\\basic.py\u001b[0m in \u001b[0;36m<listcomp>\u001b[1;34m(.0)\u001b[0m\n\u001b[0;32m   2186\u001b[0m         \"\"\"\n\u001b[0;32m   2187\u001b[0m         return [item for i in range_(1, self.__num_dataset)\n\u001b[1;32m-> 2188\u001b[1;33m                 for item in self.__inner_eval(self.name_valid_sets[i - 1], i, feval)]\n\u001b[0m\u001b[0;32m   2189\u001b[0m \u001b[1;33m\u001b[0m\u001b[0m\n\u001b[0;32m   2190\u001b[0m     \u001b[1;32mdef\u001b[0m \u001b[0msave_model\u001b[0m\u001b[1;33m(\u001b[0m\u001b[0mself\u001b[0m\u001b[1;33m,\u001b[0m \u001b[0mfilename\u001b[0m\u001b[1;33m,\u001b[0m \u001b[0mnum_iteration\u001b[0m\u001b[1;33m=\u001b[0m\u001b[1;32mNone\u001b[0m\u001b[1;33m,\u001b[0m \u001b[0mstart_iteration\u001b[0m\u001b[1;33m=\u001b[0m\u001b[1;36m0\u001b[0m\u001b[1;33m)\u001b[0m\u001b[1;33m:\u001b[0m\u001b[1;33m\u001b[0m\u001b[1;33m\u001b[0m\u001b[0m\n",
      "\u001b[1;32mc:\\python38\\lib\\site-packages\\lightgbm\\basic.py\u001b[0m in \u001b[0;36m__inner_eval\u001b[1;34m(self, data_name, data_idx, feval)\u001b[0m\n\u001b[0;32m   2641\u001b[0m             \u001b[0mresult\u001b[0m \u001b[1;33m=\u001b[0m \u001b[0mnp\u001b[0m\u001b[1;33m.\u001b[0m\u001b[0mzeros\u001b[0m\u001b[1;33m(\u001b[0m\u001b[0mself\u001b[0m\u001b[1;33m.\u001b[0m\u001b[0m__num_inner_eval\u001b[0m\u001b[1;33m,\u001b[0m \u001b[0mdtype\u001b[0m\u001b[1;33m=\u001b[0m\u001b[0mnp\u001b[0m\u001b[1;33m.\u001b[0m\u001b[0mfloat64\u001b[0m\u001b[1;33m)\u001b[0m\u001b[1;33m\u001b[0m\u001b[1;33m\u001b[0m\u001b[0m\n\u001b[0;32m   2642\u001b[0m             \u001b[0mtmp_out_len\u001b[0m \u001b[1;33m=\u001b[0m \u001b[0mctypes\u001b[0m\u001b[1;33m.\u001b[0m\u001b[0mc_int\u001b[0m\u001b[1;33m(\u001b[0m\u001b[1;36m0\u001b[0m\u001b[1;33m)\u001b[0m\u001b[1;33m\u001b[0m\u001b[1;33m\u001b[0m\u001b[0m\n\u001b[1;32m-> 2643\u001b[1;33m             _safe_call(_LIB.LGBM_BoosterGetEval(\n\u001b[0m\u001b[0;32m   2644\u001b[0m                 \u001b[0mself\u001b[0m\u001b[1;33m.\u001b[0m\u001b[0mhandle\u001b[0m\u001b[1;33m,\u001b[0m\u001b[1;33m\u001b[0m\u001b[1;33m\u001b[0m\u001b[0m\n\u001b[0;32m   2645\u001b[0m                 \u001b[0mctypes\u001b[0m\u001b[1;33m.\u001b[0m\u001b[0mc_int\u001b[0m\u001b[1;33m(\u001b[0m\u001b[0mdata_idx\u001b[0m\u001b[1;33m)\u001b[0m\u001b[1;33m,\u001b[0m\u001b[1;33m\u001b[0m\u001b[1;33m\u001b[0m\u001b[0m\n",
      "\u001b[1;31mKeyboardInterrupt\u001b[0m: "
     ]
    }
   ],
   "source": [
    "# Optimisation des paramètre à choisir pour le modèle\n",
    "from sklearn.model_selection import GridSearchCV\n",
    "estimator = lgb.LGBMClassifier(learning_rate = 0.125, metric = 'auc', \n",
    "                        n_estimators = 20, num_leaves = 38)\n",
    "\n",
    "\n",
    "param_grid = {\n",
    "    'n_estimators': [x for x in range(90,102,2)],\n",
    "    'learning_rate': [0.10, 0.125, 0.15, 0.175, 0.2]}\n",
    "gridsearch = GridSearchCV(estimator, param_grid, scoring='accuracy')\n",
    "\n",
    "gridsearch.fit(X_train, y_train,\n",
    "        eval_set = [(X_test, y_test)],\n",
    "        eval_metric = ['auc', 'binary_logloss'],\n",
    "        early_stopping_rounds = 5)"
   ]
  },
  {
   "cell_type": "code",
   "execution_count": 17,
   "metadata": {},
   "outputs": [
    {
     "name": "stdout",
     "output_type": "stream",
     "text": [
      "Best parameters found by grid search are: {'learning_rate': 0.175, 'n_estimators': 100}\n"
     ]
    }
   ],
   "source": [
    "print('Best parameters found by grid search are:', gridsearch.best_params_)"
   ]
  },
  {
   "cell_type": "code",
   "execution_count": 81,
   "metadata": {},
   "outputs": [
    {
     "name": "stdout",
     "output_type": "stream",
     "text": [
      "Score de précision du modèle : 0.8919\n"
     ]
    }
   ],
   "source": [
    "import lightgbm as lgb\n",
    "from sklearn.model_selection import train_test_split\n",
    "from sklearn.metrics import auc, accuracy_score, roc_auc_score, roc_curve, confusion_matrix\n",
    "%matplotlib inline\n",
    "import seaborn as sns\n",
    "import matplotlib.pyplot as plt\n",
    "\n",
    "# Fractionnement du dataset en deux sous-jeux: un pour l'entrainement et l'autre pour tester\n",
    "X_train, X_test, y_train, y_test = train_test_split(X_res, y_res, test_size=0.30, random_state=20)\n",
    "\n",
    "# Paramètres optimisés via GridSearch\n",
    "clf = lgb.LGBMClassifier( boosting_type='gbdt', class_weight=None, colsample_bytree=1.0,\n",
    "               importance_type='split', learning_rate=0.175, max_depth=-1,\n",
    "               min_child_samples=20, min_child_weight=0.001, min_split_gain=0.0,\n",
    "               n_estimators=100, n_jobs=-1, num_leaves=31, objective=None,\n",
    "               random_state=None, reg_alpha=0.0, reg_lambda=0.0, silent=True,\n",
    "               subsample=1.0, subsample_for_bin=200000, subsample_freq=0 )\n",
    "\n",
    "clf.fit(X_train, y_train)\n",
    "\n",
    "# évaluation de la performance du modèle\n",
    "y_pred=clf.predict(X_test)\n",
    "accuracy=accuracy_score(y_pred, y_test)\n",
    "print('Score de précision du modèle : {0:0.4f}'.format(accuracy))"
   ]
  },
  {
   "cell_type": "code",
   "execution_count": 82,
   "metadata": {},
   "outputs": [
    {
     "data": {
      "image/png": "[encoded data removed]",
      "text/plain": [
       "<Figure size 432x288 with 1 Axes>"
      ]
     },
     "metadata": {
      "needs_background": "light"
     },
     "output_type": "display_data"
    }
   ],
   "source": [
    "from sklearn.metrics import roc_auc_score\n",
    "from sklearn.metrics import roc_curve\n",
    "clf_roc_auc = roc_auc_score(y_test, clf.predict(X_test))\n",
    "fpr, tpr, thresholds = roc_curve(y_test, clf.predict_proba(X_test)[:,1])\n",
    "plt.figure()\n",
    "plt.plot(fpr, tpr, label='LightGBM classifier (area = %0.2f)' % clf_roc_auc)\n",
    "plt.plot([0, 1], [0, 1],'r--')\n",
    "plt.xlim([0.0, 1.0])\n",
    "plt.ylim([0.0, 1.05])\n",
    "plt.xlabel('False Positive Rate')\n",
    "plt.ylabel('True Positive Rate')\n",
    "plt.title('Receiver operating characteristic')\n",
    "plt.legend(loc=\"lower right\")\n",
    "#plt.savefig('Log_ROC')\n",
    "plt.show()"
   ]
  },
  {
   "cell_type": "code",
   "execution_count": 83,
   "metadata": {},
   "outputs": [
    {
     "name": "stdout",
     "output_type": "stream",
     "text": [
      "Matrice confusion \n",
      "\n",
      " [[4647  860]\n",
      " [ 326 5135]]\n",
      "\n",
      "True Positives(TP) =  5135\n",
      "\n",
      "True Negatives(TN) =  4647\n",
      "\n",
      "False Positives(FP) =  326\n",
      "\n",
      "False Negatives(FN) =  860\n"
     ]
    }
   ],
   "source": [
    "#Matrice de confusion\n",
    "from sklearn.metrics import confusion_matrix\n",
    "cm = confusion_matrix(y_test, y_pred)\n",
    "print('Matrice confusion \\n\\n', cm)\n",
    "print('\\nTrue Positives(TP) = ', cm[1,1])\n",
    "print('\\nTrue Negatives(TN) = ', cm[0,0])\n",
    "print('\\nFalse Positives(FP) = ', cm[1,0])\n",
    "print('\\nFalse Negatives(FN) = ', cm[0,1])"
   ]
  },
  {
   "cell_type": "code",
   "execution_count": 85,
   "metadata": {},
   "outputs": [
    {
     "data": {
      "image/png": "[encoded data removed]",
      "text/plain": [
       "<Figure size 1152x576 with 2 Axes>"
      ]
     },
     "metadata": {
      "needs_background": "light"
     },
     "output_type": "display_data"
    }
   ],
   "source": [
    "cm = confusion_matrix(y_test, y_pred)\n",
    "mc_matrice = pd.DataFrame(data=cm, columns=['Classe réelle:0', 'Classe réelle:1'], \n",
    "                                 index=['Classe prédite:0', 'Classe prédite:1'])\n",
    "plt.figure(figsize=(16,8))\n",
    "ax1=plt.axes()\n",
    "sns.heatmap(mc_matrice, ax=ax1, annot=True, fmt='d', cmap='BuPu')\n",
    "ax1.set_title('Matrice de confusion')\n",
    "\n",
    "plt.show()"
   ]
  },
  {
   "cell_type": "code",
   "execution_count": 86,
   "metadata": {},
   "outputs": [
    {
     "name": "stdout",
     "output_type": "stream",
     "text": [
      "              precision    recall  f1-score   support\n",
      "\n",
      "           0       0.93      0.84      0.89      5507\n",
      "           1       0.86      0.94      0.90      5461\n",
      "\n",
      "    accuracy                           0.89     10968\n",
      "   macro avg       0.90      0.89      0.89     10968\n",
      "weighted avg       0.90      0.89      0.89     10968\n",
      "\n"
     ]
    }
   ],
   "source": [
    "from sklearn.metrics import classification_report\n",
    "print(classification_report(y_test, y_pred))"
   ]
  },
  {
   "cell_type": "code",
   "execution_count": 90,
   "metadata": {},
   "outputs": [
    {
     "data": {
      "image/png": "[encoded data removed]",
      "text/plain": [
       "<Figure size 1152x576 with 1 Axes>"
      ]
     },
     "metadata": {
      "needs_background": "light"
     },
     "output_type": "display_data"
    }
   ],
   "source": [
    "#plt.figure(figsize=(16,8))\n",
    "ax=lgb.plot_importance(clf, height = 0.4,                  \n",
    "                         max_num_features = 10, \n",
    "                         importance_type='split',\n",
    "                         xlim = (0,500), ylim = (0,10),color='b', \n",
    "                         figsize = (16,8))\n",
    "\n",
    "\n",
    "plt.show()"
   ]
  },
  {
   "cell_type": "markdown",
   "metadata": {},
   "source": [
    "### Plus de données, même modèle"
   ]
  },
  {
   "cell_type": "code",
   "execution_count": 92,
   "metadata": {},
   "outputs": [
    {
     "name": "stdout",
     "output_type": "stream",
     "text": [
      "Score de précision du modèle: 0.9805\n"
     ]
    }
   ],
   "source": [
    "X=df[['acoustique', 'dansabilite', 'energie', 'instrumentalite', 'vivacite','intensite','eloquence', 'valence','tempo','duree','featuring','pop_artiste','tot_followers','marche_disp','pop_chanson']]\n",
    "y=df['hit']\n",
    "\n",
    "X_res, y_res = sm.fit_resample(X, y)\n",
    "X_train, X_test, y_train, y_test = train_test_split(X_res, y_res, test_size=0.30, random_state=20)\n",
    "\n",
    "clf.fit(X_train, y_train)\n",
    "\n",
    "y_pred=clf.predict(X_test)\n",
    "accuracy=accuracy_score(y_pred, y_test)\n",
    "print('Score de précision du modèle: {0:0.4f}'.format(accuracy))"
   ]
  },
  {
   "cell_type": "code",
   "execution_count": 93,
   "metadata": {},
   "outputs": [
    {
     "data": {
      "image/png": "[encoded data removed]",
      "text/plain": [
       "<Figure size 1152x576 with 2 Axes>"
      ]
     },
     "metadata": {
      "needs_background": "light"
     },
     "output_type": "display_data"
    }
   ],
   "source": [
    "cm = confusion_matrix(y_test, y_pred)\n",
    "mc_matrice = pd.DataFrame(data=cm, columns=['Classe réelle:0', 'Classe réelle:1'], \n",
    "                                 index=['Classe prédite:0', 'Classe prédite:1'])\n",
    "plt.figure(figsize=(16,8))\n",
    "ax2=plt.axes()\n",
    "sns.heatmap(mc_matrice, ax=ax2, annot=True, fmt='d', cmap='BuPu')\n",
    "ax2.set_title('Matrice de confusion')\n",
    "plt.show()"
   ]
  },
  {
   "cell_type": "code",
   "execution_count": 94,
   "metadata": {},
   "outputs": [
    {
     "data": {
      "image/png": "[encoded data removed]",
      "text/plain": [
       "<Figure size 1152x576 with 1 Axes>"
      ]
     },
     "metadata": {
      "needs_background": "light"
     },
     "output_type": "display_data"
    }
   ],
   "source": [
    "ax=lgb.plot_importance(clf, height = 0.4,                  \n",
    "                         max_num_features = 18, \n",
    "                         importance_type='split',\n",
    "                         xlim = (0,800), ylim = (0,16), color='r',\n",
    "                         figsize = (16,8))\n",
    "plt.show()"
   ]
  },
  {
   "cell_type": "code",
   "execution_count": null,
   "metadata": {},
   "outputs": [],
   "source": []
  }
 ],
 "metadata": {
  "kernelspec": {
   "display_name": "Python 3",
   "language": "python",
   "name": "python3"
  },
  "language_info": {
   "codemirror_mode": {
    "name": "ipython",
    "version": 3
   },
   "file_extension": ".py",
   "mimetype": "text/x-python",
   "name": "python",
   "nbconvert_exporter": "python",
   "pygments_lexer": "ipython3",
   "version": "3.8.2"
  }
 },
 "nbformat": 4,
 "nbformat_minor": 4
}
