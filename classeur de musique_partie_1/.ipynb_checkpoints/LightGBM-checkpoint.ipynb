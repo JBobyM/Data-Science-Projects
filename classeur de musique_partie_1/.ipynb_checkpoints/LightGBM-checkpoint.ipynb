{
 "cells": [
  {
   "cell_type": "code",
   "execution_count": 107,
   "metadata": {},
   "outputs": [],
   "source": [
    "import pandas as pd\n",
    "df2=pd.read_csv(r'C:\\Users\\Kathee\\Documents\\Blog content\\spotify_data_20000.csv')\n",
    "df1=pd.read_csv(r'C:\\Users\\Kathee\\Documents\\Blog content\\bilboard_data.csv')"
   ]
  },
  {
   "cell_type": "code",
   "execution_count": 108,
   "metadata": {},
   "outputs": [],
   "source": [
    "df1['pop']=1\n",
    "df2['pop']=0\n",
    "df2['search'] = df2['artist_name'] + \" \" + df2[\"track_name\"]\n",
    "df1['search'] = df1['artist_name'] + \" \" + df1[\"track_name\"]"
   ]
  },
  {
   "cell_type": "code",
   "execution_count": 109,
   "metadata": {},
   "outputs": [
    {
     "data": {
      "text/plain": [
       "(22903, 21)"
      ]
     },
     "execution_count": 109,
     "metadata": {},
     "output_type": "execute_result"
    }
   ],
   "source": [
    "new_df=pd.concat([df2,df1],ignore_index=True)\n",
    "new_df.shape"
   ]
  },
  {
   "cell_type": "code",
   "execution_count": 110,
   "metadata": {},
   "outputs": [
    {
     "data": {
      "text/plain": [
       "(19182, 21)"
      ]
     },
     "execution_count": 110,
     "metadata": {},
     "output_type": "execute_result"
    }
   ],
   "source": [
    "# supprime toutes doublures\n",
    "new_df=new_df.drop_duplicates(subset=['search'],keep='last')\n",
    "new_df.shape"
   ]
  },
  {
   "cell_type": "code",
   "execution_count": 111,
   "metadata": {},
   "outputs": [],
   "source": [
    "new_df['rel_date']=pd.to_datetime(new_df['rel_date'])\n",
    "new_df['rel_month'] = new_df['rel_date'].apply(lambda m: m.month)\n",
    "new_df['rel_day'] = new_df['rel_date'].apply(lambda d: d.day)\n",
    "new_df['rel_weekday'] = new_df['rel_date'].apply(lambda w: w.weekday())"
   ]
  },
  {
   "cell_type": "code",
   "execution_count": 112,
   "metadata": {},
   "outputs": [],
   "source": [
    "new_df.drop(['track_name','search','artist_name','rel_date','tot_followers', 'pop_track', 'pop_artist',\n",
    "        'rel_weekday','rel_day','rel_month','key'],axis=1,inplace=True)"
   ]
  },
  {
   "cell_type": "code",
   "execution_count": 113,
   "metadata": {},
   "outputs": [
    {
     "data": {
      "text/html": [
       "<div>\n",
       "<style scoped>\n",
       "    .dataframe tbody tr th:only-of-type {\n",
       "        vertical-align: middle;\n",
       "    }\n",
       "\n",
       "    .dataframe tbody tr th {\n",
       "        vertical-align: top;\n",
       "    }\n",
       "\n",
       "    .dataframe thead th {\n",
       "        text-align: right;\n",
       "    }\n",
       "</style>\n",
       "<table border=\"1\" class=\"dataframe\">\n",
       "  <thead>\n",
       "    <tr style=\"text-align: right;\">\n",
       "      <th></th>\n",
       "      <th>avail_mark</th>\n",
       "      <th>acousticness</th>\n",
       "      <th>danceability</th>\n",
       "      <th>duration_ms</th>\n",
       "      <th>energy</th>\n",
       "      <th>instrumentalness</th>\n",
       "      <th>liveness</th>\n",
       "      <th>loudness</th>\n",
       "      <th>speechiness</th>\n",
       "      <th>tempo</th>\n",
       "      <th>time_signature</th>\n",
       "      <th>valence</th>\n",
       "      <th>pop</th>\n",
       "    </tr>\n",
       "  </thead>\n",
       "  <tbody>\n",
       "    <tr>\n",
       "      <th>avail_mark</th>\n",
       "      <td>1.000000</td>\n",
       "      <td>0.071460</td>\n",
       "      <td>0.062515</td>\n",
       "      <td>-0.046042</td>\n",
       "      <td>-0.097853</td>\n",
       "      <td>0.045535</td>\n",
       "      <td>-0.009403</td>\n",
       "      <td>-0.084119</td>\n",
       "      <td>0.074946</td>\n",
       "      <td>-0.022017</td>\n",
       "      <td>-0.023025</td>\n",
       "      <td>-0.013247</td>\n",
       "      <td>-0.055961</td>\n",
       "    </tr>\n",
       "    <tr>\n",
       "      <th>acousticness</th>\n",
       "      <td>0.071460</td>\n",
       "      <td>1.000000</td>\n",
       "      <td>-0.198682</td>\n",
       "      <td>-0.034908</td>\n",
       "      <td>-0.685199</td>\n",
       "      <td>0.300507</td>\n",
       "      <td>-0.108174</td>\n",
       "      <td>-0.565236</td>\n",
       "      <td>-0.076353</td>\n",
       "      <td>-0.172687</td>\n",
       "      <td>-0.160653</td>\n",
       "      <td>-0.199755</td>\n",
       "      <td>-0.083309</td>\n",
       "    </tr>\n",
       "    <tr>\n",
       "      <th>danceability</th>\n",
       "      <td>0.062515</td>\n",
       "      <td>-0.198682</td>\n",
       "      <td>1.000000</td>\n",
       "      <td>-0.156646</td>\n",
       "      <td>0.136025</td>\n",
       "      <td>-0.365928</td>\n",
       "      <td>-0.115753</td>\n",
       "      <td>0.365936</td>\n",
       "      <td>0.221480</td>\n",
       "      <td>0.011578</td>\n",
       "      <td>0.225354</td>\n",
       "      <td>0.455778</td>\n",
       "      <td>0.089733</td>\n",
       "    </tr>\n",
       "    <tr>\n",
       "      <th>duration_ms</th>\n",
       "      <td>-0.046042</td>\n",
       "      <td>-0.034908</td>\n",
       "      <td>-0.156646</td>\n",
       "      <td>1.000000</td>\n",
       "      <td>0.022297</td>\n",
       "      <td>0.031960</td>\n",
       "      <td>0.034210</td>\n",
       "      <td>-0.017594</td>\n",
       "      <td>-0.044306</td>\n",
       "      <td>-0.018408</td>\n",
       "      <td>-0.016041</td>\n",
       "      <td>-0.149444</td>\n",
       "      <td>-0.004829</td>\n",
       "    </tr>\n",
       "    <tr>\n",
       "      <th>energy</th>\n",
       "      <td>-0.097853</td>\n",
       "      <td>-0.685199</td>\n",
       "      <td>0.136025</td>\n",
       "      <td>0.022297</td>\n",
       "      <td>1.000000</td>\n",
       "      <td>-0.318405</td>\n",
       "      <td>0.189106</td>\n",
       "      <td>0.706761</td>\n",
       "      <td>0.075588</td>\n",
       "      <td>0.219348</td>\n",
       "      <td>0.193981</td>\n",
       "      <td>0.375677</td>\n",
       "      <td>0.048477</td>\n",
       "    </tr>\n",
       "    <tr>\n",
       "      <th>instrumentalness</th>\n",
       "      <td>0.045535</td>\n",
       "      <td>0.300507</td>\n",
       "      <td>-0.365928</td>\n",
       "      <td>0.031960</td>\n",
       "      <td>-0.318405</td>\n",
       "      <td>1.000000</td>\n",
       "      <td>0.033854</td>\n",
       "      <td>-0.629057</td>\n",
       "      <td>-0.134096</td>\n",
       "      <td>-0.152501</td>\n",
       "      <td>-0.170830</td>\n",
       "      <td>-0.290956</td>\n",
       "      <td>-0.053629</td>\n",
       "    </tr>\n",
       "    <tr>\n",
       "      <th>liveness</th>\n",
       "      <td>-0.009403</td>\n",
       "      <td>-0.108174</td>\n",
       "      <td>-0.115753</td>\n",
       "      <td>0.034210</td>\n",
       "      <td>0.189106</td>\n",
       "      <td>0.033854</td>\n",
       "      <td>1.000000</td>\n",
       "      <td>0.034379</td>\n",
       "      <td>0.114325</td>\n",
       "      <td>-0.007087</td>\n",
       "      <td>-0.023974</td>\n",
       "      <td>-0.007604</td>\n",
       "      <td>-0.027868</td>\n",
       "    </tr>\n",
       "    <tr>\n",
       "      <th>loudness</th>\n",
       "      <td>-0.084119</td>\n",
       "      <td>-0.565236</td>\n",
       "      <td>0.365936</td>\n",
       "      <td>-0.017594</td>\n",
       "      <td>0.706761</td>\n",
       "      <td>-0.629057</td>\n",
       "      <td>0.034379</td>\n",
       "      <td>1.000000</td>\n",
       "      <td>0.049124</td>\n",
       "      <td>0.237593</td>\n",
       "      <td>0.233340</td>\n",
       "      <td>0.389207</td>\n",
       "      <td>0.076070</td>\n",
       "    </tr>\n",
       "    <tr>\n",
       "      <th>speechiness</th>\n",
       "      <td>0.074946</td>\n",
       "      <td>-0.076353</td>\n",
       "      <td>0.221480</td>\n",
       "      <td>-0.044306</td>\n",
       "      <td>0.075588</td>\n",
       "      <td>-0.134096</td>\n",
       "      <td>0.114325</td>\n",
       "      <td>0.049124</td>\n",
       "      <td>1.000000</td>\n",
       "      <td>0.071159</td>\n",
       "      <td>0.077575</td>\n",
       "      <td>0.057629</td>\n",
       "      <td>-0.001639</td>\n",
       "    </tr>\n",
       "    <tr>\n",
       "      <th>tempo</th>\n",
       "      <td>-0.022017</td>\n",
       "      <td>-0.172687</td>\n",
       "      <td>0.011578</td>\n",
       "      <td>-0.018408</td>\n",
       "      <td>0.219348</td>\n",
       "      <td>-0.152501</td>\n",
       "      <td>-0.007087</td>\n",
       "      <td>0.237593</td>\n",
       "      <td>0.071159</td>\n",
       "      <td>1.000000</td>\n",
       "      <td>0.116379</td>\n",
       "      <td>0.107616</td>\n",
       "      <td>0.011330</td>\n",
       "    </tr>\n",
       "    <tr>\n",
       "      <th>time_signature</th>\n",
       "      <td>-0.023025</td>\n",
       "      <td>-0.160653</td>\n",
       "      <td>0.225354</td>\n",
       "      <td>-0.016041</td>\n",
       "      <td>0.193981</td>\n",
       "      <td>-0.170830</td>\n",
       "      <td>-0.023974</td>\n",
       "      <td>0.233340</td>\n",
       "      <td>0.077575</td>\n",
       "      <td>0.116379</td>\n",
       "      <td>1.000000</td>\n",
       "      <td>0.111599</td>\n",
       "      <td>0.042383</td>\n",
       "    </tr>\n",
       "    <tr>\n",
       "      <th>valence</th>\n",
       "      <td>-0.013247</td>\n",
       "      <td>-0.199755</td>\n",
       "      <td>0.455778</td>\n",
       "      <td>-0.149444</td>\n",
       "      <td>0.375677</td>\n",
       "      <td>-0.290956</td>\n",
       "      <td>-0.007604</td>\n",
       "      <td>0.389207</td>\n",
       "      <td>0.057629</td>\n",
       "      <td>0.107616</td>\n",
       "      <td>0.111599</td>\n",
       "      <td>1.000000</td>\n",
       "      <td>0.048259</td>\n",
       "    </tr>\n",
       "    <tr>\n",
       "      <th>pop</th>\n",
       "      <td>-0.055961</td>\n",
       "      <td>-0.083309</td>\n",
       "      <td>0.089733</td>\n",
       "      <td>-0.004829</td>\n",
       "      <td>0.048477</td>\n",
       "      <td>-0.053629</td>\n",
       "      <td>-0.027868</td>\n",
       "      <td>0.076070</td>\n",
       "      <td>-0.001639</td>\n",
       "      <td>0.011330</td>\n",
       "      <td>0.042383</td>\n",
       "      <td>0.048259</td>\n",
       "      <td>1.000000</td>\n",
       "    </tr>\n",
       "  </tbody>\n",
       "</table>\n",
       "</div>"
      ],
      "text/plain": [
       "                  avail_mark  acousticness  danceability  duration_ms  \\\n",
       "avail_mark          1.000000      0.071460      0.062515    -0.046042   \n",
       "acousticness        0.071460      1.000000     -0.198682    -0.034908   \n",
       "danceability        0.062515     -0.198682      1.000000    -0.156646   \n",
       "duration_ms        -0.046042     -0.034908     -0.156646     1.000000   \n",
       "energy             -0.097853     -0.685199      0.136025     0.022297   \n",
       "instrumentalness    0.045535      0.300507     -0.365928     0.031960   \n",
       "liveness           -0.009403     -0.108174     -0.115753     0.034210   \n",
       "loudness           -0.084119     -0.565236      0.365936    -0.017594   \n",
       "speechiness         0.074946     -0.076353      0.221480    -0.044306   \n",
       "tempo              -0.022017     -0.172687      0.011578    -0.018408   \n",
       "time_signature     -0.023025     -0.160653      0.225354    -0.016041   \n",
       "valence            -0.013247     -0.199755      0.455778    -0.149444   \n",
       "pop                -0.055961     -0.083309      0.089733    -0.004829   \n",
       "\n",
       "                    energy  instrumentalness  liveness  loudness  speechiness  \\\n",
       "avail_mark       -0.097853          0.045535 -0.009403 -0.084119     0.074946   \n",
       "acousticness     -0.685199          0.300507 -0.108174 -0.565236    -0.076353   \n",
       "danceability      0.136025         -0.365928 -0.115753  0.365936     0.221480   \n",
       "duration_ms       0.022297          0.031960  0.034210 -0.017594    -0.044306   \n",
       "energy            1.000000         -0.318405  0.189106  0.706761     0.075588   \n",
       "instrumentalness -0.318405          1.000000  0.033854 -0.629057    -0.134096   \n",
       "liveness          0.189106          0.033854  1.000000  0.034379     0.114325   \n",
       "loudness          0.706761         -0.629057  0.034379  1.000000     0.049124   \n",
       "speechiness       0.075588         -0.134096  0.114325  0.049124     1.000000   \n",
       "tempo             0.219348         -0.152501 -0.007087  0.237593     0.071159   \n",
       "time_signature    0.193981         -0.170830 -0.023974  0.233340     0.077575   \n",
       "valence           0.375677         -0.290956 -0.007604  0.389207     0.057629   \n",
       "pop               0.048477         -0.053629 -0.027868  0.076070    -0.001639   \n",
       "\n",
       "                     tempo  time_signature   valence       pop  \n",
       "avail_mark       -0.022017       -0.023025 -0.013247 -0.055961  \n",
       "acousticness     -0.172687       -0.160653 -0.199755 -0.083309  \n",
       "danceability      0.011578        0.225354  0.455778  0.089733  \n",
       "duration_ms      -0.018408       -0.016041 -0.149444 -0.004829  \n",
       "energy            0.219348        0.193981  0.375677  0.048477  \n",
       "instrumentalness -0.152501       -0.170830 -0.290956 -0.053629  \n",
       "liveness         -0.007087       -0.023974 -0.007604 -0.027868  \n",
       "loudness          0.237593        0.233340  0.389207  0.076070  \n",
       "speechiness       0.071159        0.077575  0.057629 -0.001639  \n",
       "tempo             1.000000        0.116379  0.107616  0.011330  \n",
       "time_signature    0.116379        1.000000  0.111599  0.042383  \n",
       "valence           0.107616        0.111599  1.000000  0.048259  \n",
       "pop               0.011330        0.042383  0.048259  1.000000  "
      ]
     },
     "execution_count": 113,
     "metadata": {},
     "output_type": "execute_result"
    }
   ],
   "source": [
    "new_df.corr()"
   ]
  },
  {
   "cell_type": "code",
   "execution_count": 76,
   "metadata": {},
   "outputs": [
    {
     "name": "stdout",
     "output_type": "stream",
     "text": [
      "<class 'pandas.core.frame.DataFrame'>\n",
      "Int64Index: 19182 entries, 199 to 22902\n",
      "Data columns (total 14 columns):\n",
      " #   Column            Non-Null Count  Dtype  \n",
      "---  ------            --------------  -----  \n",
      " 0   avail_mark        19182 non-null  int64  \n",
      " 1   acousticness      19182 non-null  float64\n",
      " 2   danceability      19182 non-null  float64\n",
      " 3   duration_ms       19182 non-null  int64  \n",
      " 4   energy            19182 non-null  float64\n",
      " 5   instrumentalness  19182 non-null  float64\n",
      " 6   liveness          19182 non-null  float64\n",
      " 7   loudness          19182 non-null  float64\n",
      " 8   speechiness       19182 non-null  float64\n",
      " 9   tempo             19182 non-null  float64\n",
      " 10  time_signature    19182 non-null  int64  \n",
      " 11  valence           19182 non-null  float64\n",
      " 12  pop               19182 non-null  int64  \n",
      " 13  key               902 non-null    float64\n",
      "dtypes: float64(10), int64(4)\n",
      "memory usage: 2.2 MB\n"
     ]
    }
   ],
   "source": [
    "new_df.info()"
   ]
  },
  {
   "cell_type": "code",
   "execution_count": 15,
   "metadata": {},
   "outputs": [
    {
     "data": {
      "image/png": "[encoded data removed]",
      "text/plain": [
       "<Figure size 864x576 with 1 Axes>"
      ]
     },
     "metadata": {
      "needs_background": "light"
     },
     "output_type": "display_data"
    }
   ],
   "source": [
    "import matplotlib.pyplot as plt\n",
    "plt.figure(figsize=(12,8))\n",
    "plt.hist(new_df[new_df['pop']==1]['rel_weekday'], bins=14)\n",
    "plt.title(\"Weekday release\")\n",
    "plt.show()"
   ]
  },
  {
   "cell_type": "code",
   "execution_count": 16,
   "metadata": {},
   "outputs": [
    {
     "data": {
      "image/png": "[encoded data removed]",
      "text/plain": [
       "<Figure size 864x576 with 1 Axes>"
      ]
     },
     "metadata": {
      "needs_background": "light"
     },
     "output_type": "display_data"
    }
   ],
   "source": [
    "import matplotlib.pyplot as plt\n",
    "plt.figure(figsize=(12,8))\n",
    "plt.hist(new_df[new_df['pop']==0]['rel_weekday'], bins=14)\n",
    "plt.title(\"Weekday release\")\n",
    "plt.show()"
   ]
  },
  {
   "cell_type": "code",
   "execution_count": 48,
   "metadata": {},
   "outputs": [
    {
     "name": "stdout",
     "output_type": "stream",
     "text": [
      "<class 'pandas.core.frame.DataFrame'>\n",
      "RangeIndex: 17642 entries, 0 to 17641\n",
      "Data columns (total 20 columns):\n",
      " #   Column            Non-Null Count  Dtype  \n",
      "---  ------            --------------  -----  \n",
      " 0   pop_artist        17642 non-null  int64  \n",
      " 1   tot_followers     17642 non-null  int64  \n",
      " 2   avail_mark        17642 non-null  int64  \n",
      " 3   pop_track         17642 non-null  int64  \n",
      " 4   acousticness      17642 non-null  float64\n",
      " 5   danceability      17642 non-null  float64\n",
      " 6   duration_ms       17642 non-null  int64  \n",
      " 7   energy            17642 non-null  float64\n",
      " 8   instrumentalness  17642 non-null  float64\n",
      " 9   key               17642 non-null  int64  \n",
      " 10  liveness          17642 non-null  float64\n",
      " 11  loudness          17642 non-null  float64\n",
      " 12  speechiness       17642 non-null  float64\n",
      " 13  tempo             17642 non-null  float64\n",
      " 14  time_signature    17642 non-null  int64  \n",
      " 15  valence           17642 non-null  float64\n",
      " 16  featuring         17642 non-null  int64  \n",
      " 17  rel_month         17642 non-null  int64  \n",
      " 18  rel_day           17642 non-null  int64  \n",
      " 19  rel_weekday       17642 non-null  int64  \n",
      "dtypes: float64(9), int64(11)\n",
      "memory usage: 2.7 MB\n"
     ]
    }
   ],
   "source": [
    "X_res.info()"
   ]
  },
  {
   "cell_type": "code",
   "execution_count": 10,
   "metadata": {},
   "outputs": [
    {
     "data": {
      "image/png": "[encoded data removed]",
      "text/plain": [
       "<Figure size 864x576 with 1 Axes>"
      ]
     },
     "metadata": {
      "needs_background": "light"
     },
     "output_type": "display_data"
    }
   ],
   "source": [
    "import matplotlib.pyplot as plt\n",
    "plt.figure(figsize=(12,8))\n",
    "plt.hist(new_df[new_df['pop']==1]['rel_month'], bins=30)\n",
    "plt.title(\"month release\")\n",
    "plt.show()"
   ]
  },
  {
   "cell_type": "code",
   "execution_count": 17,
   "metadata": {},
   "outputs": [
    {
     "data": {
      "image/png": "[encoded data removed]",
      "text/plain": [
       "<Figure size 864x576 with 1 Axes>"
      ]
     },
     "metadata": {
      "needs_background": "light"
     },
     "output_type": "display_data"
    }
   ],
   "source": [
    "import matplotlib.pyplot as plt\n",
    "plt.figure(figsize=(12,8))\n",
    "plt.hist(new_df[new_df['pop']==0]['rel_month'], bins=30)\n",
    "plt.title(\"month release\")\n",
    "plt.show()"
   ]
  },
  {
   "cell_type": "code",
   "execution_count": 11,
   "metadata": {},
   "outputs": [
    {
     "data": {
      "image/png": "[encoded data removed]",
      "text/plain": [
       "<Figure size 864x576 with 1 Axes>"
      ]
     },
     "metadata": {
      "needs_background": "light"
     },
     "output_type": "display_data"
    }
   ],
   "source": [
    "import matplotlib.pyplot as plt\n",
    "plt.figure(figsize=(12,8))\n",
    "plt.hist(df[df['pop']==1]['rel_day'], bins=62)\n",
    "plt.title(\"day release\")\n",
    "plt.show()"
   ]
  },
  {
   "cell_type": "code",
   "execution_count": 114,
   "metadata": {},
   "outputs": [],
   "source": [
    "X=new_df.drop('pop', axis=1)\n",
    "y=new_df['pop']"
   ]
  },
  {
   "cell_type": "code",
   "execution_count": 34,
   "metadata": {},
   "outputs": [],
   "source": [
    "new_df=new_df.drop('key',axis=1)"
   ]
  },
  {
   "cell_type": "code",
   "execution_count": 115,
   "metadata": {},
   "outputs": [
    {
     "data": {
      "text/plain": [
       "avail_mark          0\n",
       "acousticness        0\n",
       "danceability        0\n",
       "duration_ms         0\n",
       "energy              0\n",
       "instrumentalness    0\n",
       "liveness            0\n",
       "loudness            0\n",
       "speechiness         0\n",
       "tempo               0\n",
       "time_signature      0\n",
       "valence             0\n",
       "pop                 0\n",
       "dtype: int64"
      ]
     },
     "execution_count": 115,
     "metadata": {},
     "output_type": "execute_result"
    }
   ],
   "source": [
    "new_df.isna().sum()"
   ]
  },
  {
   "cell_type": "code",
   "execution_count": 116,
   "metadata": {},
   "outputs": [],
   "source": [
    "# Oversampling the data\n",
    "from imblearn.over_sampling import SMOTE\n",
    "sm = SMOTE(random_state=42)\n",
    "X_res, y_res = sm.fit_resample(X, y)"
   ]
  },
  {
   "cell_type": "code",
   "execution_count": 117,
   "metadata": {},
   "outputs": [
    {
     "data": {
      "text/plain": [
       "(36560, 12)"
      ]
     },
     "execution_count": 117,
     "metadata": {},
     "output_type": "execute_result"
    }
   ],
   "source": [
    "X_res.shape"
   ]
  },
  {
   "cell_type": "code",
   "execution_count": 39,
   "metadata": {},
   "outputs": [],
   "source": [
    "import pandas as pd\n",
    "import lightgbm as lgb\n",
    "import numpy as np\n",
    "from sklearn.model_selection import train_test_split\n",
    "from sklearn.metrics import auc, accuracy_score, roc_auc_score, roc_curve\n",
    "from sklearn.model_selection import GridSearchCV\n",
    "%matplotlib inline\n",
    "import matplotlib.pyplot as plt"
   ]
  },
  {
   "cell_type": "code",
   "execution_count": 118,
   "metadata": {},
   "outputs": [
    {
     "data": {
      "text/plain": [
       "(25592, 12)"
      ]
     },
     "execution_count": 118,
     "metadata": {},
     "output_type": "execute_result"
    }
   ],
   "source": [
    "X_train, X_test, y_train, y_test = train_test_split(X_res, y_res, test_size=0.30, random_state=20)\n",
    "X_train.shape"
   ]
  },
  {
   "cell_type": "code",
   "execution_count": 51,
   "metadata": {},
   "outputs": [
    {
     "data": {
      "text/plain": [
       "(13427, 18)"
      ]
     },
     "execution_count": 51,
     "metadata": {},
     "output_type": "execute_result"
    }
   ],
   "source": [
    "# Without oversampling\n",
    "X_train, X_test, y_train, y_test = train_test_split(X, y, test_size=0.30, random_state=20)\n",
    "X_train.shape"
   ]
  },
  {
   "cell_type": "code",
   "execution_count": 119,
   "metadata": {},
   "outputs": [
    {
     "data": {
      "text/plain": [
       "LGBMClassifier(boosting_type='gbdt', class_weight=None, colsample_bytree=1.0,\n",
       "               importance_type='split', learning_rate=0.1, max_depth=-1,\n",
       "               min_child_samples=20, min_child_weight=0.001, min_split_gain=0.0,\n",
       "               n_estimators=100, n_jobs=-1, num_leaves=31, objective=None,\n",
       "               random_state=None, reg_alpha=0.0, reg_lambda=0.0, silent=True,\n",
       "               subsample=1.0, subsample_for_bin=200000, subsample_freq=0)"
      ]
     },
     "execution_count": 119,
     "metadata": {},
     "output_type": "execute_result"
    }
   ],
   "source": [
    "clf = lgb.LGBMClassifier()\n",
    "clf.fit(X_train, y_train)"
   ]
  },
  {
   "cell_type": "code",
   "execution_count": 120,
   "metadata": {},
   "outputs": [
    {
     "data": {
      "text/plain": [
       "array([0, 1, 1, ..., 1, 0, 0], dtype=int64)"
      ]
     },
     "execution_count": 120,
     "metadata": {},
     "output_type": "execute_result"
    }
   ],
   "source": [
    "y_pred=clf.predict(X_test)\n",
    "y_pred"
   ]
  },
  {
   "cell_type": "code",
   "execution_count": 121,
   "metadata": {},
   "outputs": [
    {
     "name": "stdout",
     "output_type": "stream",
     "text": [
      "LightGBM Model accuracy score: 0.8771\n"
     ]
    }
   ],
   "source": [
    "from sklearn.metrics import accuracy_score\n",
    "accuracy=accuracy_score(y_pred, y_test)\n",
    "print('LightGBM Model accuracy score: {0:0.4f}'.format(accuracy_score(y_test, y_pred)))"
   ]
  },
  {
   "cell_type": "code",
   "execution_count": 122,
   "metadata": {},
   "outputs": [
    {
     "name": "stdout",
     "output_type": "stream",
     "text": [
      "Training-set accuracy score: 0.9095\n"
     ]
    }
   ],
   "source": [
    "y_pred_train = clf.predict(X_train)\n",
    "print('Training-set accuracy score: {0:0.4f}'. format(accuracy_score(y_train, y_pred_train)))"
   ]
  },
  {
   "cell_type": "code",
   "execution_count": 123,
   "metadata": {},
   "outputs": [
    {
     "name": "stdout",
     "output_type": "stream",
     "text": [
      "Training set score: 0.9095\n",
      "Test set score: 0.8771\n"
     ]
    }
   ],
   "source": [
    "# print the scores on training and test set\n",
    "\n",
    "print('Training set score: {:.4f}'.format(clf.score(X_train, y_train)))\n",
    "\n",
    "print('Test set score: {:.4f}'.format(clf.score(X_test, y_test)))\n"
   ]
  },
  {
   "cell_type": "code",
   "execution_count": 65,
   "metadata": {},
   "outputs": [
    {
     "name": "stdout",
     "output_type": "stream",
     "text": [
      "Confusion matrix\n",
      "\n",
      " [[5194  318]\n",
      " [ 128 5328]]\n",
      "\n",
      "True Positives(TP) =  5194\n",
      "\n",
      "True Negatives(TN) =  5328\n",
      "\n",
      "False Positives(FP) =  318\n",
      "\n",
      "False Negatives(FN) =  128\n"
     ]
    }
   ],
   "source": [
    "from sklearn.metrics import confusion_matrix\n",
    "cm = confusion_matrix(y_test, y_pred)\n",
    "print('Confusion matrix\\n\\n', cm)\n",
    "print('\\nTrue Positives(TP) = ', cm[0,0])\n",
    "print('\\nTrue Negatives(TN) = ', cm[1,1])\n",
    "print('\\nFalse Positives(FP) = ', cm[0,1])\n",
    "print('\\nFalse Negatives(FN) = ', cm[1,0])"
   ]
  },
  {
   "cell_type": "code",
   "execution_count": 49,
   "metadata": {},
   "outputs": [
    {
     "data": {
      "text/plain": [
       "<matplotlib.axes._subplots.AxesSubplot at 0x1b317f4ac10>"
      ]
     },
     "execution_count": 49,
     "metadata": {},
     "output_type": "execute_result"
    },
    {
     "data": {
      "image/png": "[encoded data removed]",
      "text/plain": [
       "<Figure size 432x288 with 2 Axes>"
      ]
     },
     "metadata": {
      "needs_background": "light"
     },
     "output_type": "display_data"
    }
   ],
   "source": [
    "import seaborn as sns\n",
    "cm_matrix = pd.DataFrame(data=cm, columns=['Actual Positive:1', 'Actual Negative:0'], \n",
    "                                 index=['Predict Positive:1', 'Predict Negative:0'])\n",
    "\n",
    "sns.heatmap(cm_matrix, annot=True, fmt='d', cmap='YlGnBu')"
   ]
  },
  {
   "cell_type": "code",
   "execution_count": 91,
   "metadata": {},
   "outputs": [
    {
     "name": "stdout",
     "output_type": "stream",
     "text": [
      "              precision    recall  f1-score   support\n",
      "\n",
      "           0       0.98      0.94      0.96      5512\n",
      "           1       0.94      0.98      0.96      5456\n",
      "\n",
      "    accuracy                           0.96     10968\n",
      "   macro avg       0.96      0.96      0.96     10968\n",
      "weighted avg       0.96      0.96      0.96     10968\n",
      "\n"
     ]
    }
   ],
   "source": [
    "from sklearn.metrics import classification_report\n",
    "print(classification_report(y_test, y_pred))"
   ]
  },
  {
   "cell_type": "code",
   "execution_count": 124,
   "metadata": {},
   "outputs": [
    {
     "name": "stdout",
     "output_type": "stream",
     "text": [
      "LightGBM Model accuracy score: 0.8788\n"
     ]
    }
   ],
   "source": [
    "from sklearn.metrics import f1_score\n",
    "#accuracy=accuracy_score(y_pred, y_test)\n",
    "print('LightGBM Model accuracy score: {0:0.4f}'.format(f1_score(y_test, y_pred)))"
   ]
  },
  {
   "cell_type": "code",
   "execution_count": 125,
   "metadata": {},
   "outputs": [
    {
     "data": {
      "image/png": "[encoded data removed]",
      "text/plain": [
       "<Figure size 720x432 with 1 Axes>"
      ]
     },
     "metadata": {
      "needs_background": "light"
     },
     "output_type": "display_data"
    }
   ],
   "source": [
    "ax=lgb.plot_importance(clf, height = 0.4,\n",
    "                       importance_type='gain',\n",
    "                         max_num_features = 18, \n",
    "                         xlim = (0,50000), ylim = (0,23), \n",
    "                         figsize = (10,6))\n",
    "plt.show()"
   ]
  },
  {
   "cell_type": "code",
   "execution_count": 126,
   "metadata": {},
   "outputs": [
    {
     "data": {
      "image/png": "[encoded data removed]",
      "text/plain": [
       "<Figure size 720x432 with 1 Axes>"
      ]
     },
     "metadata": {
      "needs_background": "light"
     },
     "output_type": "display_data"
    }
   ],
   "source": [
    "ax=lgb.plot_importance(clf, height = 0.4,                  \n",
    "                         max_num_features = 18, \n",
    "                         xlim = (0,600), ylim = (0,23), \n",
    "                         figsize = (10,6))\n",
    "plt.show()"
   ]
  },
  {
   "cell_type": "markdown",
   "metadata": {},
   "source": [
    "# Essai un RandomForestClassifier"
   ]
  },
  {
   "cell_type": "code",
   "execution_count": null,
   "metadata": {},
   "outputs": [],
   "source": []
  }
 ],
 "metadata": {
  "kernelspec": {
   "display_name": "Python 3",
   "language": "python",
   "name": "python3"
  },
  "language_info": {
   "codemirror_mode": {
    "name": "ipython",
    "version": 3
   },
   "file_extension": ".py",
   "mimetype": "text/x-python",
   "name": "python",
   "nbconvert_exporter": "python",
   "pygments_lexer": "ipython3",
   "version": "3.8.2"
  }
 },
 "nbformat": 4,
 "nbformat_minor": 4
}
